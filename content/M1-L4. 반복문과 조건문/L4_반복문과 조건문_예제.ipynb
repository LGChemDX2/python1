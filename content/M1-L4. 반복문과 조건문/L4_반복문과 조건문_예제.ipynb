{
  "metadata": {
    "colab": {
      "provenance": []
    },
    "kernelspec": {
      "name": "python",
      "display_name": "Python (Pyodide)",
      "language": "python"
    },
    "language_info": {
      "codemirror_mode": {
        "name": "python",
        "version": 3
      },
      "file_extension": ".py",
      "mimetype": "text/x-python",
      "name": "python",
      "nbconvert_exporter": "python",
      "pygments_lexer": "ipython3",
      "version": "3.8"
    }
  },
  "nbformat_minor": 4,
  "nbformat": 4,
  "cells": [
    {
      "cell_type": "markdown",
      "source": "# **Lesson 4. 반복문과 조건문**\n데이터 분석 초급 과정 1 (Python) > Module 1. Python Basics",
      "metadata": {
        "id": "se5EyHOgOEqo"
      }
    },
    {
      "cell_type": "markdown",
      "source": "## **Topic 1. if 문**\n\n- 가장 대표적인 제어문이 if 문입니다.\n- 특정 조건에 맞는 경우에만 코드를 실행하고 싶을 때 사용합니다.",
      "metadata": {
        "id": "tjS-Gb1XOEqs"
      }
    },
    {
      "cell_type": "markdown",
      "source": "### **1) 단순 if 문**\n\n- 조건이 참인 경우만 처리합니다.\n- 조건이 거짓인 경우는 아무 처리도 하지 않습니다.\n\n<img src='https://raw.githubusercontent.com/jangrae/img/master/if.png' width=200 align=\"left\"/>",
      "metadata": {
        "id": "CzIMBHAk8LXn"
      }
    },
    {
      "cell_type": "code",
      "source": "# 변수 선언\nmy_score = 73\n\n# 80보다 크거나 같으면 10 더하기\nif my_score >= 80:\n    my_score += 10\n\n# 결과 출력\nprint(my_score)",
      "metadata": {
        "id": "APEHdmqO8LXo"
      },
      "execution_count": null,
      "outputs": []
    },
    {
      "cell_type": "code",
      "source": "# 리스트 선언\nscore_list = []\n\n# 리스트에 요소가 있으면 출력, 없으면 말고\nif len(score_list) > 0:\n    print(score_list)",
      "metadata": {
        "id": "4_iWM-VC-01X"
      },
      "execution_count": null,
      "outputs": []
    },
    {
      "cell_type": "code",
      "source": "# 리스트 선언\nscore1 = [75, 80, 70, 95, 90]\nscore2 = []\n\n# 요소가 있으면 True, 없으면 False\nprint(bool(score1), bool(score2))",
      "metadata": {
        "id": "tsuq1YaJ_YiP"
      },
      "execution_count": null,
      "outputs": []
    },
    {
      "cell_type": "code",
      "source": "# 리스트 선언\nscore_list = [75, 80, 70, 95, 90]\n\n# 리스트에 요소가 있으면 출력, 없으면 말고\nif score_list:\n    print(score_list)",
      "metadata": {
        "id": "m2NuEbGNWl_r"
      },
      "execution_count": null,
      "outputs": []
    },
    {
      "cell_type": "markdown",
      "source": "### **2) if ~ else 문**\n\n- 조건이 참인 경우와 참이 아닌 경우 각각 처리합니다.\n\n<img src='https://raw.githubusercontent.com/jangrae/img/master/if_else.png' width=200 align=\"left\"/>",
      "metadata": {
        "id": "X7mQYEaB8LXt"
      }
    },
    {
      "cell_type": "code",
      "source": "# 변수 선언\nmy_score = 73\n\n# 80보다 크거나 같으면 Pass, 아니면 Fail\nif my_score >= 80:\n    my_result = 'Pass'\nelse:\n    my_result = 'Fail'\n\n# 결과 출력\nprint(my_result)",
      "metadata": {
        "id": "JSjs-LF38LXv"
      },
      "execution_count": null,
      "outputs": []
    },
    {
      "cell_type": "code",
      "source": "# 리스트 선언\nscore_list = [75, 80, 70, 95, 90]\n\n# 리스트에 요소가 있으면 출력, 없으면 '요소 없음' 출력\nif score_list:\n    print(score_list)\nelse:\n    print('요소 없음')",
      "metadata": {
        "id": "TbCGWwvXXYAj"
      },
      "execution_count": null,
      "outputs": []
    },
    {
      "cell_type": "markdown",
      "source": "- 처리할 구문이 한 줄이라면 다음과 같이 작성할 수 있습니다.",
      "metadata": {
        "id": "pq0GORoCzQlW"
      }
    },
    {
      "cell_type": "code",
      "source": "# 리스트 선언\nscore_list = [75, 80, 70, 95, 90]\n\n# 한 줄로 작성하기\nif score_list: print(score_list)\nelse: print('요소 없음')",
      "metadata": {
        "id": "q8bbeB5mzKaP"
      },
      "execution_count": null,
      "outputs": []
    },
    {
      "cell_type": "markdown",
      "source": "- 처리할 구문이 없거나 이후에 작성할 목적으로 pass를 사용할 수 있습니다.",
      "metadata": {
        "id": "q0UphLSizjJ6"
      }
    },
    {
      "cell_type": "code",
      "source": "# 리스트 선언\nscore_list = [75, 80, 70, 95, 90]\n\n# 우선 pass\nif score_list:\n    pass\nelse:\n    print('요소 없음')",
      "metadata": {
        "id": "-SvkRqNRze8g"
      },
      "execution_count": null,
      "outputs": []
    },
    {
      "cell_type": "markdown",
      "source": "### **3) if ~ elif ~ else 문**\n\n- 여러 조건 중에서 참인 경우 각각 처리, 그렇지 않은 경우 처리합니다.\n\n<img src='https://raw.githubusercontent.com/jangrae/img/master/elif.png' width=200 align=\"left\"/>",
      "metadata": {
        "id": "LE8mIJEM8LXx"
      }
    },
    {
      "cell_type": "code",
      "source": "# 변수 선언\nmy_score = 76\n\n# 점수에 따른 학점 주기\nif my_score >= 90:\n    my_grade = 'A'\nelif my_score >= 80:\n    my_grade = 'B'\nelif my_score >= 70:\n    my_grade = 'C'\nelif my_score >= 60:\n    my_grade = 'D'\nelse:\n    my_grade = 'F'\n\n# 결과 출력\nprint(my_grade)",
      "metadata": {
        "id": "EnDVVV1fOEqt"
      },
      "execution_count": null,
      "outputs": []
    },
    {
      "cell_type": "markdown",
      "source": "- 위 구문은 if ~ else 문을 사용해 다음과 같이 작성할 수 있습니다.\n- 하지만 if ~ elif ~ else 문으로 작성하는 것이 더 가독성이 좋습니다.",
      "metadata": {
        "id": "CpmBvBT9Arx2"
      }
    },
    {
      "cell_type": "code",
      "source": "# 변수 선언\nmy_score = 76\n\n# 점수에 따른 학점 주기\nif my_score >= 90:\n    my_grade = 'A'\nelse:\n    if my_score >= 80:\n        my_grade = 'B'\n    else:\n        if my_score >= 70:\n            my_grade = 'C'\n        else:\n            if my_score >= 60:\n                my_grade = 'D'\n            else:\n                my_grade = 'F'\n\n# 결과 출력\nprint(my_grade)",
      "metadata": {
        "id": "DqsDmkvsAZJV"
      },
      "execution_count": null,
      "outputs": []
    },
    {
      "cell_type": "markdown",
      "source": "## **Topic 2. for 문**\n\n- 첫 번째 값부터 마지막 값까지 하나씩 가져가면서 처리합니다.",
      "metadata": {
        "id": "e3hhmNnmOEqy"
      }
    },
    {
      "cell_type": "code",
      "source": "# 문자열의 문자 출력\nfor i in 'PYTHON':\n    print(i)",
      "metadata": {
        "id": "BKzS3z9GLAwt"
      },
      "execution_count": null,
      "outputs": []
    },
    {
      "cell_type": "code",
      "source": "# 리스트 요소 출력\nfor i in [0, 1, 2, 3, 4]:\n    print(i)",
      "metadata": {
        "id": "vchoKfYnLLWe"
      },
      "execution_count": null,
      "outputs": []
    },
    {
      "cell_type": "code",
      "source": "# 리스트 선언\nfruits = ['apple', 'banana', 'cherry']\n\n# 리스트 요소 출력\nfor i in fruits:\n    print(i)",
      "metadata": {
        "id": "TiLh-1fiOEq6",
        "scrolled": true
      },
      "execution_count": null,
      "outputs": []
    },
    {
      "cell_type": "markdown",
      "source": "- 반복 횟수를 지정하기 위해 range() 함수를 많이 사용합니다.\n- 리스트로 변경할 필요 없이 바로 사용할 수 있습니다.",
      "metadata": {
        "id": "0NQslecUqSiH"
      }
    },
    {
      "cell_type": "code",
      "source": "# range() 함수 사용해 범위 지정\nprint(range(5))\nprint(list(range(5)))",
      "metadata": {
        "id": "kXmdySBlOEqz"
      },
      "execution_count": null,
      "outputs": []
    },
    {
      "cell_type": "code",
      "source": "# 범위 안의 값 출력\nfor i in range(5):\n    print(i)",
      "metadata": {
        "id": "6n3TJ6G1OEq3",
        "scrolled": true
      },
      "execution_count": null,
      "outputs": []
    },
    {
      "cell_type": "markdown",
      "source": "- for 문 안에서 if 문을 사용해 조건에 따른 처리를 하는 경우가 많습니다.",
      "metadata": {
        "id": "16b-rCp0ql7n"
      }
    },
    {
      "cell_type": "code",
      "source": "# if 문과 같이 사용(짝수만 출력)\nfor i in range(5):\n    if i % 2 == 0:\n        print(i)",
      "metadata": {
        "id": "S0sUTEatOEq5"
      },
      "execution_count": null,
      "outputs": []
    },
    {
      "cell_type": "markdown",
      "source": "## **Topic 3. while 문**\n\n- 조건문이 True인 동안 while문 안의 문장이 반복해서 실행됩니다.\n- 특정 상황에서 조건을 제어해 반복을 중지시킬 수 있습니다.",
      "metadata": {
        "id": "F8SwSlC-OErJ"
      }
    },
    {
      "cell_type": "markdown",
      "source": "### **1) 일반 while 문**\n\n- 문자열 길이를 반환하는 len() 함수가 리스트의 요소 개수를 반환합니다.",
      "metadata": {
        "id": "qp0A9SidnDFs"
      }
    },
    {
      "cell_type": "code",
      "source": "# 리스트 선언\nfruits = ['apple', 'banana', 'cherry']\n\n# 요소 출력\ni = 0\nwhile i < len(fruits):\n    print(fruits[i])\n    i += 1",
      "metadata": {
        "id": "TBCoJ1WEOErK"
      },
      "execution_count": null,
      "outputs": []
    },
    {
      "cell_type": "markdown",
      "source": "- while 문 안에서 if 문을 사용해 조건에 따른 처리를 하는 경우가 많습니다.",
      "metadata": {
        "id": "-KuSd0HoqxVP"
      }
    },
    {
      "cell_type": "code",
      "source": "# 변수 선언\ntotal = 0\ni = 1\n\n# 짝수만 더하기\nwhile i <= 100:\n    if i % 2 == 0:\n        total = total + i\n    i = i + 1\nprint(total)",
      "metadata": {
        "id": "DDjZfAmge73k"
      },
      "execution_count": null,
      "outputs": []
    },
    {
      "cell_type": "markdown",
      "source": "### **2) 무한루프 다루기**\n\n- break 문: 반복문 안에서 특정 조건이 되어 반복문을 빠져 나올 때 사용합니다.\n- continue 문: 반복문을 중단시키지 않고 다음 반복으로 넘어갈 때 사용합니다.",
      "metadata": {
        "id": "6iwLCvmynIWk"
      }
    },
    {
      "cell_type": "code",
      "source": "# 변수 선언\ntot, i = 0, 0\n\n# 100까지 짝수 합 구하기\nwhile True:\n    i += 1\n    if i > 100:\n        break\n\n    if i % 2 == 0:\n        tot += i\n    else:\n        continue\n\n# 확인\nprint(tot)",
      "metadata": {
        "id": "DY2nPFvC8LYM",
        "scrolled": true
      },
      "execution_count": null,
      "outputs": []
    },
    {
      "cell_type": "markdown",
      "source": "## **Topic 4. 리스트와 반복문**\n\n- 반복문과 가장 많이 사용되는 자료형이 리스트형입니다.",
      "metadata": {
        "id": "wffOnilaFQp3"
      }
    },
    {
      "cell_type": "markdown",
      "source": "### **1) 기본 반복문**\n\n- 첫 번째 요소부터 마지막 요소까지를 대상으로 코드를 반복 처리합니다.",
      "metadata": {
        "id": "WG1v0qRoqve7"
      }
    },
    {
      "cell_type": "code",
      "source": "# 리스트 선언\nmember = ['홍길동', '한사랑', '일지매', '박여인', '강우동']\n\n# 루프 돌면서 이름 출력\nfor mem in member:\n    print(mem)",
      "metadata": {
        "id": "YYjio8viwv_j"
      },
      "execution_count": null,
      "outputs": []
    },
    {
      "cell_type": "markdown",
      "source": "### **2) enumerate() 함수 사용**\n\n- 문자열이나 컨테이너 자료형을 입력받아, 순번과 요소를 포함하는 오브젝트로 반환합니다.\n- 반환된 오브젝트를 활용해 몇 번째, 어느 요소를 처리하고 있는지 쉽게 확인할 수 있습니다.\n- enumerate() 함수를 사용하지 않으면 별도의 변수를 사용해 순번을 확인해야 하므로 번거롭습니다.",
      "metadata": {
        "id": "bexLbYpvq8DX"
      }
    },
    {
      "cell_type": "code",
      "source": "# 리스트 선언\nmember = ['홍길동', '한사랑', '일지매', '박여인', '강우동']\n\n# 변수 사용\nidx = 0\nfor mem in member:\n    if idx % 2 == 0:\n        print(f'{idx}: {mem}')\n    idx = idx + 1",
      "metadata": {
        "id": "CPqGj7veLsuW"
      },
      "execution_count": null,
      "outputs": []
    },
    {
      "cell_type": "markdown",
      "source": "- enumerate() 함수를 사용하면 순번을 바로 참조할 수 있습니다.",
      "metadata": {
        "id": "1Ulqmyv1MYYh"
      }
    },
    {
      "cell_type": "code",
      "source": "# 리스트 선언\nmember = ['홍길동', '한사랑', '일지매', '박여인', '강우동']\n\n# enumerate() 함수 사용\nfor idx, mem in enumerate(member):\n    if idx % 2 == 0:\n        print(f'{idx}: {mem}')",
      "metadata": {
        "id": "Lq7hSCboYh2V"
      },
      "execution_count": null,
      "outputs": []
    },
    {
      "cell_type": "markdown",
      "source": "- 참고로, enumerate() 함수는 문자열에 대해서도 사용할 수 있습니다.",
      "metadata": {
        "id": "uL_6torgLDdp"
      }
    },
    {
      "cell_type": "code",
      "source": "# 문자열과 반복문\nfor c in '나의살던고향':\n    print(c)",
      "metadata": {
        "id": "oUKw6I3dLPlm"
      },
      "execution_count": null,
      "outputs": []
    },
    {
      "cell_type": "code",
      "source": "# enumerate() 함수 사용\nfor idx, c in enumerate('나의살던고향'):\n    print(idx, c)",
      "metadata": {
        "id": "4A7hdz7hZbWB"
      },
      "execution_count": null,
      "outputs": []
    },
    {
      "cell_type": "markdown",
      "source": "### **3) 반복문 확장**\n\n- 이 방법을 사용하면 반복문 코드가 매우 간결해집니다.\n- 처음에는 다소 낯설 수 있으나, 이것이 Python 스러운 문법이라 할 수 있습니다.",
      "metadata": {
        "id": "hyUVnMumrBp0"
      }
    },
    {
      "cell_type": "code",
      "source": "# 리스트 선언\nnums = [0, 1, 2, 3, 4]\n\n# 빈 리스트 선언\nsquares = []\n\n# 2를 곱한 결과를 squares 리스트에 추가\nfor x in nums:\n    squares.append(x ** 2)\n\n# 확인\nprint(squares)",
      "metadata": {
        "id": "U6MvO1GJFQp8"
      },
      "execution_count": null,
      "outputs": []
    },
    {
      "cell_type": "code",
      "source": "# 반복문 확장 문법 #1: for 문\nsquares = [x ** 2 for x in nums]\n\n# 확인\nprint(squares)",
      "metadata": {
        "id": "kx1zYlkSwv_r"
      },
      "execution_count": null,
      "outputs": []
    },
    {
      "cell_type": "code",
      "source": "# 반복문 확장 문법 #2: for ~ if 문\neven_squares = [x ** 2 for x in nums if x % 2 == 0]\n\n# 확인\nprint(even_squares)",
      "metadata": {
        "id": "d5Q1bc46FQqB",
        "scrolled": true
      },
      "execution_count": null,
      "outputs": []
    }
  ]
}