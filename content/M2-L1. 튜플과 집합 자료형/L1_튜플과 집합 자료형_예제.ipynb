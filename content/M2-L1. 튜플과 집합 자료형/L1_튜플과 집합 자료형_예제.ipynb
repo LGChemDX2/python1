{
  "metadata": {
    "colab": {
      "provenance": []
    },
    "kernelspec": {
      "name": "python",
      "display_name": "Python (Pyodide)",
      "language": "python"
    },
    "language_info": {
      "codemirror_mode": {
        "name": "python",
        "version": 3
      },
      "file_extension": ".py",
      "mimetype": "text/x-python",
      "name": "python",
      "nbconvert_exporter": "python",
      "pygments_lexer": "ipython3",
      "version": "3.8"
    }
  },
  "nbformat_minor": 4,
  "nbformat": 4,
  "cells": [
    {
      "cell_type": "markdown",
      "source": "# **Lesson 1. 튜플과 집합 자료형**\n데이터 분석 초급 과정 1 (Python) > Module 2. Python Skill-Up",
      "metadata": {
        "id": "pbxEQNZMr9De"
      }
    },
    {
      "cell_type": "markdown",
      "source": "## **Topic 1. 튜플 자료형**",
      "metadata": {
        "id": "nNVd-AFTgAYW"
      }
    },
    {
      "cell_type": "markdown",
      "source": "### **1) 튜플 만들기**\n\n- 리스트는 대괄호 [ ], 튜플은 소괄호( )를 사용해 선언합니다.\n- 튜플의 소괄호는 생략할 수 있습니다.",
      "metadata": {
        "id": "nDXGytfxrFMA"
      }
    },
    {
      "cell_type": "markdown",
      "source": "#### **① 빈 튜플**\n\n- 다음은 빈 튜플을 만드는 두 가지 방법입니다.",
      "metadata": {
        "id": "5yKu7ctt1xeB"
      }
    },
    {
      "cell_type": "code",
      "source": "# 빈 튜플 만들기 #1\nscore = ()\n\n# 확인\nprint(score)\nprint(type(score))",
      "metadata": {
        "id": "fGY-rxc0f8Bn"
      },
      "execution_count": null,
      "outputs": []
    },
    {
      "cell_type": "code",
      "source": "# 빈 튜플 만들기 #2\nscore = tuple()\n\n# 확인\nprint(score)\nprint(type(score))",
      "metadata": {
        "id": "-QA99rg8p3Ql"
      },
      "execution_count": null,
      "outputs": []
    },
    {
      "cell_type": "markdown",
      "source": "#### **② 요소가 하나인 튜플**\n\n- 다음은 요소가 하나인 튜플을 만드는 구문이 아닌 정수형 변수를 선언한 구문입니다.",
      "metadata": {
        "id": "sI-K8P2fptzE"
      }
    },
    {
      "cell_type": "code",
      "source": "# 튜플 선언(?)\nscore = (90)\n\n# 확인\nprint(score)\nprint(type(score))",
      "metadata": {
        "id": "JWLcd8Lwg4Az"
      },
      "execution_count": null,
      "outputs": []
    },
    {
      "cell_type": "markdown",
      "source": "- 요소가 하나인 튜플은 다음과 같이 콤마를 추가해서 만들어야 합니다.",
      "metadata": {
        "id": "tcPCXFw8qMy9"
      }
    },
    {
      "cell_type": "code",
      "source": "# 튜플 선언\nscore = (90,)\n\n# 확인\nprint(score)\nprint(type(score))\nprint(len(score))",
      "metadata": {
        "id": "nYBNu67ieZFj"
      },
      "execution_count": null,
      "outputs": []
    },
    {
      "cell_type": "markdown",
      "source": "#### **③ 다양한 튜플**",
      "metadata": {
        "id": "6kzTxFGu1rQ7"
      }
    },
    {
      "cell_type": "code",
      "source": "# 튜플 선언\nscore1 = (90, 85, 70)\nscore2 = 90, 85, 70\nscore3 = (90, 85, 70, ('A', 'B', 'D', 'F'))\nscore4 = (90, 85, 70, ['A', 'B', 'D', 'F'])\n\n# 확인\nprint(score1)\nprint(score2)\nprint(score3)\nprint(score4)",
      "metadata": {
        "id": "VXcKJfU_hRZ8"
      },
      "execution_count": null,
      "outputs": []
    },
    {
      "cell_type": "code",
      "source": "# range() 함수 사용\nnum1 = list(range(5))\nnum2 = tuple(range(5))\n\n# 확인\nprint(num1)\nprint(num2)",
      "metadata": {
        "id": "54KNCZIn8Lay",
        "scrolled": true
      },
      "execution_count": null,
      "outputs": []
    },
    {
      "cell_type": "code",
      "source": "# 문자열 --> 튜플\nchar1 = list('PYTHON')\nchar2 = tuple('PYTHON')\n\n# 확인\nprint(char1)\nprint(char2)",
      "metadata": {
        "id": "cK5nyELgZESH"
      },
      "execution_count": null,
      "outputs": []
    },
    {
      "cell_type": "markdown",
      "source": "### **2) 리스트 vs 튜플**\n\n- 리스트는 요소를 변경할 수 있습니다.",
      "metadata": {
        "id": "EbNc2XYP7vT-"
      }
    },
    {
      "cell_type": "code",
      "source": "# 리스트 선언\na = [1, 2, 3, 4, 5]\n\n# 요소 변경\na[0] = 10\n\n# 확인\nprint(a)",
      "metadata": {
        "id": "vMz-q6ilL3PO"
      },
      "execution_count": null,
      "outputs": []
    },
    {
      "cell_type": "markdown",
      "source": "- 튜플은 요소를 변경할 수 없습니다.",
      "metadata": {
        "id": "kRKKOBv3L3PP"
      }
    },
    {
      "cell_type": "code",
      "source": "# 튜플 만들기\nb = (1, 2, 3, 4, 5)\n\n# 요소 변경\nb[0] = 10",
      "metadata": {
        "id": "9unAGVk9L3PP",
        "scrolled": true
      },
      "execution_count": null,
      "outputs": []
    },
    {
      "cell_type": "markdown",
      "source": "### **3) 관련 메서드**\n\n- 튜플은 요소를 변경할 수 없어서 조회를 위한 몇 가지 메서드만 존재합니다.",
      "metadata": {
        "id": "IHoKVdoOQKsl"
      }
    },
    {
      "cell_type": "markdown",
      "source": "#### **① count() 메서드**\n\n- count() 메서드를 사용해 특정 요소가 몇 개 포함되어 있는지 확인할 수 있습니다.\n- 지정한 요소가 없으면 0을 반환합니다.",
      "metadata": {
        "id": "XNULZh1MX_2u"
      }
    },
    {
      "cell_type": "code",
      "source": "# 튜플 선언\nscore = (90, 80, 95, 70, 100, 65, 70, 100)\n\n# 100점이 몇 개인지 확인\nprint(score.count(100))",
      "metadata": {
        "id": "0JBaN3Ui4pYC"
      },
      "execution_count": null,
      "outputs": []
    },
    {
      "cell_type": "markdown",
      "source": "#### **② index() 메서드**\n\n- index() 메서드를 사용해 지정한 요소의 위치를 확인할 수 있습니다.\n- 지정한 요소가 없으면 오류가 발생합니다.",
      "metadata": {
        "id": "9BvWE-0Z_V9W"
      }
    },
    {
      "cell_type": "code",
      "source": "# 튜플 선언\nscore = (90, 80, 95, 70, 100, 65, 70, 100)\n\n# 100의 첫 번째 위치 확인\nprint(score.index(100))",
      "metadata": {
        "id": "JuGc3QoFQ_LB"
      },
      "execution_count": null,
      "outputs": []
    },
    {
      "cell_type": "markdown",
      "source": "## **Topic 2. 집합 자료형**",
      "metadata": {
        "id": "sNMDJEKJMHo0"
      }
    },
    {
      "cell_type": "markdown",
      "source": "### **1) 집합 만들기**",
      "metadata": {
        "id": "msXpShKOM2MS"
      }
    },
    {
      "cell_type": "markdown",
      "source": "#### **① 같은 자료형을 갖는 집합**",
      "metadata": {
        "id": "oElGw1pJ9rb6"
      }
    },
    {
      "cell_type": "code",
      "source": "# 집합 선언\nnums = {0, 1, 2, 3, 4, 5, 6, 7, 8, 9}\n\n# 확인\nprint(nums)",
      "metadata": {
        "id": "N8OQc7h7NumI"
      },
      "execution_count": null,
      "outputs": []
    },
    {
      "cell_type": "code",
      "source": "# 집합 선언\nmembers = {'홍길동', '한사랑', '일지매', '박여인'}\n\n# 확인\nprint(members)",
      "metadata": {
        "id": "D700KV_y9oKC"
      },
      "execution_count": null,
      "outputs": []
    },
    {
      "cell_type": "markdown",
      "source": "#### **② 여러 자료형을 갖는 집합**",
      "metadata": {
        "id": "MOKmhWM79xvp"
      }
    },
    {
      "cell_type": "code",
      "source": "# 집합 선언\netc = {'홍길동', 100, (1, 2, 3), '박여인'}\n\n# 확인\nprint(etc)",
      "metadata": {
        "id": "YBPQ5sQ19o4J"
      },
      "execution_count": null,
      "outputs": []
    },
    {
      "cell_type": "markdown",
      "source": "#### **③ 문자열 → 집합**\n\n- list(), tuple() 함수로 문자열을 리스트나 튜플로 변환할 수 있습니다.\n- set() 함수로 개별 문자를 요소로 갖는 집합을 만들 수 있습니다.\n- 같은 요소를 갖지 않는 집합의 특징에 따라 **중복된 문자는 제거**됩니다.",
      "metadata": {
        "id": "roQTGV3Y-GDO"
      }
    },
    {
      "cell_type": "code",
      "source": "# 집합 선언\nhello = set('잘지내지요')\n\n# 확인\nprint(hello)",
      "metadata": {
        "id": "wfJ7a64Qt_MJ",
        "scrolled": true
      },
      "execution_count": null,
      "outputs": []
    },
    {
      "cell_type": "markdown",
      "source": "#### **④ range() → 집합**\n\n- range() 함수로 리스트, 튜플, 집합등 다양한 자료형을 만들 수 있습니다.",
      "metadata": {
        "id": "3gKzYiio-NuQ"
      }
    },
    {
      "cell_type": "code",
      "source": "# 집합 선언\nnums = set(range(0, 10))\n\n# 확인\nprint(nums)",
      "metadata": {
        "id": "fZiiATtI97Np"
      },
      "execution_count": null,
      "outputs": []
    },
    {
      "cell_type": "markdown",
      "source": "#### **⑤ 리스트 → 집합**\n\n- 리스트가 집합으로 변환되면 중복된 요소는 제거됩니다.",
      "metadata": {
        "id": "-oiU61IQ-S_n"
      }
    },
    {
      "cell_type": "code",
      "source": "# 리스트 선언\nmember = ['홍길동', '한사랑', '홍길동', '일지매', '박여인']\n\n# 집합 선언\nmember1 = set(member)\n\n# 확인\nprint(member1)",
      "metadata": {
        "id": "SXcfUfR398At"
      },
      "execution_count": null,
      "outputs": []
    },
    {
      "cell_type": "markdown",
      "source": "### **2) 합집합, 교집합, 차집합**\n\n- 집합 자료형을 사용하는 주된 목적은 합집합, 교집합, 차집합 연산을 위한 것입니다.",
      "metadata": {
        "id": "G8umU5gsGJ0w"
      }
    },
    {
      "cell_type": "markdown",
      "source": "#### **① 합집합**\n\n- 합집합은 | 또는 union() 메서드를 사용해 구합니다.",
      "metadata": {
        "id": "1w8zZqVsidwf"
      }
    },
    {
      "cell_type": "code",
      "source": "# 집합 선언\nmember_set1 = {'홍길동', '한사랑', '일지매', '박여인'}\nmember_set2 = {'한사랑', '홍길민', '강우동'}\n\n# 합집합 구하기 #1\nmember_set3 = member_set1 | member_set2\n\n# 확인\nprint(member_set3)",
      "metadata": {
        "id": "-2QTf6UIwMwW"
      },
      "execution_count": null,
      "outputs": []
    },
    {
      "cell_type": "code",
      "source": "# 합집합 구하기 #2\nmember_set3 = member_set1.union(member_set2)\n\n# 확인\nprint(member_set3)",
      "metadata": {
        "id": "6qC3gRAbwPN0"
      },
      "execution_count": null,
      "outputs": []
    },
    {
      "cell_type": "markdown",
      "source": "#### **② 교집합**\n\n- 교집합은 & 또는 intersection() 메서드를 사용해 구합니다.",
      "metadata": {
        "id": "D_T_IjBsibVS"
      }
    },
    {
      "cell_type": "code",
      "source": "# 집합 선언\nmember_set1 = {'홍길동', '한사랑', '일지매', '박여인'}\nmember_set2 = {'한사랑', '홍길민', '강우동'}\n\n# 교집합 구하기 #1\nmember_set3 = member_set1 & member_set2\n\n# 확인\nprint(member_set3)",
      "metadata": {
        "id": "-wzQ3GWkvZ-a"
      },
      "execution_count": null,
      "outputs": []
    },
    {
      "cell_type": "code",
      "source": "# 교집합 구하기 #2\nmember_set3 = member_set1.intersection(member_set2)\n\n# 확인\nprint(member_set3)",
      "metadata": {
        "id": "hzzfisUsvzgx"
      },
      "execution_count": null,
      "outputs": []
    },
    {
      "cell_type": "markdown",
      "source": "#### **③ 차집합**\n\n- 차집합은 - 또는 difference() 메서드를 사용해 구합니다.",
      "metadata": {
        "id": "rDXa8FaviZJK"
      }
    },
    {
      "cell_type": "code",
      "source": "# 집합 선언\nmember_set1 = {'홍길동', '한사랑', '일지매', '박여인'}\nmember_set2 = {'한사랑', '홍길민', '강우동'}\n\n# 차집합 구하기 #1\nmember_set3 = member_set1 - member_set2\n\n# 확인\nprint(member_set3)",
      "metadata": {
        "id": "v8-ydZbnwmbf"
      },
      "execution_count": null,
      "outputs": []
    },
    {
      "cell_type": "code",
      "source": "# 차집합 구하기 #2\nmember_set3 = member_set1.difference(member_set2)\n\n# 확인\nprint(member_set3)",
      "metadata": {
        "id": "yqqOjzlcwpF5"
      },
      "execution_count": null,
      "outputs": []
    },
    {
      "cell_type": "markdown",
      "source": "#### **④ 대칭 차집합**\n\n- 대칭 차집합은 ^ 또는 symmetric_difference() 메서드를 사용해 구합니다.",
      "metadata": {
        "id": "juahzTtJiU-1"
      }
    },
    {
      "cell_type": "code",
      "source": "# 집합 선언\nmember_set1 = {'홍길동',  '한사랑', '일지매', '박여인'}\nmember_set2 = {'한사랑', '홍길민', '강우동'}\n\n# 대칭 차집합 구하기 #1\nmember_set3 = member_set1 ^ member_set2\n\n# 확인\nprint(member_set3)",
      "metadata": {
        "id": "Dpov7V4PETqj"
      },
      "execution_count": null,
      "outputs": []
    },
    {
      "cell_type": "code",
      "source": "# 대칭 차집합 구하기 #2\nmember_set3 = member_set1.symmetric_difference(member_set2)\n\n# 확인\nprint(member_set3)",
      "metadata": {
        "id": "G9roahuPEacM"
      },
      "execution_count": null,
      "outputs": []
    },
    {
      "cell_type": "markdown",
      "source": "## **Topic 3. 집합 관련 메서드**",
      "metadata": {
        "id": "6KmXU1TUw1OB"
      }
    },
    {
      "cell_type": "markdown",
      "source": "### **1) 요소 추가용 메서드**",
      "metadata": {
        "id": "Dkqg081ZhbN5"
      }
    },
    {
      "cell_type": "markdown",
      "source": "#### **① add() 메서드**\n\n- 요소 하나를 추가할 때는 add() 메서드를 사용합니다.",
      "metadata": {
        "id": "NRJ9eIvB1D9h"
      }
    },
    {
      "cell_type": "code",
      "source": "# 집합 선언\nmember_set = {'홍길동', '한사랑', '일지매', '박여인'}\n\n# 요소 추가\nmember_set.add('강우동')\n\n# 확인\nprint(member_set)",
      "metadata": {
        "id": "fzBRVDgQw84H"
      },
      "execution_count": null,
      "outputs": []
    },
    {
      "cell_type": "markdown",
      "source": "#### **② update() 메서드**\n\n- 여러 요소를 추가할 때는 update() 메서드를 사용합니다.\n- update() 메서드가 변경이 아닌 추가임을 기억하기 바랍니다.",
      "metadata": {
        "id": "q_46C8KD1SlA"
      }
    },
    {
      "cell_type": "code",
      "source": "# 집합 선언\nmember_set = {'홍길동', '한사랑', '일지매', '박여인'}\n\n# 요소 추가\nmember_set.update(['한국인', '나도야'])\n\n# 확인\nprint(member_set)",
      "metadata": {
        "id": "p5dw3XYtxMnb"
      },
      "execution_count": null,
      "outputs": []
    },
    {
      "cell_type": "markdown",
      "source": "### **2) 요소 삭제용 메서드**",
      "metadata": {
        "id": "6H7hEDAwhlJ8"
      }
    },
    {
      "cell_type": "markdown",
      "source": "#### **① pop() 메서드**\n\n- 무작위로 요소 하나를 삭제할 때는 pop() 메서드를 사용합니다.\n- pop() 메서드는 삭제되는 요소를 반환하면서 삭제합니다.",
      "metadata": {
        "id": "CQvFrGLU1ct7"
      }
    },
    {
      "cell_type": "code",
      "source": "# 집합 선언\nmember_set = {'홍길동', '한사랑', '일지매', '박여인'}\n\n# 요소 삭제\ndel_member = member_set.pop()\n\n# 확인\nprint(member_set)\nprint(del_member)",
      "metadata": {
        "id": "JPx2qyDOC5UB"
      },
      "execution_count": null,
      "outputs": []
    },
    {
      "cell_type": "markdown",
      "source": "#### **② remove() 메서드**\n\n- 요소를 지정해서 삭제할 때는 remove() 메서드를 사용합니다.\n- 삭제하려는 요소가 없으면 오류가 납니다.",
      "metadata": {
        "id": "tbGr3g8Q1f8Y"
      }
    },
    {
      "cell_type": "code",
      "source": "# 집합 선언\nmember_set = {'홍길동', '한사랑', '일지매', '박여인'}\n\n# 요소 삭제\nmember_set.remove('일지매')\n\n# 확인\nprint(member_set)",
      "metadata": {
        "id": "44_-f66Oxaek"
      },
      "execution_count": null,
      "outputs": []
    },
    {
      "cell_type": "markdown",
      "source": "#### **③ discard() 메서드**\n\n- 요소를 지정해서 하나 삭제할 때는 discard() 메서드를 사용합니다.\n- remove() 메서드와는 달리 삭제하려는 요소가 없어도 오류가 나지 않습니다.",
      "metadata": {
        "id": "_JH5mV6v1kJF"
      }
    },
    {
      "cell_type": "code",
      "source": "# 집합 선언\nmember_set = {'홍길동', '한사랑', '일지매', '박여인'}\n\n# 요소 삭제\nmember_set.discard('홍길동')\nmember_set.discard('한국인')\n\n# 확인\nprint(member_set)",
      "metadata": {
        "id": "j91Ck49qCs9r"
      },
      "execution_count": null,
      "outputs": []
    },
    {
      "cell_type": "markdown",
      "source": "#### **④ clear() 메서드**\n\n- 모든 요소를 삭제할 때는 clear() 메서드를 사용합니다.",
      "metadata": {
        "id": "-YPUA5x81YmI"
      }
    },
    {
      "cell_type": "code",
      "source": "# 집합 선언\nmember_set = {'홍길동', '한사랑', '일지매', '박여인'}\n\n# 요소 삭제\nmember_set.clear()\n\n# 확인\nprint(member_set)",
      "metadata": {
        "id": "T5cPKLFZD2gq"
      },
      "execution_count": null,
      "outputs": []
    },
    {
      "cell_type": "markdown",
      "source": "## **Topic 4. 집합 자료형 활용**",
      "metadata": {
        "id": "d2l8EnUNMOyh"
      }
    },
    {
      "cell_type": "markdown",
      "source": "### **1) 중복 요소 제거**\n\n- 집합은 중복된 요소를 갖지 않습니다.\n- 이 특징에 활용해 리스트에서 중복된 요소를 제거할 수 있습니다.",
      "metadata": {
        "id": "kdFhYCenkmmX"
      }
    },
    {
      "cell_type": "code",
      "source": "# 리스트 선언\nnums = [12, 45, 23, 21, 36, 28, 12, 36, 35, 28, 45, 63, 12, 21]\n\n# 중복 제거\nnums = set(nums)\nnums = list(nums)\n\n#확인\nprint(nums)",
      "metadata": {
        "id": "Krn1nFDsu0Xz"
      },
      "execution_count": null,
      "outputs": []
    },
    {
      "cell_type": "markdown",
      "source": "### **2) 중복 요소 확인**\n\n- 교집합을 활용해 두 리스트 사이의 중복된 요소를 확인할 수 있습니다.",
      "metadata": {
        "id": "hKhLVTNiGEZa"
      }
    },
    {
      "cell_type": "code",
      "source": "# 리스트 선언\nnums1 = [12, 23, 32, 36, 41, 48]\nnums2 = [12, 19, 24, 32, 36, 47]\n\n# 중복 확인\nduplicated = set(nums1) & set(nums2)\nduplicated = list(duplicated)\n\n#확인\nprint(duplicated)",
      "metadata": {
        "id": "Kp6yK74UGEZc"
      },
      "execution_count": null,
      "outputs": []
    },
    {
      "cell_type": "markdown",
      "source": "### **3) 요소 중복 없이 결합**\n\n- 합집합 기능을 활용해 두 리스트의 중복된 요소를 제거하면서 결합할 수 있습니다.",
      "metadata": {
        "id": "i--Cjvk4GEZl"
      }
    },
    {
      "cell_type": "code",
      "source": "# 리스트 선언\nnums1 = [12, 23, 32, 36, 41, 48]\nnums2 = [12, 19, 24, 32, 36, 47]\n\n# 합치기\nnums = set(nums1) | set(nums2)\nnums = list(nums)\n\n#확인\nprint(nums)",
      "metadata": {
        "id": "lyxtZ3WDGEZm"
      },
      "execution_count": null,
      "outputs": []
    }
  ]
}