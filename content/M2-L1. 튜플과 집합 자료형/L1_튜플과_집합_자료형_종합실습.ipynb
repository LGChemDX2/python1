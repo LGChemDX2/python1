{
  "cells": [
    {
      "cell_type": "markdown",
      "metadata": {
        "id": "32779570"
      },
      "source": [
        "# **Lesson 1. 튜플과 집합 자료형_종합실습**"
      ]
    },
    {
      "cell_type": "markdown",
      "metadata": {
        "id": "YsczyFXrCcHJ"
      },
      "source": [
        "**1) 0부터 20까지 정수를 요소르 갖는 튜플 t1을 선언하고 확인하세요.**"
      ]
    },
    {
      "cell_type": "markdown",
      "source": [
        "[결과 예시]\n",
        "\n",
        "~~~\n",
        "(0, 1, 2, 3, 4, 5, 6, 7, 8, 9, 10, 11, 12, 13, 14, 15, 16, 17, 18, 19, 20)\n",
        "~~~"
      ],
      "metadata": {
        "id": "iENcd_-GyTIG"
      }
    },
    {
      "cell_type": "code",
      "execution_count": null,
      "metadata": {
        "id": "hggqmuJ_E2Qd"
      },
      "outputs": [],
      "source": [
        "# 튜플 선언\n",
        "\n",
        "\n",
        "# 확인\n"
      ]
    },
    {
      "cell_type": "markdown",
      "metadata": {
        "id": "d3pkrp6aFcj7"
      },
      "source": [
        "**2) 0부터 20까지 정수를 요소를 갖는 튜플 t1의 요소 중에서 짝수만 추출해 튜플 t2를 선언하고 확인하세요.**\n",
        "\n",
        "- 힌트: [반복문 확장구문] 형태로 리스트를 선언할 수 있지만, 튜플은 tuple(반복문 확장구문) 형태로 선언할 수 있습니다."
      ]
    },
    {
      "cell_type": "markdown",
      "source": [
        "[결과 예시]\n",
        "\n",
        "~~~\n",
        "(0, 2, 4, 6, 8, 10, 12, 14, 16, 18, 20)\n",
        "~~~"
      ],
      "metadata": {
        "id": "5sWReVIwy0lz"
      }
    },
    {
      "cell_type": "code",
      "source": [
        "# 튜플 선언\n",
        "\n",
        "\n",
        "# 짝수 추출\n",
        "\n",
        "\n",
        "# 확인\n"
      ],
      "metadata": {
        "id": "xWaj7ayTKlqG"
      },
      "execution_count": null,
      "outputs": []
    },
    {
      "cell_type": "markdown",
      "metadata": {
        "id": "t2XAXrMDQ4QX"
      },
      "source": [
        "**3) 12, 15, 21, 26, 35, 45를 요소로 갖는 집합 t2를 선언한 후 13, 14, 25를 요소로 추가하세요.**"
      ]
    },
    {
      "cell_type": "markdown",
      "source": [
        "[결과 예시]\n",
        "\n",
        "~~~\n",
        "{12, 13, 14, 15, 21, 25, 26, 35, 45}\n",
        "~~~"
      ],
      "metadata": {
        "id": "jI8Fyo-9Q4QX"
      }
    },
    {
      "cell_type": "code",
      "source": [
        "# 집합 선언\n",
        "\n",
        "\n",
        "# 요소 추가\n",
        "\n",
        "\n",
        "# 확인\n"
      ],
      "metadata": {
        "id": "B9q_F1q9Q4QX"
      },
      "execution_count": null,
      "outputs": []
    },
    {
      "cell_type": "markdown",
      "metadata": {
        "id": "3bTuWv_Xy8W_"
      },
      "source": [
        "**4) 다음 요구에 따라 세 개의 집합을 선언한 후 (A∪B)-C를 갖는 리스트 D를 선언하고 확인하세요.**\n",
        "\n",
        "- 12, 15, 21, 26, 35, 45 요소를 갖는 집합 A\n",
        "- 12, 27, 28, 33, 47, 50 요소를 갖는 집합 B\n",
        "- 12, 21, 33 요소를 갖는 집합 C\n",
        "- 단, 리스트 D를 오름차순 정렬하세요."
      ]
    },
    {
      "cell_type": "markdown",
      "source": [
        "[결과 예시]\n",
        "\n",
        "~~~\n",
        "[15, 26, 27, 28, 35, 45, 47, 50]\n",
        "~~~"
      ],
      "metadata": {
        "id": "Sj-C5rSXy8XA"
      }
    },
    {
      "cell_type": "code",
      "execution_count": null,
      "metadata": {
        "id": "eHUC0SLIy8XA"
      },
      "outputs": [],
      "source": [
        "# 집합 선언\n",
        "\n",
        "\n",
        "\n",
        "\n",
        "# 집합 연산 --> 리스트\n",
        "\n",
        "\n",
        "# 리스트 정렬\n",
        "\n",
        "\n",
        "# 확인\n"
      ]
    }
  ],
  "metadata": {
    "colab": {
      "provenance": []
    },
    "kernelspec": {
      "display_name": "Python 3 (ipykernel)",
      "language": "python",
      "name": "python3"
    },
    "language_info": {
      "codemirror_mode": {
        "name": "ipython",
        "version": 3
      },
      "file_extension": ".py",
      "mimetype": "text/x-python",
      "name": "python",
      "nbconvert_exporter": "python",
      "pygments_lexer": "ipython3",
      "version": "3.11.3"
    }
  },
  "nbformat": 4,
  "nbformat_minor": 0
}