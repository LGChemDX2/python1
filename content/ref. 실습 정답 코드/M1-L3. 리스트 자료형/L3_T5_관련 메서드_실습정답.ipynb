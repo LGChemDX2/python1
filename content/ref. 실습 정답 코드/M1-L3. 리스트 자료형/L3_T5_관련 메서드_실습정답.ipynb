{
  "metadata": {
    "colab": {
      "provenance": []
    },
    "kernelspec": {
      "name": "python",
      "display_name": "Python (Pyodide)",
      "language": "python"
    },
    "language_info": {
      "codemirror_mode": {
        "name": "python",
        "version": 3
      },
      "file_extension": ".py",
      "mimetype": "text/x-python",
      "name": "python",
      "nbconvert_exporter": "python",
      "pygments_lexer": "ipython3",
      "version": "3.8"
    }
  },
  "nbformat_minor": 4,
  "nbformat": 4,
  "cells": [
    {
      "cell_type": "markdown",
      "source": "# **Topic 5. 관련 메서드_실습**",
      "metadata": {
        "id": "8LyqTotC2lnk"
      }
    },
    {
      "cell_type": "markdown",
      "source": "**1) 2, 3, 1, 2, 5, 2, 6, 4, 2, 7, 1, 3, 4를 요소로 갖는 리스트 n1을 선언한 후 요소 개수를 확인하세요.**",
      "metadata": {
        "id": "MC_e_FNgGVxZ"
      }
    },
    {
      "cell_type": "markdown",
      "source": "[결과 예시]\n\n~~~\n13\n~~~",
      "metadata": {
        "id": "eGnSPyb0OMgT"
      }
    },
    {
      "cell_type": "code",
      "source": "n1 = [2, 3, 1, 2, 5, 2, 6, 4, 2, 7, 1, 3, 4]\nprint(len(n1))",
      "metadata": {
        "id": "888a76e3"
      },
      "execution_count": null,
      "outputs": []
    },
    {
      "cell_type": "markdown",
      "source": "**2) 2, 3, 1, 2, 5, 2, 6, 4, 2, 7, 1, 3, 4를 요소로 갖는 리스트 n1을 선언한 후 요소 2의 개수를 확인하세요.**",
      "metadata": {
        "id": "4At_FBUOQoQr"
      }
    },
    {
      "cell_type": "markdown",
      "source": "[결과 예시]\n\n~~~\n4\n~~~",
      "metadata": {
        "id": "YSTXEJBdQoQv"
      }
    },
    {
      "cell_type": "code",
      "source": "n1 = [2, 3, 1, 2, 5, 2, 6, 4, 2, 7, 1, 3, 4]\nprint(n1.count(2))",
      "metadata": {
        "id": "5b25w0kYQoQv"
      },
      "execution_count": null,
      "outputs": []
    },
    {
      "cell_type": "markdown",
      "source": "**3) 'c', 'a', 'b', 'd'를 요소로 갖는 리스트 s1을 선언한 후 오름차순으로 정렬한 후 확인하세요.**",
      "metadata": {
        "id": "Isb0OY0yPOYZ"
      }
    },
    {
      "cell_type": "markdown",
      "source": "[결과 예시]\n\n~~~\n['a', 'b', 'c', 'd']\n~~~",
      "metadata": {
        "id": "sOvukcfBPOYa"
      }
    },
    {
      "cell_type": "code",
      "source": "s1 = ['c', 'a', 'b', 'd']\ns1.sort()\nprint(s1)",
      "metadata": {
        "id": "T2j5BsmQPOYa"
      },
      "execution_count": null,
      "outputs": []
    },
    {
      "cell_type": "markdown",
      "source": "**4) 'c', 'a', 'b', 'd'를 요소로 갖는 리스트 s1을 선언한 후 내림차순으로 정렬한 후 확인하세요.**",
      "metadata": {
        "id": "C8ziqZk3OQ6a"
      }
    },
    {
      "cell_type": "markdown",
      "source": "[결과 예시]\n\n~~~\n['d', 'c', 'b', 'a']\n~~~",
      "metadata": {
        "id": "-gup0nHEOQ6a"
      }
    },
    {
      "cell_type": "code",
      "source": "s1 = ['c', 'a', 'b', 'd']\ns1.sort(reverse=True)\nprint(s1)",
      "metadata": {
        "id": "Eiq_aXnqOQ6a"
      },
      "execution_count": null,
      "outputs": []
    },
    {
      "cell_type": "markdown",
      "source": "**5) '홍길동', '일지매', '한사랑', '강우동'을 요소로 갖는 리스트 s2를 선언한 후 요소 순서를 역으로 변경하고 확인하세요.**",
      "metadata": {
        "id": "FPvDDEFZPCwR"
      }
    },
    {
      "cell_type": "markdown",
      "source": "[결과 예시]\n\n~~~\n['강우동', '한사랑', '일지매', '홍길동']\n~~~",
      "metadata": {
        "id": "XzdwG5SPPCwR"
      }
    },
    {
      "cell_type": "code",
      "source": "s2 = ['홍길동', '일지매', '한사랑', '강우동']\ns2.reverse()\nprint(s2)",
      "metadata": {
        "id": "87w9uxUWPCwR"
      },
      "execution_count": null,
      "outputs": []
    },
    {
      "cell_type": "markdown",
      "source": "**6) '행복', '사랑', '좌절', '희망'을 요소로 갖는 리스트 mind를 선언한 후 '좌절'을 삭제하고 확인하세요.**",
      "metadata": {
        "id": "drm5NN8C1a5c"
      }
    },
    {
      "cell_type": "markdown",
      "source": "[결과 예시]\n\n~~~\n['행복', '사랑', '희망']\n~~~",
      "metadata": {
        "id": "IQubesNd1a5c"
      }
    },
    {
      "cell_type": "code",
      "source": "mind = ['행복', '사랑', '좌절', '희망']\nmind.remove('좌절')\nprint(mind)",
      "metadata": {
        "id": "jwEbIPl-1a5d"
      },
      "execution_count": null,
      "outputs": []
    },
    {
      "cell_type": "markdown",
      "source": "**7) '행복', '사랑', '좌절', '희망'을 요소로 갖는 리스트 mind를 선언한 후 세 번째 요소를 삭제하고 확인하세요.**\n\n- 단, 삭제된 요소가 무엇인지 변수로 받아 확인하세요.",
      "metadata": {
        "id": "L8ot9JuX2bQk"
      }
    },
    {
      "cell_type": "markdown",
      "source": "[결과 예시]\n\n~~~\n['행복', '사랑', '희망']\n삭제: 좌절\n~~~",
      "metadata": {
        "id": "Wt_38TGX2bQk"
      }
    },
    {
      "cell_type": "code",
      "source": "mind = ['행복', '사랑', '좌절', '희망']\ndeleted = mind.pop(2)\nprint(mind)\nprint('삭제:', deleted)",
      "metadata": {
        "id": "oSsfNoGC2bQk"
      },
      "execution_count": null,
      "outputs": []
    }
  ]
}