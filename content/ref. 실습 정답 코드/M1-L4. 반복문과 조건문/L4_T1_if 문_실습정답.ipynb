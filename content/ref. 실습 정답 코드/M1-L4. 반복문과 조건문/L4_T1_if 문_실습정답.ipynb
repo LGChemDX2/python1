{
  "metadata": {
    "colab": {
      "provenance": []
    },
    "kernelspec": {
      "name": "python",
      "display_name": "Python (Pyodide)",
      "language": "python"
    },
    "language_info": {
      "codemirror_mode": {
        "name": "python",
        "version": 3
      },
      "file_extension": ".py",
      "mimetype": "text/x-python",
      "name": "python",
      "nbconvert_exporter": "python",
      "pygments_lexer": "ipython3",
      "version": "3.8"
    }
  },
  "nbformat_minor": 4,
  "nbformat": 4,
  "cells": [
    {
      "cell_type": "markdown",
      "source": "# **Topic 1. if 문_실습**",
      "metadata": {
        "id": "fdGqjaVxGFSi"
      }
    },
    {
      "cell_type": "markdown",
      "source": "**1) 변수 score에 임의의 점수를 대입하고, 점수가 90보다 크거나 같으면 'Pass'를 출력하세요.**",
      "metadata": {
        "id": "S4fzoaJC6wR7"
      }
    },
    {
      "cell_type": "markdown",
      "source": "[결과 예시] score = 95인 경우\n\n~~~\nPass\n~~~",
      "metadata": {
        "id": "_L8-HAPh8Db2"
      }
    },
    {
      "cell_type": "code",
      "source": "score = 95\n\nif (score >= 90):\n    print('Pass')",
      "metadata": {
        "id": "E3AlyNhzGFSj"
      },
      "execution_count": null,
      "outputs": []
    },
    {
      "cell_type": "markdown",
      "source": "**2) 변수 age에 임의의 나이를 대입하고, 다음 조건에 맞게 출력하도록 아래 구문을 완성하세요.**\n\n- 10보다 작으면 '10대 미만'\n- 20보다 작으면 '10대'\n- 30보다 작으면 '20대'\n- 40보다 작으면 '30대'\n- 50보다 작으면 '40대'\n- 아니면 '50대 이상'",
      "metadata": {
        "id": "rhHQ5K2G64en"
      }
    },
    {
      "cell_type": "markdown",
      "source": "[결과 예시] age = 32인 경우\n\n~~~\n30대\n~~~",
      "metadata": {
        "id": "a2e9zRxo8Mqj"
      }
    },
    {
      "cell_type": "code",
      "source": "age = 32\n\nif age < 10:\n    print('10세 미만')\nelif age < 20:\n    print('10대')\nelif age < 30:\n    print('20대')\nelif age < 40:\n    print('30대')\nelif age < 50:\n    print('40대')\nelse:\n    print('50대 이상')",
      "metadata": {
        "id": "R9ayTlYf5Z7F"
      },
      "execution_count": null,
      "outputs": []
    },
    {
      "cell_type": "markdown",
      "source": "**3) 변수 score에 임의의 점수를 대입하고, 다음의 조건에 맞게 출력하도록 아래 구문을 완성하세요.**\n\n- 90 <= score 이면  'A'\n- 80 <= score < 90 이면 'B'\n- 70 <= score < 80 이면 'C'\n- 60 <= score < 70 이면 'D'\n- score < 60 이면 'F'",
      "metadata": {
        "id": "lZkCmKhh7OVG"
      }
    },
    {
      "cell_type": "markdown",
      "source": "[결과 예시] score = 75인 경우\n\n~~~\nC\n~~~",
      "metadata": {
        "id": "P-9MPzuC8NaE"
      }
    },
    {
      "cell_type": "code",
      "source": "score = 75\n\nif (score >= 90):\n    print('A')\nelif (score >= 80):\n    print('B')\nelif (score >= 70):\n    print('C')\nelif (score >= 60):\n    print('D')\nelse:\n    print('F')",
      "metadata": {
        "id": "2mQUobA65Z7G"
      },
      "execution_count": null,
      "outputs": []
    },
    {
      "cell_type": "markdown",
      "source": "**4) 변수 num1에 임의의 숫자를 대입하고, 다음 조건에 맞게 출력하세요.**\n\n- 숫자가 11의 배수일 경우 '11의 배수입니다.'\n- 아니면, '11의 배수가 아닙니다.'",
      "metadata": {
        "id": "YqIW83977eOc"
      }
    },
    {
      "cell_type": "markdown",
      "source": "[결과 예시] num1 = 34인 경우\n\n~~~\n11의 배수가 아닙니다.\n~~~",
      "metadata": {
        "id": "SsXVPTq18N7c"
      }
    },
    {
      "cell_type": "code",
      "source": "num1 = 34\n\nif(num1 % 11 == 0):\n    print('11의 배수입니다.')\nelse:\n    print('11의 배수가 아닙니다.')",
      "metadata": {
        "id": "HWGWUeTxGFSl"
      },
      "execution_count": null,
      "outputs": []
    }
  ]
}