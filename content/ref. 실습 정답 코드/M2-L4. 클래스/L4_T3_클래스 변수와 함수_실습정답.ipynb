{
  "cells": [
    {
      "cell_type": "markdown",
      "source": [
        "# **Topic 3. 클래스 변수와 함수_실습**"
      ],
      "metadata": {
        "id": "JmtNgAOkoGJc"
      }
    },
    {
      "cell_type": "markdown",
      "metadata": {
        "id": "qz7go4MgfJZG"
      },
      "source": [
        "**1) 다음 요구에 따라 Student 클래스를 선언하세요.**\n",
        "\n",
        "- 속성\n",
        "    - name: 이름\n",
        "    - age: 나이\n",
        "- 클래스 변수\n",
        "    - student_count: 전체 학생 수, 인스턴스를 만들면 1씩 증가\n",
        "- 클래스 함수\n",
        "    - total_students(): '전체 학생 수: ○○' 형태의 문자열 반환\n",
        "- ? 부분을 적절히 채우세요.\n"
      ]
    },
    {
      "cell_type": "code",
      "source": [
        "class Student:\n",
        "    student_count = 0\n",
        "\n",
        "    def __init__(self, name, age):\n",
        "        self.name = name\n",
        "        self.age = age\n",
        "        Student.student_count += 1\n",
        "\n",
        "    @classmethod\n",
        "    def total_students(cls):\n",
        "        return f'전체 학생 수: {cls.student_count}'"
      ],
      "metadata": {
        "id": "Gehz909poLHa"
      },
      "execution_count": null,
      "outputs": []
    },
    {
      "cell_type": "markdown",
      "source": [
        "**2) 다음과 같이 Student 클래스의 인스턴스를 두 개 만든 후 클래스 함수를 시용해 전체 학생 수를 확인하세요.**\n",
        "\n",
        "- student1: name='홍길동', age=20\n",
        "- student2: name='한사랑', age=22\n",
        "- ? 부분을 적절히 채우세요."
      ],
      "metadata": {
        "id": "MCFxJm-BqaVI"
      }
    },
    {
      "cell_type": "markdown",
      "source": [
        "[결과 예시]\n",
        "\n",
        "~~~\n",
        "전체 학생 수: 2\n",
        "~~~"
      ],
      "metadata": {
        "id": "H6S3gaP6hX0h"
      }
    },
    {
      "cell_type": "code",
      "source": [
        "student1 = Student('홍길동', 20)\n",
        "student2 = Student('한사랑', 22)\n",
        "print(Student.total_students())"
      ],
      "metadata": {
        "id": "Wp_sRIoPouR0"
      },
      "execution_count": null,
      "outputs": []
    },
    {
      "cell_type": "markdown",
      "metadata": {
        "id": "JmxHASvvhdU4"
      },
      "source": [
        "**3) 다음 요구에 따라 Pen 클래스를 선언하세요.**\n",
        "\n",
        "- 속성\n",
        "    - color: 펜 색깔\n",
        "- 클래스 변수\n",
        "    - total_pens: 전체 펜 수, 인스턴스를 만들면 1씩 증가\n",
        "- 메서드\n",
        "    - describe(): '이것은 ○○ 색깔의 펜입니다.' 형태의 문자열 반환\n",
        "- 클래스 함수\n",
        "    - get_total_pens(): '전체 펜 수: ○' 형태의 문자열 반환\n",
        "- ? 부분을 적절히 채우세요.\n"
      ]
    },
    {
      "cell_type": "code",
      "source": [
        "class Pen:\n",
        "    total_pens = 0\n",
        "\n",
        "    def __init__(self, color):\n",
        "        self.color = color\n",
        "        Pen.total_pens += 1\n",
        "\n",
        "    def describe(self):\n",
        "        return f'이것은 {self.color} 색깔의 펜입니다.'\n",
        "\n",
        "    @classmethod\n",
        "    def get_total_pens(cls):\n",
        "        return f'전체 펜 수: {cls.total_pens}'"
      ],
      "metadata": {
        "id": "2PHPb3obo4cg"
      },
      "execution_count": null,
      "outputs": []
    },
    {
      "cell_type": "markdown",
      "source": [
        "**4) 다음과 같이 Pen 클래스의 인스턴스를 두 개 만든 후 describe() 메서드를 사용해 관련 정보를 확인하세요.**\n",
        "\n",
        "- pen1: color='파랑'\n",
        "- pen2: color='빨강'\n",
        "- ? 부분을 적절히 채우세요."
      ],
      "metadata": {
        "id": "Ennsk6gZqUJl"
      }
    },
    {
      "cell_type": "markdown",
      "source": [
        "[결과 예시]\n",
        "\n",
        "~~~\n",
        "이것은 파랑 색깔의 펜입니다.\n",
        "이것은 빨강 색깔의 펜입니다.\n",
        "~~~"
      ],
      "metadata": {
        "id": "L44v_fWWloSB"
      }
    },
    {
      "cell_type": "code",
      "source": [
        "pen1 = Pen('파랑')\n",
        "pen2 = Pen('빨강')\n",
        "print(pen1.describe())\n",
        "print(pen2.describe())"
      ],
      "metadata": {
        "id": "4DRSQKMgp0G3"
      },
      "execution_count": null,
      "outputs": []
    },
    {
      "cell_type": "markdown",
      "source": [
        "**5) Pen 클래스의 클래스 함수를 사용해 전체 펜 수를 확인하세요.**\n",
        "- ? 부분을 적절히 채우세요."
      ],
      "metadata": {
        "id": "G0dg_3u8qSlG"
      }
    },
    {
      "cell_type": "markdown",
      "source": [
        "[결과 예시]\n",
        "\n",
        "~~~\n",
        "전체 펜 수: 2\n",
        "~~~"
      ],
      "metadata": {
        "id": "7LJfnfW-k7k6"
      }
    },
    {
      "cell_type": "code",
      "source": [
        "print(Pen.get_total_pens())"
      ],
      "metadata": {
        "id": "azEWrfIHp8bq"
      },
      "execution_count": null,
      "outputs": []
    }
  ],
  "metadata": {
    "colab": {
      "provenance": []
    },
    "kernelspec": {
      "display_name": "Python 3 (ipykernel)",
      "language": "python",
      "name": "python3"
    },
    "language_info": {
      "codemirror_mode": {
        "name": "ipython",
        "version": 3
      },
      "file_extension": ".py",
      "mimetype": "text/x-python",
      "name": "python",
      "nbconvert_exporter": "python",
      "pygments_lexer": "ipython3",
      "version": "3.9.13"
    }
  },
  "nbformat": 4,
  "nbformat_minor": 0
}