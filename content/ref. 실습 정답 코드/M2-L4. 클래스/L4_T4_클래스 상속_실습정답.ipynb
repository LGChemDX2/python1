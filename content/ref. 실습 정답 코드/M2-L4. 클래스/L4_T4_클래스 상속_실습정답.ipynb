{
  "cells": [
    {
      "cell_type": "markdown",
      "source": [
        "# **Topic 4. 클래스 상속_실습**"
      ],
      "metadata": {
        "id": "VfxfjKNtm2ZA"
      }
    },
    {
      "cell_type": "markdown",
      "metadata": {
        "id": "oL30k-gGqO4p"
      },
      "source": [
        "**1) 다음 요구에 따라 Person 클래스를 부모 클래스로 선언하세요.**\n",
        "\n",
        "- 속성\n",
        "    - name: 이름\n",
        "    - age:나이\n",
        "- 메서드\n",
        "    - introduce(): '이름: ○○○, 나이: ○○세' 형태의 문자열 반환\n",
        "- ? 부분을 적절히 채우세요.\n"
      ]
    },
    {
      "cell_type": "code",
      "source": [
        "class Person:\n",
        "    def __init__(self, name, age):\n",
        "        self.name = name\n",
        "        self.age = age\n",
        "\n",
        "    def introduce(self):\n",
        "        return f'이름: {self.name}, 나이: {self.age}세'"
      ],
      "metadata": {
        "id": "CiIIlNRrm8cT"
      },
      "execution_count": null,
      "outputs": []
    },
    {
      "cell_type": "markdown",
      "metadata": {
        "id": "mLr6O-pDq2Aw"
      },
      "source": [
        "**2) 다음 요구에 따라 Teacher 클래스를 Person 클래스의 자식 클래스로 선언하세요.**\n",
        "\n",
        "- 속성 추가\n",
        "    - subject: 담당 과목\n",
        "- 메서드 추가\n",
        "    - teach(): '○○○ 선생님이 ○○○ 과목을 가르치고 있습니다.' 형태의 문자열 반환\n",
        "- ? 부분을 적절히 채우세요."
      ]
    },
    {
      "cell_type": "code",
      "source": [
        "class Teacher(Person):\n",
        "    def __init__(self, name, age, subject):\n",
        "        super().__init__(name, age)\n",
        "        self.subject = subject\n",
        "\n",
        "    def teach(self):\n",
        "        return f'{self.name} 선생님이 {self.subject} 과목을 가르치고 있습니다.'"
      ],
      "metadata": {
        "id": "wV9qo5ztp1sq"
      },
      "execution_count": null,
      "outputs": []
    },
    {
      "cell_type": "markdown",
      "metadata": {
        "id": "Lw-HnNkarYUl"
      },
      "source": [
        "**3) 다음 요구에 따라 Student 클래스를 Person 클래스의 자식 클래스로 선언하세요.**\n",
        "\n",
        "- 속성 추가\n",
        "    - grade: 학년\n",
        "- 메서드 추가\n",
        "    - study(): '○○○ 학생이 ○○○ 학년 과정을 공부하고 있습니다.' 형태의 문자열 반환\n",
        "- ? 부분을 적절히 채우세요."
      ]
    },
    {
      "cell_type": "code",
      "source": [
        "class Student(Person):\n",
        "    def __init__(self, name, age, grade):\n",
        "        super().__init__(name, age)\n",
        "        self.grade = grade\n",
        "\n",
        "    def study(self):\n",
        "        return f'{self.name} 학생이 {self.grade} 학년 과정을 공부하고 있습니다.'"
      ],
      "metadata": {
        "id": "M3agvkPAp3Jt"
      },
      "execution_count": null,
      "outputs": []
    },
    {
      "cell_type": "markdown",
      "source": [
        "**4) 다음과 같이 각 클래스의 인스턴스를 하나씩 만드세요.**\n",
        "\n",
        "- Person 클래스\n",
        "    - gildong: name='홍길동', age=32\n",
        "- Teacher 클래스\n",
        "    - jimae: name='일지매', age=42, subject='수학'\n",
        "- Student 클래스\n",
        "    - sarang: name='한사랑', age=15, grade=2\n",
        "- ? 부분을 적절히 채우세요."
      ],
      "metadata": {
        "id": "4b4bKeTSqA3o"
      }
    },
    {
      "cell_type": "code",
      "source": [
        "gildong = Person('홍길동', 32)\n",
        "jimae = Teacher('일지매', 42, '수학')\n",
        "sarang = Student('한사랑', 15, 2)"
      ],
      "metadata": {
        "id": "xyKzLFnyp4fO"
      },
      "execution_count": null,
      "outputs": []
    },
    {
      "cell_type": "markdown",
      "source": [
        "**5) 위에서 만든 세 객체에 대해 사용 가능한 메서드를 사용해 관련 정보를 확인하세요.**\n",
        "- ? 부분을 적절히 채우세요."
      ],
      "metadata": {
        "id": "Ekb9DPEVqCMY"
      }
    },
    {
      "cell_type": "markdown",
      "source": [
        "\n",
        "① gildong"
      ],
      "metadata": {
        "id": "_8p59587t0o2"
      }
    },
    {
      "cell_type": "markdown",
      "source": [
        "[결과 예시]\n",
        "\n",
        "~~~\n",
        "이름: 홍길동, 나이: 32세\n",
        "~~~"
      ],
      "metadata": {
        "id": "FBWrdqRgu2ZX"
      }
    },
    {
      "cell_type": "code",
      "source": [
        "print(gildong.introduce())"
      ],
      "metadata": {
        "id": "Vf00H-LEp5ue"
      },
      "execution_count": null,
      "outputs": []
    },
    {
      "cell_type": "markdown",
      "source": [
        "② jimae"
      ],
      "metadata": {
        "id": "gxs737ABuBNG"
      }
    },
    {
      "cell_type": "markdown",
      "source": [
        "[결과 예시]\n",
        "\n",
        "~~~\n",
        "이름: 일지매, 나이: 42세\n",
        "일지매 선생님이 수학 과목을 가르치고 있습니다.\n",
        "~~~"
      ],
      "metadata": {
        "id": "n8RuWqMRuzLk"
      }
    },
    {
      "cell_type": "code",
      "source": [
        "print(jimae.introduce())\n",
        "print(jimae.teach())"
      ],
      "metadata": {
        "id": "ThF5QxYhtu2_"
      },
      "execution_count": null,
      "outputs": []
    },
    {
      "cell_type": "markdown",
      "source": [
        "③ sarang"
      ],
      "metadata": {
        "id": "ldboW6hSuCci"
      }
    },
    {
      "cell_type": "markdown",
      "source": [
        "[결과 예시]\n",
        "\n",
        "~~~\n",
        "이름: 한사랑, 나이: 15세\n",
        "한사랑 학생이 2 학년 과정을 공부하고 있습니다.\n",
        "~~~"
      ],
      "metadata": {
        "id": "bI_uGZoEuutC"
      }
    },
    {
      "cell_type": "code",
      "source": [
        "print(sarang.introduce())\n",
        "print(sarang.study())"
      ],
      "metadata": {
        "id": "yILL8QUrtv2c"
      },
      "execution_count": null,
      "outputs": []
    }
  ],
  "metadata": {
    "colab": {
      "provenance": []
    },
    "kernelspec": {
      "display_name": "Python 3 (ipykernel)",
      "language": "python",
      "name": "python3"
    },
    "language_info": {
      "codemirror_mode": {
        "name": "ipython",
        "version": 3
      },
      "file_extension": ".py",
      "mimetype": "text/x-python",
      "name": "python",
      "nbconvert_exporter": "python",
      "pygments_lexer": "ipython3",
      "version": "3.9.13"
    }
  },
  "nbformat": 4,
  "nbformat_minor": 0
}