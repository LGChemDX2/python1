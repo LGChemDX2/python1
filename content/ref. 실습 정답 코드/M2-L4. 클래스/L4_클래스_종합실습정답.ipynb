{
  "cells": [
    {
      "cell_type": "markdown",
      "source": [
        "# **Lesson 4. 클래스_종합실습**"
      ],
      "metadata": {
        "id": "VfxfjKNtm2ZA"
      }
    },
    {
      "cell_type": "markdown",
      "metadata": {
        "id": "oL30k-gGqO4p"
      },
      "source": [
        "**1) 다음 요구에 따라 Person 클래스를 부모 클래스로 선언하세요.**\n",
        "\n",
        "- 속성\n",
        "    - name: 이름\n",
        "    - email: 이메일\n",
        "- 메서드\n",
        "    - introduce(): '이름: ○○○, 이메일: ○○○○○○' 형태의 문자열 출력\n"
      ]
    },
    {
      "cell_type": "code",
      "source": [
        "# 부모 클래스 선언\n",
        "class Person:\n",
        "    def __init__(self, name, email):\n",
        "        self.name = name\n",
        "        self.email = email\n",
        "\n",
        "    def introduce(self):\n",
        "        print(f'이름: {self.name}, 이메일: {self.email}')"
      ],
      "metadata": {
        "id": "CiIIlNRrm8cT"
      },
      "execution_count": null,
      "outputs": []
    },
    {
      "cell_type": "markdown",
      "metadata": {
        "id": "CewFsjphYfSp"
      },
      "source": [
        "**2) 다음 요구에 따라 Person 클래스의 자식 클래스 Customer를 선언하세요.**\n",
        "\n",
        "- 추가 속성\n",
        "    - purchase_history: 빈 리스트, 구매 이력, (상품, 가격) 형태의 튜플을 요소로 가짐\n",
        "- 추가 메서드\n",
        "    - make_purchase(): item, price를 매개변수로 받아 (item, price) 형태의 튜플을 purchase_history 리스트에 추가\n",
        "    - show_purchase_history(): 구매 이력을 '상품: ○○○ (○○,○○○원)' 형태로 순차적으로 출력\n",
        "    - 단, 구매 이력이 없으면 '○○○님의 구매 이력이 없습니다.'를 출력\n",
        "- 힌트1: make_purchase() 메서드 안에서 append() 메서드 사용하세요.\n",
        "- 힌트2: show_purchase_history() 메서드 안에서 if 문, for 문을 사용해 구매 이력을 출력하세요."
      ]
    },
    {
      "cell_type": "code",
      "source": [
        "# 자식 클래스 선언\n",
        "class Customer(Person):\n",
        "    def __init__(self, name, email):\n",
        "        super().__init__(name, email)\n",
        "        self.purchase_history = []\n",
        "\n",
        "    def make_purchase(self, item, price):\n",
        "        self.purchase_history.append((item, price))\n",
        "\n",
        "    def show_purchase_history(self):\n",
        "        if not self.purchase_history:\n",
        "            print(f'{self.name}님의 구매 이력이 없습니다.')\n",
        "        else:\n",
        "            for item, price in self.purchase_history:\n",
        "                print(f'상품: {item} ({price:,d}원)')"
      ],
      "metadata": {
        "id": "nC79I1E4x9cL"
      },
      "execution_count": null,
      "outputs": []
    },
    {
      "cell_type": "markdown",
      "source": [
        "**3) 다음과 같이 위에서 선언한 Customer 클래스의 인스턴스를 두 개 만드세요.**\n",
        "\n",
        "- sarang: name='한사랑', email='sarang@example.com'\n",
        "- nadoya: name='나도야', email='nadoya@example.com'"
      ],
      "metadata": {
        "id": "cYEmKKWjaxA7"
      }
    },
    {
      "cell_type": "code",
      "source": [
        "# 객체 생성\n",
        "sarang = Customer('한사랑', 'sarang@example.com')\n",
        "nadoya = Customer('나도야', 'nadoya@example.com')"
      ],
      "metadata": {
        "id": "CBXzXvz5x_E7"
      },
      "execution_count": null,
      "outputs": []
    },
    {
      "cell_type": "markdown",
      "source": [
        "**4) 다음과 같이 위에서 만든 객체를 사용해 한사랑, 나도야 고객의 주문 현황을 추가하세요.**\n",
        "\n",
        "- 한사랑 주문1: '책', 20000\n",
        "- 한사랑 주문2: '노트북', 800000\n",
        "- 나도야 주문1: '스마트폰', 900000\n",
        "- 힌트: make_purchase() 메서드를 사용하세요."
      ],
      "metadata": {
        "id": "fxY30coJbIbJ"
      }
    },
    {
      "cell_type": "code",
      "source": [
        "# 객체 사용\n",
        "sarang.make_purchase('책', 20000)\n",
        "sarang.make_purchase('노트북', 800000)\n",
        "nadoya.make_purchase('스마트폰', 900000)"
      ],
      "metadata": {
        "id": "TR2dSnFcyAVr"
      },
      "execution_count": null,
      "outputs": []
    },
    {
      "cell_type": "markdown",
      "source": [
        "**5) 한사랑, 나도야 고객 소개와 구매 이력을 확인하세요.**\n",
        "\n",
        "- 힌트: introduce(), show_purchase_history() 메서드를 사용하세요."
      ],
      "metadata": {
        "id": "hRViJIgHcCbp"
      }
    },
    {
      "cell_type": "markdown",
      "source": [
        "[결과 예시]\n",
        "\n",
        "~~~\n",
        "이름: 한사랑, 이메일: sarang@example.com\n",
        "상품: 책 (20,000원)\n",
        "상품: 노트북 (800,000원)\n",
        "~~~"
      ],
      "metadata": {
        "id": "ARv-EE9ydElO"
      }
    },
    {
      "cell_type": "code",
      "source": [
        "# 한사랑 확인\n",
        "sarang.introduce()\n",
        "sarang.show_purchase_history()"
      ],
      "metadata": {
        "id": "FsjGcKM8yB7v"
      },
      "execution_count": null,
      "outputs": []
    },
    {
      "cell_type": "markdown",
      "source": [
        "[결과 예시]\n",
        "\n",
        "~~~\n",
        "이름: 나도야, 이메일: nadoya@example.com\n",
        "상품: 스마트폰 (900,000원)\n",
        "~~~"
      ],
      "metadata": {
        "id": "8M19cxc7dBPW"
      }
    },
    {
      "cell_type": "code",
      "source": [
        "# 나도야 확인\n",
        "nadoya.introduce()\n",
        "nadoya.show_purchase_history()"
      ],
      "metadata": {
        "id": "ZqUlTwolyGgP"
      },
      "execution_count": null,
      "outputs": []
    }
  ],
  "metadata": {
    "colab": {
      "provenance": []
    },
    "kernelspec": {
      "display_name": "Python 3 (ipykernel)",
      "language": "python",
      "name": "python3"
    },
    "language_info": {
      "codemirror_mode": {
        "name": "ipython",
        "version": 3
      },
      "file_extension": ".py",
      "mimetype": "text/x-python",
      "name": "python",
      "nbconvert_exporter": "python",
      "pygments_lexer": "ipython3",
      "version": "3.9.13"
    }
  },
  "nbformat": 4,
  "nbformat_minor": 0
}