{
  "metadata": {
    "colab": {
      "provenance": []
    },
    "kernelspec": {
      "name": "python",
      "display_name": "Python (Pyodide)",
      "language": "python"
    },
    "language_info": {
      "codemirror_mode": {
        "name": "python",
        "version": 3
      },
      "file_extension": ".py",
      "mimetype": "text/x-python",
      "name": "python",
      "nbconvert_exporter": "python",
      "pygments_lexer": "ipython3",
      "version": "3.8"
    }
  },
  "nbformat_minor": 4,
  "nbformat": 4,
  "cells": [
    {
      "cell_type": "markdown",
      "source": "# **Topic 1. 문자열 표현과 연산_실습**",
      "metadata": {
        "id": "-SEyFxwm24aY"
      }
    },
    {
      "cell_type": "markdown",
      "source": "**1) 문자열 '나는' 과 '너를...'을 붙여서 출력하세요.**",
      "metadata": {
        "id": "ZweoqhKc4Mip"
      }
    },
    {
      "cell_type": "markdown",
      "source": "[결과 예시]\n\n~~~\n나는너를...\n~~~",
      "metadata": {
        "id": "vl8W4m2AZOfw"
      }
    },
    {
      "cell_type": "code",
      "source": "print('나는' + '너를...')",
      "metadata": {
        "id": "Vu6lXL3z24aY"
      },
      "execution_count": null,
      "outputs": []
    },
    {
      "cell_type": "markdown",
      "source": "**2) 문자열 '나는'과 '너를...' 사이에 한 칸 띄어서 출력하세요.**",
      "metadata": {
        "id": "AhDt0mx64N-B"
      }
    },
    {
      "cell_type": "markdown",
      "source": "[결과 예시]\n\n~~~\n나는 너를...\n~~~",
      "metadata": {
        "id": "IvBbDx5QZT2q"
      }
    },
    {
      "cell_type": "code",
      "source": "print('나는' + ' ' + '너를...')",
      "metadata": {
        "id": "Cit_5fLj24aZ"
      },
      "execution_count": null,
      "outputs": []
    },
    {
      "cell_type": "markdown",
      "source": "**3) '안녕하세요?' 3개와 '반갑습니다!' 2개를 하나의 print() 함수로 출력하세요.**",
      "metadata": {
        "id": "2tAHHR204UI9"
      }
    },
    {
      "cell_type": "markdown",
      "source": "[결과 예시]\n\n~~~\n안녕하세요?안녕하세요?안녕하세요? 반갑습니다!반갑습니다!\n~~~",
      "metadata": {
        "id": "YIm-Tw83ZZbu"
      }
    },
    {
      "cell_type": "code",
      "source": "print('안녕하세요?' * 3, '반갑습니다!' * 2)",
      "metadata": {
        "id": "nInJf9Qr24aZ"
      },
      "execution_count": null,
      "outputs": []
    },
    {
      "cell_type": "markdown",
      "source": "**4) 임의의 정수를 갖는 변수 e를 선언하고, 문자열 '안녕하세요?'를 갖는 변수 f를 선언한 후 변수 f의 값을 e 개 출력하세요.**",
      "metadata": {
        "id": "4otsnRqy5Fac"
      }
    },
    {
      "cell_type": "markdown",
      "source": "[결과 예시]\n\n~~~\n안녕하세요?안녕하세요?안녕하세요?\n~~~",
      "metadata": {
        "id": "h7TL2uQpZeNP"
      }
    },
    {
      "cell_type": "code",
      "source": "e = 3\nf = '안녕하세요?'\nprint(f * e)",
      "metadata": {
        "id": "yzecGHGx24ab"
      },
      "execution_count": null,
      "outputs": []
    },
    {
      "cell_type": "markdown",
      "source": "**5) [결과 예시]와 같이 표시되도록 문자열을 변수 a로 선언하고 출력하세요.**",
      "metadata": {
        "id": "R596XVypqm-k"
      }
    },
    {
      "cell_type": "markdown",
      "source": "[결과 예시]\n\n~~~\n이름: 홍길동\n나이: 48\n~~~",
      "metadata": {
        "id": "LVgBAqypZEP5"
      }
    },
    {
      "cell_type": "code",
      "source": "a = '''이름: 홍길동\n나이: 48'''\n\nprint(a)",
      "metadata": {
        "id": "76dc675d"
      },
      "execution_count": null,
      "outputs": []
    },
    {
      "cell_type": "markdown",
      "source": "**6) [결과 예시]와 같이 표시되도록 문자열을 변수 b로 선언하고 출력하세요.**",
      "metadata": {
        "id": "Vj6D9G9xq7Ap"
      }
    },
    {
      "cell_type": "markdown",
      "source": "[결과 예시]\n\n~~~\n[전화번호부]\n강우동: 010-1234-5678\n김칫국: 010-2346-1578\n한국인: 010-3458-6712\n~~~",
      "metadata": {
        "id": "m-xoMa-gY7-A"
      }
    },
    {
      "cell_type": "code",
      "source": "b = '''[전화번호부]\n강우동: 010-1234-5678\n김칫국: 010-2346-1578\n한국인: 010-3458-6712\n'''\nprint(b)",
      "metadata": {
        "id": "f4ed0ea9"
      },
      "execution_count": null,
      "outputs": []
    }
  ]
}