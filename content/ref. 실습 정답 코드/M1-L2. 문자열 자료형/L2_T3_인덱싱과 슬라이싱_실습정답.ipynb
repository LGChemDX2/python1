{
  "cells": [
    {
      "cell_type": "markdown",
      "metadata": {
        "id": "gTMo_wsYThUt"
      },
      "source": [
        "# **Topic 3. 인덱싱과 슬라이싱_실습**"
      ]
    },
    {
      "cell_type": "markdown",
      "metadata": {
        "id": "ypIKAIvHmABx"
      },
      "source": [
        "**1) 변수 a에 '문자열을 다뤄 봅시다.'를 대입하고 두 번째 문자를 출력하세요.**"
      ]
    },
    {
      "cell_type": "markdown",
      "metadata": {
        "id": "_3fP6tVshG-6"
      },
      "source": [
        "[결과 예시]\n",
        "\n",
        "~~~\n",
        "자\n",
        "~~~"
      ]
    },
    {
      "cell_type": "code",
      "execution_count": null,
      "metadata": {
        "id": "f250c4bc"
      },
      "outputs": [],
      "source": [
        "a = '문자열을 다뤄 봅시다.'\n",
        "print(a[1])"
      ]
    },
    {
      "cell_type": "markdown",
      "metadata": {
        "id": "j3CQ18bgmNrq"
      },
      "source": [
        "**2) 변수 a에 '문자열을 다뤄 봅시다.'를 대입하고 세 번째부터 일곱 번째 문자까지 출력하세요.**"
      ]
    },
    {
      "cell_type": "markdown",
      "metadata": {
        "id": "rYTQmpN0hKDM"
      },
      "source": [
        "[결과 예시]\n",
        "\n",
        "~~~\n",
        "열을 다뤄\n",
        "~~~"
      ]
    },
    {
      "cell_type": "code",
      "execution_count": null,
      "metadata": {
        "id": "0de9e3ec"
      },
      "outputs": [],
      "source": [
        "a = '문자열을 다뤄 봅시다.'\n",
        "print(a[2:7])"
      ]
    },
    {
      "cell_type": "markdown",
      "metadata": {
        "id": "S7zDWSn7mclU"
      },
      "source": [
        "**3) 변수 a에 '문자열을 다뤄 봅시다.'를 대입하고 뒤에서 두 번째 문자를 출력하세요.**"
      ]
    },
    {
      "cell_type": "markdown",
      "metadata": {
        "id": "PYmq3zlXhKaD"
      },
      "source": [
        "[결과 예시]\n",
        "\n",
        "~~~\n",
        "다\n",
        "~~~"
      ]
    },
    {
      "cell_type": "code",
      "execution_count": null,
      "metadata": {
        "id": "61fea94c"
      },
      "outputs": [],
      "source": [
        "a = '문자열을 다뤄 봅시다.'\n",
        "print(a[-2])"
      ]
    },
    {
      "cell_type": "markdown",
      "metadata": {
        "id": "ySBzKiDqmon6"
      },
      "source": [
        "**4) 변수 a에 '문자열을 다뤄 봅시다.'를 대입하고 뒤에서 일곱 번째부터 여섯 번째 문자까지 출력하세요.**"
      ]
    },
    {
      "cell_type": "markdown",
      "metadata": {
        "id": "HTaKMqswhKyU"
      },
      "source": [
        "[결과 예시]\n",
        "\n",
        "~~~\n",
        "다뤄\n",
        "~~~"
      ]
    },
    {
      "cell_type": "code",
      "execution_count": null,
      "metadata": {
        "id": "4b079f6f"
      },
      "outputs": [],
      "source": [
        "a = '문자열을 다뤄 봅시다.'\n",
        "print(a[-7:-5])"
      ]
    },
    {
      "cell_type": "markdown",
      "metadata": {
        "id": "xHa98IcSnDv_"
      },
      "source": [
        "**5) 변수 b에 '파이썬 배울수록 재미있죠?'를 대입하고 여섯 번째부터 마지막 문자까지 출력하세요.**"
      ]
    },
    {
      "cell_type": "markdown",
      "metadata": {
        "id": "QP-WYTM1hLPU"
      },
      "source": [
        "[결과 예시]\n",
        "\n",
        "~~~\n",
        "울수록 재미있죠?\n",
        "~~~"
      ]
    },
    {
      "cell_type": "code",
      "execution_count": null,
      "metadata": {
        "id": "b7eab123"
      },
      "outputs": [],
      "source": [
        "b = '파이썬 배울수록 재미있죠?'\n",
        "print(b[5:])"
      ]
    },
    {
      "cell_type": "markdown",
      "metadata": {
        "id": "qx3FEXJ-nay3"
      },
      "source": [
        "**6) 변수 b에 '파이썬 배울수록 재미있죠?'를 대입하고 맨 뒤 다섯 문자를 출력하세요.**"
      ]
    },
    {
      "cell_type": "markdown",
      "metadata": {
        "id": "2gjwSaFOhLw8"
      },
      "source": [
        "[결과 예시]\n",
        "\n",
        "~~~\n",
        "재미있죠?\n",
        "~~~"
      ]
    },
    {
      "cell_type": "code",
      "execution_count": null,
      "metadata": {
        "id": "3db67d11"
      },
      "outputs": [],
      "source": [
        "b = '파이썬 배울수록 재미있죠?'\n",
        "print(b[-5:])"
      ]
    }
  ],
  "metadata": {
    "colab": {
      "provenance": []
    },
    "kernelspec": {
      "display_name": "Python 3 (ipykernel)",
      "language": "python",
      "name": "python3"
    },
    "language_info": {
      "codemirror_mode": {
        "name": "ipython",
        "version": 3
      },
      "file_extension": ".py",
      "mimetype": "text/x-python",
      "name": "python",
      "nbconvert_exporter": "python",
      "pygments_lexer": "ipython3",
      "version": "3.11.5"
    }
  },
  "nbformat": 4,
  "nbformat_minor": 0
}