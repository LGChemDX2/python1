{
  "cells": [
    {
      "cell_type": "markdown",
      "metadata": {
        "id": "1XJZpzPF4t3Y"
      },
      "source": [
        "# **Topic 3. 관련 메서드_실습**"
      ]
    },
    {
      "cell_type": "markdown",
      "source": [
        "**1) 다음 딕셔너리 member에서 키(key)와 값(value)을 확인하세요.**"
      ],
      "metadata": {
        "id": "iPXp4De8CoXe"
      }
    },
    {
      "cell_type": "markdown",
      "source": [
        "[결과 예시]\n",
        "\n",
        "~~~\n",
        "['이름', '지역', '성별', '취미']\n",
        "['홍길동', '서울', '남자', ['등산', '영화감상', '파이썬코딩']]\n",
        "~~~"
      ],
      "metadata": {
        "id": "kTwKz67NBWOl"
      }
    },
    {
      "cell_type": "code",
      "execution_count": null,
      "metadata": {
        "id": "e0cf8f00"
      },
      "outputs": [],
      "source": [
        "member = {'이름': '홍길동',\n",
        "          '지역': '서울',\n",
        "          '성별': '남자',\n",
        "          '취미': ['등산', '영화감상', '파이썬코딩']}\n",
        "print(list(member. ))\n",
        "print(list(member. ))"
      ]
    },
    {
      "cell_type": "markdown",
      "source": [
        "**2) 다음 딕셔너리 member에서 키(key)와 값(value)을 쌍으로 확인하세요.**"
      ],
      "metadata": {
        "id": "_cTNxHGWCpaP"
      }
    },
    {
      "cell_type": "markdown",
      "source": [
        "[결과 예시]\n",
        "\n",
        "~~~\n",
        "[('이름', '홍길동'), ('지역', '서울'), ('성별', '남자'), ('취미', ['등산', '영화감상', '파이썬코딩'])]\n",
        "~~~"
      ],
      "metadata": {
        "id": "Mknob9kXBoZO"
      }
    },
    {
      "cell_type": "code",
      "execution_count": null,
      "metadata": {
        "id": "308b941b"
      },
      "outputs": [],
      "source": [
        "member = {'이름': '홍길동',\n",
        "          '지역': '서울',\n",
        "          '성별': '남자',\n",
        "          '취미': ['등산', '영화감상', '파이썬코딩']}\n",
        "print(list(member. ))"
      ]
    },
    {
      "cell_type": "markdown",
      "source": [
        "**3) 다음 딕셔너리 member에서 '취미'와 '특기'를 확인하세요.**\n",
        "\n",
        "- 단, 해당 키(key)가 없으면 '없음'으로 표시되게 하세요."
      ],
      "metadata": {
        "id": "47nrminWCp5u"
      }
    },
    {
      "cell_type": "markdown",
      "source": [
        "[결과 예시]\n",
        "\n",
        "~~~\n",
        "['등산', '영화감상', '파이썬코딩']\n",
        "없음\n",
        "~~~"
      ],
      "metadata": {
        "id": "-riefhQ7B8VE"
      }
    },
    {
      "cell_type": "code",
      "source": [
        "member = {'이름': '홍길동',\n",
        "          '지역': '서울',\n",
        "          '성별': '남자',\n",
        "          '취미': ['등산', '영화감상', '파이썬코딩']}\n",
        "print(member. )\n",
        "print(member. )"
      ],
      "metadata": {
        "id": "BBuuA_jq4v6f"
      },
      "execution_count": null,
      "outputs": []
    },
    {
      "cell_type": "markdown",
      "source": [
        "**4) 다음 딕셔너리 member에서 '취미'를 삭제하고, 삭제된 값(value)을 확인하세요.**"
      ],
      "metadata": {
        "id": "4KEPiymyCqYo"
      }
    },
    {
      "cell_type": "markdown",
      "source": [
        "[결과 예시]\n",
        "\n",
        "~~~\n",
        "{'이름': '홍길동', '지역': '서울', '성별': '남자'}\n",
        "삭제: ['등산', '영화감상', '파이썬코딩']\n",
        "~~~"
      ],
      "metadata": {
        "id": "R37nzoYqCQL2"
      }
    },
    {
      "cell_type": "code",
      "source": [
        "member = {'이름': '홍길동',\n",
        "          '지역': '서울',\n",
        "          '성별': '남자',\n",
        "          '취미': ['등산', '영화감상', '파이썬코딩']}\n",
        "deleted = member.\n",
        "print(member)\n",
        "print('삭제:', deleted)"
      ],
      "metadata": {
        "id": "IBGUqrAPCAQq"
      },
      "execution_count": null,
      "outputs": []
    },
    {
      "cell_type": "markdown",
      "source": [
        "**5) 다음 딕셔너리 member에서 마지막 요소를 삭제하고, 삭제된 키(key)와 값(value)을 쌍으로 확인하세요.**"
      ],
      "metadata": {
        "id": "24skQnKrCrCX"
      }
    },
    {
      "cell_type": "markdown",
      "source": [
        "[결과 예시]\n",
        "\n",
        "~~~\n",
        "{'이름': '홍길동', '지역': '서울', '성별': '남자'}\n",
        "삭제: ('취미', ['등산', '영화감상', '파이썬코딩'])\n",
        "~~~"
      ],
      "metadata": {
        "id": "DK0j9wKTCfQw"
      }
    },
    {
      "cell_type": "code",
      "source": [
        "member = {'이름': '홍길동',\n",
        "          '지역': '서울',\n",
        "          '성별': '남자',\n",
        "          '취미': ['등산', '영화감상', '파이썬코딩']}\n",
        "deleted = member.\n",
        "print(member)\n",
        "print('삭제:', deleted)"
      ],
      "metadata": {
        "id": "bMrNUMHMCTuu"
      },
      "execution_count": null,
      "outputs": []
    }
  ],
  "metadata": {
    "colab": {
      "provenance": [],
      "toc_visible": true
    },
    "kernelspec": {
      "display_name": "Python 3 (ipykernel)",
      "language": "python",
      "name": "python3"
    },
    "language_info": {
      "codemirror_mode": {
        "name": "ipython",
        "version": 3
      },
      "file_extension": ".py",
      "mimetype": "text/x-python",
      "name": "python",
      "nbconvert_exporter": "python",
      "pygments_lexer": "ipython3",
      "version": "3.9.7"
    }
  },
  "nbformat": 4,
  "nbformat_minor": 0
}