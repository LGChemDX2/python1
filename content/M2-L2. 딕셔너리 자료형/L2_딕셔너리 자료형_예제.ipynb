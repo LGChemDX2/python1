{
  "metadata": {
    "colab": {
      "provenance": []
    },
    "kernelspec": {
      "name": "python",
      "display_name": "Python (Pyodide)",
      "language": "python"
    },
    "language_info": {
      "codemirror_mode": {
        "name": "python",
        "version": 3
      },
      "file_extension": ".py",
      "mimetype": "text/x-python",
      "name": "python",
      "nbconvert_exporter": "python",
      "pygments_lexer": "ipython3",
      "version": "3.8"
    }
  },
  "nbformat_minor": 4,
  "nbformat": 4,
  "cells": [
    {
      "cell_type": "markdown",
      "source": "# **Lesson 2. 딕셔너리 자료형**\n데이터 분석 초급 과정 1 (Python) > Module 2. Python Skill-Up",
      "metadata": {
        "id": "pbxEQNZMr9De"
      }
    },
    {
      "cell_type": "markdown",
      "source": "## **Topic 1. 딕셔너리에 대한 이해**",
      "metadata": {
        "id": "slSMi2mej0aI"
      }
    },
    {
      "cell_type": "markdown",
      "source": "### **1) 딕셔너리 만들기**\n\n- 딕셔너리는 집합과 마찬가지로 중괄호 { } 를 사용해 선언합니다.\n- 하지만 {key1: value1, key2: value2, key3: value3,...}의 형태를 가지므로 집합과 구분됩니다.",
      "metadata": {
        "id": "ytbemGRa8La-"
      }
    },
    {
      "cell_type": "markdown",
      "source": "#### **① 일정한 정보를 갖는 딕셔너리**",
      "metadata": {
        "id": "B8qyYePF25RJ"
      }
    },
    {
      "cell_type": "code",
      "source": "# 딕셔너리 선언\nword = {'love': '사랑', 'happy': '행복', 'dream': '꿈'}\n\n# 확인\nprint(word)",
      "metadata": {
        "id": "qdtEJ0OmjuDu"
      },
      "execution_count": null,
      "outputs": []
    },
    {
      "cell_type": "code",
      "source": "# 딕셔너리 선언\nscore = {'홍길동': 100, '한여인': 90, '일지매': 90}\n\n# 확인\nprint(score)",
      "metadata": {
        "id": "GCz70kajJRwo"
      },
      "execution_count": null,
      "outputs": []
    },
    {
      "cell_type": "markdown",
      "source": "- 다음과 같이 요소를 아래로 나열하면 가독성이 좋아집니다.",
      "metadata": {
        "id": "8IlNvjtQbz9W"
      }
    },
    {
      "cell_type": "code",
      "source": "# 딕셔너리 선언\nscore = {'홍길동': 100,\n         '한여인': 90,\n         '일지매': 90}\n\n# 확인\nprint(score)",
      "metadata": {
        "id": "VZRnwCn-bwUv"
      },
      "execution_count": null,
      "outputs": []
    },
    {
      "cell_type": "markdown",
      "source": "#### **② 다양한 정보를 갖는 딕셔너리**\n\n- 리스트나 튜플을 값(value)으로 가질 수 있습니다.",
      "metadata": {
        "id": "4lQb9tkP29RO"
      }
    },
    {
      "cell_type": "code",
      "source": "# 딕셔너리 선언\nmember1 = {'이름':'홍길동',\n           '나이':20,\n           '지역':'서울'}\n\n# 확인\nprint(member1)",
      "metadata": {
        "id": "msZbFz7-28lv"
      },
      "execution_count": null,
      "outputs": []
    },
    {
      "cell_type": "code",
      "source": "# 딕셔너리 선언\nmember2 = {'이름': '홍길동',\n           '취미': ['독서', '여행', '걷기']}\n\n# 확인\nprint(member2)",
      "metadata": {
        "id": "9SF4vIqbJYRf"
      },
      "execution_count": null,
      "outputs": []
    },
    {
      "cell_type": "markdown",
      "source": "#### **③ 숫자가 키(key)인 경우**\n\n- 당연히 숫자도 키(key)가 될 수 있습니다.",
      "metadata": {
        "id": "GvUudb8B3Hv5"
      }
    },
    {
      "cell_type": "code",
      "source": "# 딕셔너리 선언\nnums = {1: 10, 2: 20, 3: 30}\n\n# 확인\nprint(nums)",
      "metadata": {
        "id": "gH7mPSvx3Hdl"
      },
      "execution_count": null,
      "outputs": []
    },
    {
      "cell_type": "markdown",
      "source": "#### **④ 같은 키(key) 무시**\n\n- 만일 키(key)가 같은 요소가 있으면 하나만 남기고 나머지는 무시됩니다.",
      "metadata": {
        "id": "V-KvoMmufl9w"
      }
    },
    {
      "cell_type": "code",
      "source": "# 딕셔너리 선언\nscore = {'홍길동': 100,\n         '한여인': 90,\n         '홍길동': 95,\n         '한여인': 90,\n         '한국인': 75,\n         '일지매': 90}\n\n# 확인\nprint(score)",
      "metadata": {
        "id": "AfGG0hINgADg"
      },
      "execution_count": null,
      "outputs": []
    },
    {
      "cell_type": "markdown",
      "source": "#### **⑤ dict() 함수로 만들기**\n\n- dict() 함수를 사용해 튜플과 리스트를 딕셔너리로 변환할 수 있습니다.\n- 단, 충분히 키(key): 값(value) 형태로 변환될 수 있는 형태여야 합니다.",
      "metadata": {
        "id": "qYjVG1Xq8Uli"
      }
    },
    {
      "cell_type": "code",
      "source": "# 리스트 선언\nmembers = [['홍길동', 100], ['일지매', 90], ['한여인', 90], ['강우동', 95]]\n\n# 딕셔너리로 변환\nmember_dic = dict(members)\n\n# 확인\nprint(member_dic)",
      "metadata": {
        "id": "3dBbqTOiue8b",
        "scrolled": true
      },
      "execution_count": null,
      "outputs": []
    },
    {
      "cell_type": "code",
      "source": "# 튜플 선언\nmembers = (('홍길동', 100), ('일지매', 90), ('한여인', 90), ('강우동', 95))\n\n# 딕셔너리로 변환\nmember_dic = dict(members)\n\n# 확인\nprint(member_dic)",
      "metadata": {
        "id": "_wt8-KdN3o_F"
      },
      "execution_count": null,
      "outputs": []
    },
    {
      "cell_type": "markdown",
      "source": "#### **[참고] 키(key)가 될 수 없는 리스트**\n\n- 키(key)는 고유한 값이어야 하므로, 변경될 수 없습니다.\n- 튜플은 변경 불가능한 자료형이지만, 리스트는 변경 가능한 자료형입니다.\n- 그러므로 리스트는 딕셔너리의 키(key)가 될 수 없습니다.",
      "metadata": {
        "id": "qejObbTg8LbB"
      }
    },
    {
      "cell_type": "code",
      "source": "# 딕셔너리 선언\nmember = {('이름', '나이'): ['홍길동', 20]}\n\n# 확인\nprint(member)",
      "metadata": {
        "id": "EpIfHF9U-RYI"
      },
      "execution_count": null,
      "outputs": []
    },
    {
      "cell_type": "code",
      "source": "# 딕셔너리 선언(?)\nmember = {['이름', '나이']: ['홍길동', 20]}",
      "metadata": {
        "id": "gsuBE5Qbp6ro"
      },
      "execution_count": null,
      "outputs": []
    },
    {
      "cell_type": "markdown",
      "source": "### **2) 딕셔너리 조회**\n\n- 딕셔너리는 요소 순서가 없으므로 인덱싱과 슬라이싱을 할 수 없습니다.\n- 키(key)를 사용해 값(value)을 찾는 방식으로 조회합니다.",
      "metadata": {
        "id": "2qbqa1G_oxPT"
      }
    },
    {
      "cell_type": "code",
      "source": "# 딕셔너리 선언\nmember = {'이름': '홍길동',\n          '취미': ['독서', '여행', '걷기']}",
      "metadata": {
        "id": "EPluiWMrFvP6"
      },
      "execution_count": null,
      "outputs": []
    },
    {
      "cell_type": "code",
      "source": "# 이름 조회\nmember['이름']",
      "metadata": {
        "id": "XZX0WS-JN_1O"
      },
      "execution_count": null,
      "outputs": []
    },
    {
      "cell_type": "code",
      "source": "# 취미 조회\nmember['취미']",
      "metadata": {
        "id": "a4geh6DIFvQA"
      },
      "execution_count": null,
      "outputs": []
    },
    {
      "cell_type": "markdown",
      "source": "- in 연산자를 사용해 해당 키(key)가 있는지 확인할 수 있습니다.",
      "metadata": {
        "id": "cQOHZEj8ZUti"
      }
    },
    {
      "cell_type": "code",
      "source": "# 존재 여부 확인\nprint('이름' in member)             # True\nprint('홍길동' in member)           # False\nprint('여행' in member['취미'])     # True",
      "metadata": {
        "id": "ckXN3hl7ZPCU"
      },
      "execution_count": null,
      "outputs": []
    },
    {
      "cell_type": "markdown",
      "source": "## **Topic 2. 변경, 추가, 삭제**",
      "metadata": {
        "id": "_-2mJo9Vnluk"
      }
    },
    {
      "cell_type": "markdown",
      "source": "### **1) 변경**\n\n- 인덱스 대신 키(key)로 찾아 변경한다는 것 외에는 리스트와 같습니다.",
      "metadata": {
        "id": "5BJZE4AY8LbL"
      }
    },
    {
      "cell_type": "code",
      "source": "# 딕셔너리 선언\nmember = {'이름': '홍길동',\n          '나이': 20}\n\n# 확인\nprint(member)",
      "metadata": {
        "id": "_6zJd-ELnr16"
      },
      "execution_count": null,
      "outputs": []
    },
    {
      "cell_type": "code",
      "source": "# 요소 값 변경\nmember['나이'] = 30\n\n# 확인\nprint(member)",
      "metadata": {
        "id": "1xzIuJp2wu80"
      },
      "execution_count": null,
      "outputs": []
    },
    {
      "cell_type": "markdown",
      "source": "### **2) 추가**\n- 없는 키(key)로 변경하면 키(key):값(value) 형태로 추가됩니다.",
      "metadata": {
        "id": "46NS0seiw0Mj"
      }
    },
    {
      "cell_type": "code",
      "source": "# 요소 추가\nmember['취미'] = ['독서', '여행']\n\n# 확인\nprint(member)",
      "metadata": {
        "id": "klhoX9lAwv03"
      },
      "execution_count": null,
      "outputs": []
    },
    {
      "cell_type": "markdown",
      "source": "### **3) 삭제**",
      "metadata": {
        "id": "sitF7cq38LbM"
      }
    },
    {
      "cell_type": "code",
      "source": "# 딕셔너리 선언\nmember = {'이름': '홍길동',\n          '나이': 20,\n          '지역':'서울',\n          '성별': 'M',\n          '등급': 'Gold'}\n\n# 확인\nprint(member)",
      "metadata": {
        "id": "pbPO40S4oheT"
      },
      "execution_count": null,
      "outputs": []
    },
    {
      "cell_type": "markdown",
      "source": "- **del** 문으로 키(key)를 지정해 해당 요소를 삭제합니다.",
      "metadata": {
        "id": "kAy6J9P3iyBW"
      }
    },
    {
      "cell_type": "code",
      "source": "# 요소 삭제\ndel member['나이']\n\n# 확인\nprint(member)",
      "metadata": {
        "id": "DNJ2VQUJxdrU"
      },
      "execution_count": null,
      "outputs": []
    },
    {
      "cell_type": "markdown",
      "source": "## **Topic 3. 관련 메서드**",
      "metadata": {
        "id": "Hy2LyjoPqNpp"
      }
    },
    {
      "cell_type": "markdown",
      "source": "### **1) 조회용 메서드**",
      "metadata": {
        "id": "zKIOSK67qmXw"
      }
    },
    {
      "cell_type": "markdown",
      "source": "#### **① keys() 메서드**\n\n- keys() 메서드를 사용해 키(key) 정보를 확인합니다.\n- 모든 키(key)를 요소로 갖는 dict_keys 객체를 반환합니다.",
      "metadata": {
        "id": "OJ_pM8PSqbY0"
      }
    },
    {
      "cell_type": "code",
      "source": "# 딕셔너리 선언\nmember = {'이름': '홍길동',\n          '취미': ['독서', '여행', '걷기']}\n\n# 키(key)만 추출\nmember_keys = list(member.keys())\n\n# 확인\nprint(member_keys)",
      "metadata": {
        "id": "Gr2yT3iBqRdB"
      },
      "execution_count": null,
      "outputs": []
    },
    {
      "cell_type": "markdown",
      "source": "- 다음과 같이 keys() 메서드 없이도 키(key) 정보를 확인할 수 있습니다.",
      "metadata": {
        "id": "XYOzpeUX3YXt"
      }
    },
    {
      "cell_type": "code",
      "source": "# 딕셔너리 선언\nmember = {'이름': '홍길동',\n          '취미': ['독서', '여행', '걷기']}\n\n# 키(key)만 추출\nmember_keys = list(member)\n\n# 확인\nprint(member_keys)",
      "metadata": {
        "id": "scDVpoBc3Wfd"
      },
      "execution_count": null,
      "outputs": []
    },
    {
      "cell_type": "markdown",
      "source": "#### **② values() 메서드**\n\n- values() 메서드를 사용해 값(value) 정보를 확인합니다.\n- 모든 값(value)을 요소로 갖는 dict_values 객체를 반환합니다.",
      "metadata": {
        "id": "MJeKOA0bq8p5"
      }
    },
    {
      "cell_type": "code",
      "source": "# 딕셔너리 선언\nmember = {'이름': '홍길동',\n          '취미': ['독서', '여행', '걷기']}\n\n# 값(value)만 추출\nmember_values = list(member.values())\n\n# 확인\nprint(member_values)",
      "metadata": {
        "id": "1s1RaRYJd62r"
      },
      "execution_count": null,
      "outputs": []
    },
    {
      "cell_type": "markdown",
      "source": "#### **③ items() 메서드**\n- items() 메서드를 사용해 키(key)와 값(value) 정보를 확인합니다.\n- 모든 키(key)와 값(value)을 쌍으로 갖는 dict_items 객체를 반환합니다.",
      "metadata": {
        "id": "EHwjcqokrZ_v"
      }
    },
    {
      "cell_type": "code",
      "source": "# 딕셔너리 선언\nmember = {'이름': '홍길동',\n          '취미': ['독서', '여행', '걷기']}\n\n# 키(key), 값(value) 추출\nmember_items = list(member.items())\n\n# 확인\nprint(member_items)",
      "metadata": {
        "id": "r6WWNcKxKNeG"
      },
      "execution_count": null,
      "outputs": []
    },
    {
      "cell_type": "markdown",
      "source": "#### **④ get() 메서드**\n\n- get() 메서드를 사용해 키(key)를 지정해 값(value)을 찾을 수 있습니다.\n- 키(key)로 값(value)을 찾을 수 없을 때 대신 출력할 값을 지정할 수 있습니다.",
      "metadata": {
        "id": "oic7yU__sBLE"
      }
    },
    {
      "cell_type": "code",
      "source": "# 딕셔너리 선언\nmember = {'이름': '홍길동',\n          '취미': ['독서', '여행', '걷기']}\n\n# 확인\nprint(member.get('이름'))\nprint(member.get('이메일'))\nprint(member.get('이메일', '없음'))",
      "metadata": {
        "id": "aEhENYtjsORr"
      },
      "execution_count": null,
      "outputs": []
    },
    {
      "cell_type": "markdown",
      "source": "### **2) 삭제용 메서드**",
      "metadata": {
        "id": "u550SSJiqs0f"
      }
    },
    {
      "cell_type": "markdown",
      "source": "#### **① pop() 메서드**\n\n- pop() 메서드를 사용하면 키(key)를 지정해 요소를 삭제할 수 있습니다.\n- 삭제된 요소의 값(value)을 반환하므로, 어떤 값(value)이 삭제되었는지 확인할 수 있습니다.",
      "metadata": {
        "id": "cGsN5AEhhoD1"
      }
    },
    {
      "cell_type": "code",
      "source": "# 딕셔너리 선언\nmember = {'이름': '홍길동',\n          '나이': 20,\n          '지역': '서울',\n          '성별': 'M',\n          '등급': 'Gold'}\n\n# 요소 삭제\ndel_member = member.pop('지역')\n\n# 확인\nprint(del_member)\nprint(member)",
      "metadata": {
        "id": "9OjtaebSnpKz"
      },
      "execution_count": null,
      "outputs": []
    },
    {
      "cell_type": "markdown",
      "source": "#### **② popitem() 메서드**\n\n- popitem() 메서드로 키(key) 지정 없이 마지막 요소부터 삭제할 수 있습니다.\n- 삭제된 요소의 키(key)와 값(value)을 튜플 형태로 반환하므로, 어떤 요소가 삭제되었는지 확인할 수 있습니다.",
      "metadata": {
        "id": "ZGLtcj0ZiOfD"
      }
    },
    {
      "cell_type": "code",
      "source": "# 딕셔너리 선언\nmember = {'이름': '홍길동',\n          '나이': 20,\n          '지역': '서울',\n          '성별': 'M',\n          '등급': 'Gold'}\n\n# 요소 삭제\ndel_member = member.popitem()\n\n# 확인\nprint(del_member)\nprint(member)",
      "metadata": {
        "id": "04SGmbKMoUJF"
      },
      "execution_count": null,
      "outputs": []
    },
    {
      "cell_type": "markdown",
      "source": "#### **③ clear() 메서드**\n- clear() 메서드를 사용해 모든 요소를 삭제할 수 있습니다.",
      "metadata": {
        "id": "AmPbOimCrtwE"
      }
    },
    {
      "cell_type": "code",
      "source": "# 딕셔너리 선언\nmember = {'이름': '홍길동',\n          '나이': 20,\n          '지역': '서울',\n          '성별': 'M',\n          '등급': 'Gold'}\n\n# 모든 요소 삭제\nmember.clear()\n\n# 확인\nprint(member)",
      "metadata": {
        "id": "0XPMiJeIr24o"
      },
      "execution_count": null,
      "outputs": []
    },
    {
      "cell_type": "markdown",
      "source": "## **Topic 4. 딕셔너리와 반복문**",
      "metadata": {
        "id": "y1V8dnfOdkXG"
      }
    },
    {
      "cell_type": "markdown",
      "source": "### **1) 기본 반복문**",
      "metadata": {
        "id": "Dl5dL6lK8omW"
      }
    },
    {
      "cell_type": "code",
      "source": "# 딕셔너리 선언\nscore = {'홍길동': 85, '한사랑': 95, '일지매': 90}\n\n# 키(key), 값(value) 조회\nfor key in score:\n    value = score[key]\n    print(f'{key}: {value}')",
      "metadata": {
        "id": "E3_JhN6bFQqY"
      },
      "execution_count": null,
      "outputs": []
    },
    {
      "cell_type": "markdown",
      "source": "### **2) items() 메서드 사용**\n\n- 딕셔너리를 반복문에 사용할 때 키(key)와 값(value)을 반환해주는 items() 메서드를 많이 사용합니다.",
      "metadata": {
        "id": "2UBWavOK8iql"
      }
    },
    {
      "cell_type": "code",
      "source": "# 딕셔너리 선언\nscore = {'홍길동': 85, '한사랑': 95, '일지매': 90}\n\n# items() 메서드 사용\nfor key, value in score.items():\n    print(f'{key}: {value}')",
      "metadata": {
        "id": "bDe2k3yAFQqc"
      },
      "execution_count": null,
      "outputs": []
    },
    {
      "cell_type": "code",
      "source": "# 딕셔너리 선언\nscore = {'홍길동': 85, '한사랑': 95, '일지매': 90}\n\n# items() 메서드 사용\nfor key, value in score.items():\n    print(f'{key}:\\t{value:3d}')\nprint('-' * 11)\nprint('합  계:', sum(score.values()), sep='\\t')",
      "metadata": {
        "id": "8lbglg5By3LT"
      },
      "execution_count": null,
      "outputs": []
    },
    {
      "cell_type": "markdown",
      "source": "### **3) 반복문 확장**\n\n- 반복문 확장 구문을 딕셔너리에 대해 사용할 수 있습니다.\n- items() 메서드를 사용해 키(key)와 값(value)을 동시에 출력할 수 있습니다.",
      "metadata": {
        "id": "i2PaUFOl8gFj"
      }
    },
    {
      "cell_type": "code",
      "source": "# 딕셔너리 선언\nscore = {'홍길동': 85, '한사랑': 95, '일지매': 90}\n\n# 조건 추출\nscore_over_90 = {k: v for k, v in score.items() if v > 90}\n\n# 확인\nprint(score_over_90)",
      "metadata": {
        "id": "FCGTqU5xwwAQ"
      },
      "execution_count": null,
      "outputs": []
    },
    {
      "cell_type": "code",
      "source": "# 딕셔너리 선언\nscore = {'홍길동': 85, '한사랑': 95, '일지매': 90}\n\n# 조건 추출\nscore_str = [f'{k}({v})' for k, v in score.items()]\n\n# 확인\nprint(score_str)",
      "metadata": {
        "id": "olyxYSJGw3YQ"
      },
      "execution_count": null,
      "outputs": []
    }
  ]
}