{
 "cells": [
  {
   "cell_type": "markdown",
   "metadata": {
    "id": "32779570"
   },
   "source": [
    "# **Lesson 2. 딕셔너리 자료형_종합실습**"
   ]
  },
  {
   "cell_type": "markdown",
   "metadata": {
    "id": "l6p5TxRPx3qj"
   },
   "source": [
    "**1) 다음 선언된 딕셔너리 score의 모든 값(value)에 50씩 더한 후 결과를 확인하세요.**"
   ]
  },
  {
   "cell_type": "markdown",
   "metadata": {
    "id": "iOcriMnT6moI"
   },
   "source": [
    "[결과 예시]\n",
    "\n",
    "~~~\n",
    "{'홍길동': 184, '일지매': 260, '한사랑': 200, '강우동': 250, '박여인': 280, '김칫국': 230}\n",
    "~~~"
   ]
  },
  {
   "cell_type": "code",
   "execution_count": null,
   "metadata": {
    "id": "D-Dii8bC504r"
   },
   "outputs": [],
   "source": [
    "# 딕셔너리 선언\n",
    "score = {'홍길동': 134,\n",
    "         '일지매': 210,\n",
    "         '한사랑': 150,\n",
    "         '강우동': 200,\n",
    "         '박여인': 230,\n",
    "         '김칫국': 180}\n",
    "\n",
    "# 값(value) 변경\n",
    "\n",
    "\n",
    "\n",
    "# 확인\n"
   ]
  },
  {
   "cell_type": "markdown",
   "metadata": {
    "id": "JNruh2e0UNDx"
   },
   "source": [
    "**2) 다음 선언된 딕셔너리 score에 '안경태', 190을 추가한 후 합계와 평균을 tot_score, avg_score에 대입한 후 확인하세요.**"
   ]
  },
  {
   "cell_type": "markdown",
   "metadata": {
    "id": "Dkdt2yhHRNDO"
   },
   "source": [
    "[결과 예시]\n",
    "\n",
    "~~~\n",
    "합계: 1294\n",
    "평균: 184.86\n",
    "~~~"
   ]
  },
  {
   "cell_type": "code",
   "execution_count": null,
   "metadata": {
    "id": "AomFh2BXQccX"
   },
   "outputs": [],
   "source": [
    "# 딕셔너리 선언\n",
    "score = {'홍길동': 134,\n",
    "         '일지매': 210,\n",
    "         '한사랑': 150,\n",
    "         '강우동': 200,\n",
    "         '박여인': 230,\n",
    "         '김칫국': 180}\n",
    "\n",
    "# 요소 추가\n",
    "\n",
    "\n",
    "# 합계, 평균\n",
    "\n",
    "\n",
    "\n",
    "# 확인\n",
    "\n"
   ]
  },
  {
   "cell_type": "markdown",
   "metadata": {
    "id": "SUvlnuZ1UPcU"
   },
   "source": [
    "**3) 다음 선언된 딕셔너리 score에서 200이상인 요소만 추출해 딕셔너리 score_200으로 선언하고 확인하세요.**"
   ]
  },
  {
   "cell_type": "markdown",
   "metadata": {
    "id": "wCzj2aloS06a"
   },
   "source": [
    "[결과 예시]\n",
    "\n",
    "~~~\n",
    "{'일지매': 210, '강우동': 200, '박여인': 230}\n",
    "~~~"
   ]
  },
  {
   "cell_type": "code",
   "execution_count": null,
   "metadata": {
    "id": "z4Van0ejRDq3"
   },
   "outputs": [],
   "source": [
    "# 딕셔너리 선언\n",
    "score = {'홍길동': 134,\n",
    "         '일지매': 210,\n",
    "         '한사랑': 150,\n",
    "         '강우동': 200,\n",
    "         '박여인': 230,\n",
    "         '김칫국': 180,\n",
    "         '안경태': 190}\n",
    "\n",
    "# 200 이상\n",
    "\n",
    "\n",
    "# 확인\n"
   ]
  },
  {
   "cell_type": "markdown",
   "metadata": {
    "id": "LkaSuJh8URMH"
   },
   "source": [
    "**4) 다음 선언된 두 리스트 m_name, m_score를 사용해 [결과 예시]처럼 요소를 갖는 딕셔너리 movie를 선언하고 확인하세요.**"
   ]
  },
  {
   "cell_type": "markdown",
   "metadata": {
    "id": "B6T_adQhUGD_"
   },
   "source": [
    "[결과 예시]\n",
    "\n",
    "~~~\n",
    "{'인어공주': 4.9, '라이언킹': 4.8, '라푼젤': 4.0, '신데렐라': 4.3, '미녀와야수': 4.8}\n",
    "~~~"
   ]
  },
  {
   "cell_type": "code",
   "execution_count": null,
   "metadata": {
    "id": "ZYycu-bqSYwg"
   },
   "outputs": [],
   "source": [
    "# 리스트 선언\n",
    "m_name = ['인어공주', '라이언킹', '라푼젤', '신데렐라', '미녀와야수']\n",
    "m_score = [4.9, 4.8, 4.0, 4.3, 4.8]\n",
    "\n",
    "# 딕셔너리 선언\n",
    "\n",
    "\n",
    "\n",
    "\n",
    "# 확인\n"
   ]
  }
 ],
 "metadata": {
  "colab": {
   "provenance": []
  },
  "kernelspec": {
   "display_name": "Python 3 (ipykernel)",
   "language": "python",
   "name": "python3"
  },
  "language_info": {
   "codemirror_mode": {
    "name": "ipython",
    "version": 3
   },
   "file_extension": ".py",
   "mimetype": "text/x-python",
   "name": "python",
   "nbconvert_exporter": "python",
   "pygments_lexer": "ipython3",
   "version": "3.11.5"
  }
 },
 "nbformat": 4,
 "nbformat_minor": 1
}
