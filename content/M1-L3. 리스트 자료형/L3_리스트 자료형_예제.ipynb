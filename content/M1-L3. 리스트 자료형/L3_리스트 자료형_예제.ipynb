{
 "cells": [
  {
   "cell_type": "markdown",
   "metadata": {
    "id": "innowRQ9wyy0"
   },
   "source": [
    "# **Lesson 3. 리스트 자료형_예제**\n",
    "데이터 분석 초급 과정 1 (Python) > Module 1. Python Basics"
   ]
  },
  {
   "cell_type": "markdown",
   "metadata": {
    "id": "tqlzU37B4Cr9"
   },
   "source": [
    "## **Topic 1. 리스트에 대한 이해**\n",
    "\n",
    "- 파이썬에서 가장 많이 사용되는 자료형이 리스트입니다.\n",
    "- 요소들을 묶어서 처리하는 리스트의 특성을 잘 이해해야 합니다."
   ]
  },
  {
   "cell_type": "markdown",
   "metadata": {
    "id": "l3L6bDwMGnqO"
   },
   "source": [
    "### **1) 일반 변수를 사용하면**\n",
    "\n",
    "- 5명 학생 성적을 처리하기 위해 5개 변수가 필요합니다.\n",
    "- 50명 학생 성적을 처리한다면 50개 변수가 필요합니다."
   ]
  },
  {
   "cell_type": "code",
   "execution_count": null,
   "metadata": {
    "id": "69Ne6pGSFQpK"
   },
   "outputs": [],
   "source": [
    "# 변수 선언\n",
    "score1 = 85\n",
    "score2 = 90\n",
    "score3 = 80\n",
    "score4 = 75\n",
    "score5 = 95"
   ]
  },
  {
   "cell_type": "markdown",
   "metadata": {
    "id": "JeigrxSVG2w9"
   },
   "source": [
    "- 합을 구하려면 모든 변수를 다음과 같이 더해야 하니 정말 번거롭습니다.\n",
    "- 5개 정도 되니 참고 썼지, 만일 변수가 50개 라면...상상하기 싫습니다.\n",
    "- 5개 값 중에서 최댓값을 구하는 것은 어떻게 해야 할지 모르겠습니다."
   ]
  },
  {
   "cell_type": "code",
   "execution_count": null,
   "metadata": {
    "id": "Rok8QsLHA4mn"
   },
   "outputs": [],
   "source": [
    "# 합 구하기\n",
    "score_sum = score1 + score2 + score3 + score4 + score5\n",
    "\n",
    "# 확인\n",
    "print(score_sum)"
   ]
  },
  {
   "cell_type": "markdown",
   "metadata": {
    "id": "8-sYQ8zBjYTi"
   },
   "source": [
    "### **2) 리스트를 사용하면**\n",
    "\n",
    "- 5명이든 50명이든 학생 성적을 리스트 하나로 처리할 수 있습니다."
   ]
  },
  {
   "cell_type": "code",
   "execution_count": null,
   "metadata": {
    "id": "y0qQdE-XQVlG"
   },
   "outputs": [],
   "source": [
    "# 리스트 선언\n",
    "score = [85, 90, 80, 75, 95]\n",
    "\n",
    "# 확인\n",
    "print(score)"
   ]
  },
  {
   "cell_type": "markdown",
   "metadata": {
    "id": "QQl1K2fJG8FH"
   },
   "source": [
    "- sum() 함수로 합을 쉽게 구할 수 있습니다."
   ]
  },
  {
   "cell_type": "code",
   "execution_count": null,
   "metadata": {
    "id": "08HIOnMUP4qN"
   },
   "outputs": [],
   "source": [
    "# 합 구하기\n",
    "score_sum = sum(score)\n",
    "\n",
    "# 확인\n",
    "print(score_sum)"
   ]
  },
  {
   "cell_type": "markdown",
   "metadata": {
    "id": "oTfiIL_XHCbJ"
   },
   "source": [
    "- max() 함수로 최댓값을 쉽게 구할 수 있습니다."
   ]
  },
  {
   "cell_type": "code",
   "execution_count": null,
   "metadata": {
    "id": "PkaEdMzDCXR3"
   },
   "outputs": [],
   "source": [
    "# 최댓값 구하기\n",
    "score_max = max(score)\n",
    "\n",
    "# 확인\n",
    "print(score_max)"
   ]
  },
  {
   "cell_type": "markdown",
   "metadata": {
    "id": "EKI7qiBtjWSP"
   },
   "source": [
    "### **3) 리스트 만들기**"
   ]
  },
  {
   "cell_type": "markdown",
   "metadata": {
    "id": "bTBoZYrs7fCY"
   },
   "source": [
    "#### **① 비어있는 리스트 만들기**\n",
    "\n",
    "- 이후 요소를 받기 위해 비어있는 리스트를 만드는 경우가 있습니다.\n",
    "- list() 함수는 다른 자료형을 리스트로 변환하는 함수입니다."
   ]
  },
  {
   "cell_type": "code",
   "execution_count": null,
   "metadata": {
    "id": "V7L3uB_fPX3o"
   },
   "outputs": [],
   "source": [
    "# 빈 리스트 선언\n",
    "score1 = []\n",
    "score2 = list()\n",
    "\n",
    "# 확인\n",
    "print(score1)\n",
    "print(score2)"
   ]
  },
  {
   "cell_type": "markdown",
   "metadata": {
    "id": "VPN0uG3VPgZx"
   },
   "source": [
    "#### **② 같은 자료형을 요소로 갖는 리스트**\n",
    "\n",
    "- 같은 자료형의 데이터를 요소로 갖는 리스트가 가장 일반적인 리스트 유형입니다."
   ]
  },
  {
   "cell_type": "code",
   "execution_count": null,
   "metadata": {
    "id": "dT2EGSLIPgZ0"
   },
   "outputs": [],
   "source": [
    "# 리스트 선언\n",
    "score3 = [85, 95, 90, 75]\n",
    "\n",
    "# 확인\n",
    "print(score3)"
   ]
  },
  {
   "cell_type": "markdown",
   "metadata": {
    "id": "3nzvAydjx7UP"
   },
   "source": [
    "#### **③ 여러 자료형을 요소로 갖는 리스트**\n",
    "\n",
    "- 여러 자료형의 값을 요소로 갖는 리스트를 만들 수 있습니다."
   ]
  },
  {
   "cell_type": "code",
   "execution_count": null,
   "metadata": {
    "id": "lm_UxmjSFQpN"
   },
   "outputs": [],
   "source": [
    "# 리스트 선언\n",
    "member = ['홍길동', 85, '한사랑', 95, '일지매', 90,'박여인', 75]\n",
    "\n",
    "# 확인\n",
    "print(member)"
   ]
  },
  {
   "cell_type": "markdown",
   "metadata": {
    "id": "W4jrvSVk4AzQ"
   },
   "source": [
    "#### **④ 리스트를 요소로 갖는 리스트**\n",
    "\n",
    "- 리스트를 요소로 갖는 리스트(List of List)를 만들 수 있습니다.\n",
    "- 아래 리스트와 같은 형태를 2차원 리스트라고 부릅니다.\n",
    "- 요소 세 개씩을 갖는 리스트 세 개가 score4 리스트의 요소입니다."
   ]
  },
  {
   "cell_type": "code",
   "execution_count": null,
   "metadata": {
    "id": "VVFeuF8MvM98"
   },
   "outputs": [],
   "source": [
    "# 2차원 리스트 선언\n",
    "score4 = [[80, 90, 75], [85, 70, 99], [90, 75, 80]]\n",
    "\n",
    "# 확인\n",
    "print(score4)"
   ]
  },
  {
   "cell_type": "markdown",
   "metadata": {
    "id": "yMmFHYlBxNP8"
   },
   "source": [
    "### **4) 리스트 연산**\n",
    "\n",
    "- 리스트 연산은 문자열 연산과 같은 결과를 보여줍니다.\n",
    "- 더하기는 연결을, 곱하기는 반복을 의미합니다.\n",
    "- 빼기와 나누기 연산은 불가능합니다."
   ]
  },
  {
   "cell_type": "markdown",
   "metadata": {
    "id": "-4n58nNAn_1y"
   },
   "source": [
    "#### **① 리스트 연결**\n",
    "\n",
    "- 리스트를 더하면 두 리스트가 연결되는 결과를 보입니다."
   ]
  },
  {
   "cell_type": "code",
   "execution_count": null,
   "metadata": {
    "id": "E-FBnP9ZxPL7"
   },
   "outputs": [],
   "source": [
    "# 리스트 선언\n",
    "score1 = [90, 80, 95, 70]\n",
    "score2 = [70, 75, 90, 100]\n",
    "\n",
    "# 리스트 연결\n",
    "score3 = score1 + score2\n",
    "\n",
    "# 확인\n",
    "print(score3)"
   ]
  },
  {
   "cell_type": "markdown",
   "metadata": {
    "id": "Mg2ZeHMPoCWZ"
   },
   "source": [
    "#### **② 리스트 반복**\n",
    "\n",
    "- 리스트에 정수를 곱하면 그 수만큼 요소가 반복됩니다."
   ]
  },
  {
   "cell_type": "code",
   "execution_count": null,
   "metadata": {
    "id": "0uYMqFwExntS"
   },
   "outputs": [],
   "source": [
    "# 리스트 선언\n",
    "score1 = [90, 80, 95, 70]\n",
    "\n",
    "# 리스트 요소를 곱한 수 만큼 반복하기\n",
    "score2 = score1 * 2\n",
    "score3 = score1 * 3\n",
    "\n",
    "# 확인\n",
    "print(score1)\n",
    "print(score2)\n",
    "print(score3)"
   ]
  },
  {
   "cell_type": "markdown",
   "metadata": {
    "id": "nn6tKAR7K8nZ"
   },
   "source": [
    "### **5) 리스트 집계**\n",
    "\n",
    "- 집계함수를 사용해 리스트 요소에 대한 집계를 수행합니다.\n",
    "- 요소 개수는 len() 함수를 사용해 확인합니다."
   ]
  },
  {
   "cell_type": "code",
   "execution_count": null,
   "metadata": {
    "id": "7B4Wwd1KK8ne"
   },
   "outputs": [],
   "source": [
    "# 리스트 선언\n",
    "score = [90, 80, 95, 70]\n",
    "\n",
    "# 다양한 집계\n",
    "score_sum = sum(score)\n",
    "score_max = max(score)\n",
    "score_min = min(score)\n",
    "score_cnt = len(score)\n",
    "\n",
    "# 확인\n",
    "print(score_sum)\n",
    "print(score_max)\n",
    "print(score_min)\n",
    "print(score_cnt)"
   ]
  },
  {
   "cell_type": "markdown",
   "metadata": {
    "id": "Fm0VMoasLzwS"
   },
   "source": [
    "- 평균을 구하는 함수가 없으므로 합을 개수로 나눠 계산합니다."
   ]
  },
  {
   "cell_type": "code",
   "execution_count": null,
   "metadata": {
    "id": "HCO6SyTzK8ne",
    "scrolled": true
   },
   "outputs": [],
   "source": [
    "# 리스트 선언\n",
    "score = [90, 80, 95, 70]\n",
    "\n",
    "# 합 구하기\n",
    "score_avg = sum(score) / len(score)\n",
    "\n",
    "# 확인\n",
    "print(score_avg)"
   ]
  },
  {
   "cell_type": "markdown",
   "metadata": {
    "id": "S6ycuNmOPopd"
   },
   "source": [
    "## **Topic 2. 리스트 쉽게 만들기**\n",
    "\n",
    "- 리스트를 만들 때 편리하게 사용할 수 있는 방법들이 있습니다.\n",
    "- 특히 range() 함수 활용 방법은 잘 익혀두어야 합니다."
   ]
  },
  {
   "cell_type": "markdown",
   "metadata": {
    "id": "Px8QuWJW1AJm"
   },
   "source": [
    "### **1) range() 함수 활용**\n",
    "\n",
    "- 연속된 정수로 리스트를 만들 때는 range() 함수를 사용하면 편리합니다.\n",
    "- range() 함수로 리스트를 만드는 것이 아니라 이 함수로 얻은 값을 리스트로 변환합니다.\n",
    "- range() 함수는 튜플, 집합, 딕셔너리 등을 만들 때도 사용됩니다."
   ]
  },
  {
   "cell_type": "markdown",
   "metadata": {
    "id": "JwxLhp4tAyUs"
   },
   "source": [
    "#### **① 기본 사용법**\n",
    "\n",
    "- range(*n*): 0 부터 n-1 까지의 정수 범위가 됩니다."
   ]
  },
  {
   "cell_type": "code",
   "execution_count": null,
   "metadata": {
    "id": "YgZ0cR0X8LY0"
   },
   "outputs": [],
   "source": [
    "# 0 ~ 9 정수를 요소로 갖는 리스트\n",
    "nums = list(range(10))\n",
    "\n",
    "# 확인\n",
    "print(nums)"
   ]
  },
  {
   "cell_type": "markdown",
   "metadata": {
    "id": "gfzXdiXFM2V1"
   },
   "source": [
    "\n",
    "- range(*m*, *n*): m 부터 n-1 까지의 정수 범위가 됩니다."
   ]
  },
  {
   "cell_type": "code",
   "execution_count": null,
   "metadata": {
    "id": "Uem_FllPPnN9"
   },
   "outputs": [],
   "source": [
    "# 위 결과와 동일\n",
    "nums = list(range(0, 10))\n",
    "\n",
    "# 확인\n",
    "print(nums)"
   ]
  },
  {
   "cell_type": "code",
   "execution_count": null,
   "metadata": {
    "id": "Cu_7n2T1hEVX"
   },
   "outputs": [],
   "source": [
    "# -5 ~ 5 사이 정수를 요소로 갖는 리스트\n",
    "nums = list(range(-5, 6))\n",
    "\n",
    "# 확인\n",
    "print(nums)"
   ]
  },
  {
   "cell_type": "markdown",
   "metadata": {
    "id": "nEZr0dyC4uUC"
   },
   "source": [
    "#### **② 증가값 지정**\n",
    "\n",
    "- range(*m, n, x*): m 부터 n-1 까지 x 만큼씩 증가하는 정수가 됩니다."
   ]
  },
  {
   "cell_type": "code",
   "execution_count": null,
   "metadata": {
    "id": "PZOI8JTc4tvi"
   },
   "outputs": [],
   "source": [
    "# 0 ~ 9 사이, 2씩 증가하는 정수를 요소로 갖는 리스트\n",
    "nums = list(range(0, 10, 2))\n",
    "\n",
    "# 확인\n",
    "print(nums)"
   ]
  },
  {
   "cell_type": "code",
   "execution_count": null,
   "metadata": {
    "id": "x9st1_HYM2XU"
   },
   "outputs": [],
   "source": [
    "# 0 ~ 9 사이, 3씩 증가하는 정수를 요소로 갖는 리스트\n",
    "nums = list(range(0, 10, 3))\n",
    "\n",
    "# 확인\n",
    "print(nums)"
   ]
  },
  {
   "cell_type": "code",
   "execution_count": null,
   "metadata": {
    "id": "OJvmrNjrMxiJ"
   },
   "outputs": [],
   "source": [
    "# 9 ~ 0 사이, 1씩 감소하는 정수를 요소로 갖는 리스트\n",
    "nums = list(range(9, -1, -1))\n",
    "\n",
    "# 확인\n",
    "print(nums)"
   ]
  },
  {
   "cell_type": "markdown",
   "metadata": {
    "id": "CW4CsRNy8LY3"
   },
   "source": [
    "### **2) 문자열을 리스트로 변환**\n",
    "\n",
    "- 문자열은 문자들이 연결되어 만들어진 자료형입니다.\n",
    "- list() 함수를 사용해 개별 문자로 분할해 리스트를 만들 수 있습니다.\n",
    "- 자주 사용될 기능은 아니지만 문자열의 특징으로 알고 있으면 좋을 것입니다."
   ]
  },
  {
   "cell_type": "code",
   "execution_count": null,
   "metadata": {
    "id": "fNBOQcdNNMb0"
   },
   "outputs": [],
   "source": [
    "# 문자열 --> 리스트\n",
    "str1 = list('PYTHON')\n",
    "str2 = list('123456789')\n",
    "\n",
    "# 확인\n",
    "print(str1)\n",
    "print(str2)"
   ]
  },
  {
   "cell_type": "markdown",
   "metadata": {
    "id": "8yJZo2gyQGsl"
   },
   "source": [
    "## **Topic 3. 인덱싱과 슬라이싱**\n",
    "\n",
    "- 리스트는 요소의 순서가 의미가 있습니다.\n",
    "- 그래서 인덱싱과 슬라이싱을 사용해 요소나 요소 범위를 조회할 수 있습니다."
   ]
  },
  {
   "cell_type": "markdown",
   "metadata": {
    "id": "0Z1EMEqVyY-R"
   },
   "source": [
    "### **1) 리스트 인덱싱**\n",
    "\n",
    "- 대괄호, 즉 [ ] 안에 인덱스를 지정합니다.\n",
    "- 0부터 시작하는 인덱스를 사용해 원하는 위치의 요소를 확인합니다.\n",
    "- 인덱스 역방향은 -1부터 시작됩니다.\n"
   ]
  },
  {
   "cell_type": "code",
   "execution_count": null,
   "metadata": {
    "id": "8HlzJIPSFQpO",
    "scrolled": true
   },
   "outputs": [],
   "source": [
    "# 리스트 만들기\n",
    "member = ['홍길동', 85, '한사랑', 95, '일지매', 90, '박여인', 75]\n",
    "\n",
    "# 인덱싱\n",
    "print(member[0])\n",
    "print(member[3])\n",
    "print(member[-1])\n",
    "print(member[-7])"
   ]
  },
  {
   "cell_type": "markdown",
   "metadata": {
    "id": "IQ287ldPOamE"
   },
   "source": [
    "- 리스트를 요소로 갖는 리스트에 대한 인덱싱은 다음과 같습니다."
   ]
  },
  {
   "cell_type": "code",
   "execution_count": null,
   "metadata": {
    "id": "68b-MBUWwMHT"
   },
   "outputs": [],
   "source": [
    "# 리스트를 요소로 갖는 리스트\n",
    "score = [80, [90, 100, 85], 85, 90]\n",
    "\n",
    "# 인덱싱\n",
    "print(score[0])\n",
    "print(score[1])\n",
    "print(score[-1])\n",
    "print(score[-3])\n",
    "print(score[1][2])"
   ]
  },
  {
   "cell_type": "markdown",
   "metadata": {
    "id": "l-mJjYG9FQpP"
   },
   "source": [
    "### **2) 리스트 슬라이싱**\n",
    "\n",
    "- 인덱스를 사용해 특정 범위의 요소를 찾는 과정을 슬라이싱이라고 합니다.\n",
    "- 대괄호안에 [*m* : *n*] 형태로 범위를 지정하여 요소를 확인합니다.\n",
    "- 인덱스 m 부터 n-1 까지, 즉 인덱스 n의 요소는 결과에 포함되지 않습니다.\n",
    "\n",
    "<img src='https://raw.githubusercontent.com/jangrae/img/master/list_indexing.png' width=540 align = \"left\"/>"
   ]
  },
  {
   "cell_type": "code",
   "execution_count": null,
   "metadata": {
    "id": "SxCJ0jmQFQpS"
   },
   "outputs": [],
   "source": [
    "# 리스트 만들기\n",
    "member = ['홍길동', 85, '한사랑', 95, '일지매', 90,' 박여인', 75]\n",
    "\n",
    "# 슬라이싱\n",
    "print(member[2:6])\n",
    "print(member[6:])\n",
    "print(member[:4])\n",
    "print(member[:])\n",
    "print(member[0:-2])"
   ]
  },
  {
   "cell_type": "markdown",
   "metadata": {
    "id": "C3j8e6B2OxLT"
   },
   "source": [
    "- 리스트를 요소로 갖는 리스트에 대한 슬라이싱은 다음과 같습니다."
   ]
  },
  {
   "cell_type": "code",
   "execution_count": null,
   "metadata": {
    "id": "HYND_XGSPICe"
   },
   "outputs": [],
   "source": [
    "# 리스트를 요소로 갖는 리스트\n",
    "score = [80, [90, 100, 85], 85, 90]\n",
    "\n",
    "# 슬라이싱\n",
    "score[1][1:3]"
   ]
  },
  {
   "cell_type": "markdown",
   "metadata": {
    "id": "TzkT7GQvx8rx"
   },
   "source": [
    "## **Topic 4. 변경, 추가, 삭제**\n",
    "\n",
    "- 리스트는 변경 가능한 자료형이므로 요소를 변경, 추가, 삭제할 수 있습니다."
   ]
  },
  {
   "cell_type": "markdown",
   "metadata": {
    "id": "zLj_-ikEG9tK"
   },
   "source": [
    "### **1) 리스트 요소 변경**\n",
    "\n",
    "- 인덱싱 또는 슬라이싱으로 찾은 후 새로운 값을 대입해 요소를 변경합니다."
   ]
  },
  {
   "cell_type": "markdown",
   "metadata": {
    "id": "YjXrqI_5oUxc"
   },
   "source": [
    "#### **① 범위 내 변경**\n",
    "\n",
    "- 기존 요소의 값이 변경됩니다."
   ]
  },
  {
   "cell_type": "code",
   "execution_count": null,
   "metadata": {
    "id": "V1c5gES5FQpU",
    "scrolled": true
   },
   "outputs": [],
   "source": [
    "# 리스트 선언\n",
    "nums = [1, 2, 3, 4, 5, 6, 7, 8, 9]\n",
    "\n",
    "# 특정 요소 값 변경\n",
    "nums[1] = 10\n",
    "\n",
    "# 확인\n",
    "print(nums)"
   ]
  },
  {
   "cell_type": "code",
   "execution_count": null,
   "metadata": {
    "id": "3g2rHio18t7g"
   },
   "outputs": [],
   "source": [
    "# 범위내 요소 값 변경\n",
    "nums[2:4] = [20, 30]\n",
    "\n",
    "# 확인\n",
    "print(nums)"
   ]
  },
  {
   "cell_type": "code",
   "execution_count": null,
   "metadata": {
    "id": "vWM0ETU88rmd"
   },
   "outputs": [],
   "source": [
    "# 범위내 요소 값 변경\n",
    "nums[4:7] = [40, 50]\n",
    "\n",
    "# 확인\n",
    "print(nums)"
   ]
  },
  {
   "cell_type": "markdown",
   "metadata": {
    "id": "Nk98n7gdoZVp"
   },
   "source": [
    "#### **② 범위 밖 변경**\n",
    "\n",
    "- 범위를 벗어나는 요소 값을 변경하면 요소가 추가됩니다.\n",
    "- 범위가 꼭 연결되지 않아도 됩니다."
   ]
  },
  {
   "cell_type": "code",
   "execution_count": null,
   "metadata": {
    "id": "6Ijhgtxd_dTa"
   },
   "outputs": [],
   "source": [
    "# 범위를 벗어나는 요소 값 변경\n",
    "nums[6:] = [70, 80, 90, 100]\n",
    "\n",
    "# 확인\n",
    "print(nums)"
   ]
  },
  {
   "cell_type": "code",
   "execution_count": null,
   "metadata": {
    "id": "JbatDmJLATTA"
   },
   "outputs": [],
   "source": [
    "# 범위를 완전히 벗어나는 요소 값 변경\n",
    "nums[600:] = [110, 120]\n",
    "\n",
    "# 확인\n",
    "print(nums)"
   ]
  },
  {
   "cell_type": "markdown",
   "metadata": {
    "id": "LJgR2XP3HBMy"
   },
   "source": [
    "### **2) 리스트 요소 추가**\n",
    "\n",
    "- append(), insert(), extend() 메서드를 사용해 요소를 추가합니다."
   ]
  },
  {
   "cell_type": "markdown",
   "metadata": {
    "id": "Jf6yHua8Qtg1"
   },
   "source": [
    "#### **① 뒤에 요소 하나 추가**\n",
    "\n",
    "- append() 메서드를 사용해서 맨 뒤에 요소 하나를 추가할 수 있습니다."
   ]
  },
  {
   "cell_type": "code",
   "execution_count": null,
   "metadata": {
    "id": "uhEgr1o4HC_I"
   },
   "outputs": [],
   "source": [
    "# 리스트 선언\n",
    "nums = [1, 2, 3, 4]\n",
    "\n",
    "# 요소 추가\n",
    "nums.append(5)\n",
    "nums.append(6)\n",
    "\n",
    "# 확인\n",
    "print(nums)"
   ]
  },
  {
   "cell_type": "markdown",
   "metadata": {
    "id": "f4Qt8o4Q8LZN"
   },
   "source": [
    "#### **② 중간에 요소 삽입**\n",
    "\n",
    "- insert() 메서드를 사용하면 원하는 위치에 요소 하나를 삽입할 수 있습니다."
   ]
  },
  {
   "cell_type": "code",
   "execution_count": null,
   "metadata": {
    "id": "tLKEhHbO8LZN"
   },
   "outputs": [],
   "source": [
    "# 리스트 선언\n",
    "nums = [1, 2, 4, 5]\n",
    "\n",
    "# 요소 삽입\n",
    "nums.insert(2, 3)\n",
    "\n",
    "# 확인\n",
    "print(nums)"
   ]
  },
  {
   "cell_type": "markdown",
   "metadata": {
    "id": "zAfXKWDf8LZS"
   },
   "source": [
    "#### **③ 리스트 연결**\n",
    "\n",
    "- 리스트에 리스트를 더하면 리스트가 연결됩니다."
   ]
  },
  {
   "cell_type": "code",
   "execution_count": null,
   "metadata": {
    "id": "vtm95_7Y8LZS"
   },
   "outputs": [],
   "source": [
    "# 리스트 선언\n",
    "nums = [1, 2, 3, 4]\n",
    "\n",
    "# 리스트 연결\n",
    "nums = nums + [5, 6, 7, 8, 9]\n",
    "\n",
    "# 확인\n",
    "print(nums)"
   ]
  },
  {
   "cell_type": "markdown",
   "metadata": {
    "id": "vNf6-_GyIggb"
   },
   "source": [
    "- extend() 메서드 사용해 리스트 뒤에 리스트를 붙일 수 있습니다."
   ]
  },
  {
   "cell_type": "code",
   "execution_count": null,
   "metadata": {
    "id": "QUq7AfPa8LZT"
   },
   "outputs": [],
   "source": [
    "# 리스트 선언\n",
    "nums = [1, 2, 3, 4]\n",
    "\n",
    "# 리스트 연결\n",
    "nums.extend([5, 6, 7, 8, 9])\n",
    "\n",
    "# 확인\n",
    "print(nums)"
   ]
  },
  {
   "cell_type": "markdown",
   "metadata": {
    "id": "AvIr03DvHDW6"
   },
   "source": [
    "### **3) 리스트 요소 삭제**\n",
    "\n",
    "- 리스트 인덱싱 또는 슬라이싱 결과를 del 문을 사용해 삭제합니다."
   ]
  },
  {
   "cell_type": "markdown",
   "metadata": {
    "id": "UFIhiTf_I0LW"
   },
   "source": [
    "#### **① 특정 요소 삭제**\n",
    "\n",
    "- del 다음에 인덱싱 구문을 추가해 해당 요소를 삭제할 수 있습니다."
   ]
  },
  {
   "cell_type": "code",
   "execution_count": null,
   "metadata": {
    "id": "opg83ZyRIzYu"
   },
   "outputs": [],
   "source": [
    "# 리스트 선언\n",
    "nums = [1, 2, 3, 4, 5, 6, 7, 8, 9]\n",
    "\n",
    "# 요소 삭제\n",
    "del nums[7]\n",
    "\n",
    "# 확인\n",
    "print(nums)"
   ]
  },
  {
   "cell_type": "markdown",
   "metadata": {
    "id": "2bj4mZRuI7hD"
   },
   "source": [
    "#### **② 범위 삭제**\n",
    "\n",
    "- del 다음에 슬라이싱 구문을 추가해 해당 범위 요소를 삭제할 수 있습니다."
   ]
  },
  {
   "cell_type": "code",
   "execution_count": null,
   "metadata": {
    "id": "rbL1W9L_I6i2"
   },
   "outputs": [],
   "source": [
    "# 리스트 선언\n",
    "nums = [1, 2, 3, 4, 5, 6, 7, 8, 9]\n",
    "\n",
    "# 요소 범위 삭제\n",
    "del nums[4:]\n",
    "\n",
    "# 확인\n",
    "print(nums)"
   ]
  },
  {
   "cell_type": "markdown",
   "metadata": {
    "id": "-nvXRROTJFIo"
   },
   "source": [
    "#### **③ 전체 삭제**\n",
    "\n",
    "- [ ]를 대입하거나 clear() 메서드로 리스트를 초기화할 수 있습니다."
   ]
  },
  {
   "cell_type": "code",
   "execution_count": null,
   "metadata": {
    "id": "CG_grn26JEu7"
   },
   "outputs": [],
   "source": [
    "# 모든 요소 삭제\n",
    "nums = []\n",
    "\n",
    "# 또는\n",
    "#nums.clear()\n",
    "\n",
    "# 확인\n",
    "print(nums)"
   ]
  },
  {
   "cell_type": "markdown",
   "metadata": {
    "id": "wHO7aOBhfQlq"
   },
   "source": [
    "## **Topic 5. 관련 메서드**\n",
    "\n",
    "- 문자열 관련 메서드에 의한 변경은 변수에 바로 반영되지 않습니다.\n",
    "- 하지만 리스트 관련 메서드에 의한 변경은 변수에 바로 반영이 됩니다."
   ]
  },
  {
   "cell_type": "markdown",
   "metadata": {
    "id": "WpYidLWjFoYn"
   },
   "source": [
    "### **1) 추가용 메서드**\n",
    "\n",
    "- 다음 메서드들을 사용해 리스트에 요소를 추가할 수 있습니다."
   ]
  },
  {
   "cell_type": "markdown",
   "metadata": {
    "id": "ob9B5-RBYHjv"
   },
   "source": [
    "#### **① append() 메서드**\n",
    "\n",
    "- append() 메서드를 사용해 요소 하나를 추가할 수 있습니다."
   ]
  },
  {
   "cell_type": "code",
   "execution_count": null,
   "metadata": {
    "id": "SRnHwnwczxOV"
   },
   "outputs": [],
   "source": [
    "# 리스트 만들기\n",
    "score = [1, 2, 3, 4]\n",
    "\n",
    "# 리스트 맨 뒤에 새로운 요소 추가\n",
    "score.append(5)\n",
    "\n",
    "# 확인\n",
    "print(score)"
   ]
  },
  {
   "cell_type": "markdown",
   "metadata": {
    "id": "ANppY_D2YOy9"
   },
   "source": [
    "#### **② insert() 메서드**\n",
    "\n",
    "- insert() 메서드를 사용해 지정한 위치에 요소를 삽입할 수 있습니다.\n",
    "- 맨 뒤에 삽일할 때는 -1, 맨 앞에 삽입할 때는 0을 위치로 지정합니다."
   ]
  },
  {
   "cell_type": "code",
   "execution_count": null,
   "metadata": {
    "id": "CMbKG-Cf3DMz"
   },
   "outputs": [],
   "source": [
    "# 리스트 선언\n",
    "member = ['일지매', '박여인', '한사랑']\n",
    "\n",
    "# '박여인' 앞에 '한국인' 삽입\n",
    "member.insert(1, '한국인')\n",
    "\n",
    "# 확인\n",
    "print(member)"
   ]
  },
  {
   "cell_type": "code",
   "execution_count": null,
   "metadata": {
    "id": "K_vAwRKD_K8J"
   },
   "outputs": [],
   "source": [
    "# '한사랑' 앞에 '강우동' 삽입\n",
    "member.insert(-1, '강우동')\n",
    "\n",
    "# 확인\n",
    "member"
   ]
  },
  {
   "cell_type": "markdown",
   "metadata": {
    "id": "BzfL-pO21r7A"
   },
   "source": [
    "#### **③ extend() 메서드**\n",
    "\n",
    "- extend() 메서드를 사용해 요소 여러 개를 추가할 수 있습니다."
   ]
  },
  {
   "cell_type": "code",
   "execution_count": null,
   "metadata": {
    "id": "07L1M3Hs1r7B"
   },
   "outputs": [],
   "source": [
    "# 리스트 만들기\n",
    "score = [1, 2, 3, 4]\n",
    "\n",
    "# 요소 여럿 추가\n",
    "score.extend([5, 6, 7])\n",
    "score.extend([8, 9, 10])\n",
    "\n",
    "# 확인\n",
    "print(score)"
   ]
  },
  {
   "cell_type": "markdown",
   "metadata": {
    "id": "fIeoQCtzsikl"
   },
   "source": [
    "- 리스트를 연결하는 방법으로 위와 같은 결과를 얻을 수 있습니다."
   ]
  },
  {
   "cell_type": "code",
   "execution_count": null,
   "metadata": {
    "id": "IOrXixZzsa5p"
   },
   "outputs": [],
   "source": [
    "# 리스트 만들기\n",
    "score = [1, 2, 3, 4]\n",
    "\n",
    "# 리스트 연결\n",
    "score = score + [5, 6, 7]\n",
    "score = score + [8, 9, 10]\n",
    "\n",
    "# 확인\n",
    "print(score)"
   ]
  },
  {
   "cell_type": "markdown",
   "metadata": {
    "id": "j-U1mq3DF9bD"
   },
   "source": [
    "### **2) 탐색용 메서드**\n",
    "\n",
    "- 다음 메서드들을 사용해 특정 요소의 개수나 위치를 확인할 수 있습니다."
   ]
  },
  {
   "cell_type": "markdown",
   "metadata": {
    "id": "XNULZh1MX_2u"
   },
   "source": [
    "#### **① count() 메서드**\n",
    "\n",
    "- count() 메서드를 사용해 특정 요소가 몇 개 포함되어 있는지 확인할 수 있습니다.\n",
    "- 지정한 요소가 없으면 0을 반환합니다."
   ]
  },
  {
   "cell_type": "code",
   "execution_count": null,
   "metadata": {
    "id": "0JBaN3Ui4pYC"
   },
   "outputs": [],
   "source": [
    "# 리스트 선언\n",
    "score = [90, 80, 95, 70, 100, 65, 70, 100]\n",
    "\n",
    "# 100이 몇 개인지 확인\n",
    "print(score.count(100))"
   ]
  },
  {
   "cell_type": "markdown",
   "metadata": {
    "id": "9BvWE-0Z_V9W"
   },
   "source": [
    "#### **② index() 메서드**\n",
    "\n",
    "- index() 메서드를 사용해 지정한 요소의 위치를 확인할 수 있습니다.\n",
    "- 지정한 요소가 없으면 오류가 발생합니다."
   ]
  },
  {
   "cell_type": "code",
   "execution_count": null,
   "metadata": {
    "id": "Kl41kE42_V9W"
   },
   "outputs": [],
   "source": [
    "# 리스트 선언\n",
    "score = [90, 80, 95, 70, 100, 65, 70, 100]\n",
    "\n",
    "# 100의 첫 번째 위치 확인\n",
    "print(score.index(100))"
   ]
  },
  {
   "cell_type": "markdown",
   "metadata": {
    "id": "0kou8qYkGWoa"
   },
   "source": [
    "### **3) 정렬용 메서드**\n",
    "\n",
    "- 다음 메서드들을 사용해 요소를 정렬하거나 순서를 역으로 바꿀 수 있습니다."
   ]
  },
  {
   "cell_type": "markdown",
   "metadata": {
    "id": "p4kFpt0AYLV5"
   },
   "source": [
    "#### **① sort() 메서드**\n",
    "\n",
    "- sort() 메서드를 사용해 요소를 오름차순 또는 내림차순으로 정렬할 수 있습니다.\n",
    "- reverse 매개변수를 True로 설정하면 내림차순 정렬이 됩니다."
   ]
  },
  {
   "cell_type": "code",
   "execution_count": null,
   "metadata": {
    "id": "Aul7Tcc01LLf"
   },
   "outputs": [],
   "source": [
    "# 리스트 만들기\n",
    "member = ['홍길동', '일지매', '박여인', '한사랑', '강우동']\n",
    "\n",
    "# 오름차순 정렬\n",
    "member.sort()\n",
    "\n",
    "# 확인\n",
    "print(member)"
   ]
  },
  {
   "cell_type": "code",
   "execution_count": null,
   "metadata": {
    "id": "zGcjchw6_AQY"
   },
   "outputs": [],
   "source": [
    "# 내림차순 정렬\n",
    "member.sort(reverse=True)\n",
    "\n",
    "# 확인\n",
    "print(member)"
   ]
  },
  {
   "cell_type": "markdown",
   "metadata": {
    "id": "Z1vPZjhRtrNA"
   },
   "source": [
    "- 참고로, sorted() 함수를 사용해 정렬된 결과를 반환받을 수 있습니다.\n",
    "- 기존 리스트는 변경되지 않습니다."
   ]
  },
  {
   "cell_type": "code",
   "execution_count": null,
   "metadata": {
    "id": "AXGHHDd9s8oJ"
   },
   "outputs": [],
   "source": [
    "# 리스트 만들기\n",
    "member = ['홍길동', '일지매', '박여인', '한사랑', '강우동']\n",
    "\n",
    "# 오름차순 정렬\n",
    "member2 = sorted(member)\n",
    "\n",
    "# 확인\n",
    "print(member)\n",
    "print(member2)"
   ]
  },
  {
   "cell_type": "markdown",
   "metadata": {
    "id": "SPSrUIPhzrf6"
   },
   "source": [
    "#### **② reverse() 메서드**\n",
    "\n",
    "- reverse() 메서드를 사용해 요소 순서를 역으로 변경할 수 있습니다."
   ]
  },
  {
   "cell_type": "code",
   "execution_count": null,
   "metadata": {
    "id": "v-hSAYNzzrf7"
   },
   "outputs": [],
   "source": [
    "# 리스트 선언\n",
    "member = ['홍길동', '일지매', '박여인', '한사랑', '강우동']\n",
    "\n",
    "# 요소 뒤집기\n",
    "member.reverse()\n",
    "\n",
    "# 확인\n",
    "print(member)"
   ]
  },
  {
   "cell_type": "markdown",
   "metadata": {
    "id": "4Iuk8vgruTBf"
   },
   "source": [
    "- 참고로, reversed() 함수를 사용해 요소 순서가 역으로 변경된 결과를 반환받을 수 있습니다.\n",
    "- 단, list() 함수를 사용해 리스트로 변환해야 합니다.\n",
    "- 기존 리스트는 변경되지 않습니다."
   ]
  },
  {
   "cell_type": "code",
   "execution_count": null,
   "metadata": {
    "id": "oR8x0s8ft5WS"
   },
   "outputs": [],
   "source": [
    "# 리스트 선언\n",
    "member = ['홍길동', '일지매', '박여인', '한사랑', '강우동']\n",
    "\n",
    "# 요소 뒤집기\n",
    "member2 = reversed(member)\n",
    "\n",
    "# 확인\n",
    "print(member)\n",
    "print(list(member2))"
   ]
  },
  {
   "cell_type": "markdown",
   "metadata": {
    "id": "-dg-4aboGn6v"
   },
   "source": [
    "### **4) 삭제용 메서드**\n",
    "\n",
    "- 다음 메서드들을 사용해 요소를 삭제할 수 있습니다."
   ]
  },
  {
   "cell_type": "markdown",
   "metadata": {
    "id": "4inMnVflBUWw"
   },
   "source": [
    "#### **① remove() 메서드**\n",
    "\n",
    "- remove() 메서드를 사용해 첫 번째 나타나는 지정한 요소를 삭제할 수 있습니다.\n",
    "- 지정한 요소가 없으면 오류가 발생합니다."
   ]
  },
  {
   "cell_type": "code",
   "execution_count": null,
   "metadata": {
    "id": "yMu1qpJBBUWw"
   },
   "outputs": [],
   "source": [
    "# 리스트 선언\n",
    "member = ['홍길동', '일지매', '박여인', '한사랑', '일지매', '강우동']\n",
    "\n",
    "# 요소 삭제\n",
    "member.remove('일지매')\n",
    "\n",
    "# 확인\n",
    "print(member)"
   ]
  },
  {
   "cell_type": "markdown",
   "metadata": {
    "id": "cKAYaSriBwQn"
   },
   "source": [
    "#### **② pop() 메서드**\n",
    "\n",
    "- pop() 메서드를 사용해 지정한 위치의 요소를 반환받고 해당 요소를 삭제할 수 있습니다.\n",
    "- 위치를 지정해 삭제하므로 어떤 요소가 삭제되었는지 확인하는 방법이 됩니다.\n",
    "- 지정한 위치에 요소가 없으면 오류가 발생합니다."
   ]
  },
  {
   "cell_type": "code",
   "execution_count": null,
   "metadata": {
    "id": "dLE8-2uIBwQn"
   },
   "outputs": [],
   "source": [
    "# 리스트 선언\n",
    "member = ['홍길동', '일지매', '박여인', '한사랑', '강우동']\n",
    "\n",
    "# 요소 삭제\n",
    "who = member.pop(1)\n",
    "\n",
    "# 확인\n",
    "print(member)\n",
    "print(who)"
   ]
  },
  {
   "cell_type": "markdown",
   "metadata": {
    "id": "FfdNHc4rG4E5"
   },
   "source": [
    "#### **③ clear() 메서드**\n",
    "\n",
    "- clear() 메서드를 사용해 모든 요소를 삭제할 수 있습니다."
   ]
  },
  {
   "cell_type": "code",
   "execution_count": null,
   "metadata": {
    "id": "xdY0rJi0G4E5"
   },
   "outputs": [],
   "source": [
    "# 리스트 선언\n",
    "member = ['홍길동', '일지매', '박여인', '한사랑', '강우동']\n",
    "\n",
    "# 모든 요소 삭제\n",
    "member.clear()\n",
    "\n",
    "# 확인\n",
    "print(member)"
   ]
  }
 ],
 "metadata": {
  "colab": {
   "provenance": []
  },
  "kernelspec": {
   "display_name": "Python 3 (ipykernel)",
   "language": "python",
   "name": "python3"
  },
  "language_info": {
   "codemirror_mode": {
    "name": "ipython",
    "version": 3
   },
   "file_extension": ".py",
   "mimetype": "text/x-python",
   "name": "python",
   "nbconvert_exporter": "python",
   "pygments_lexer": "ipython3",
   "version": "3.11.5"
  }
 },
 "nbformat": 4,
 "nbformat_minor": 1
}
