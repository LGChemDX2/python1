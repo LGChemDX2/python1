{
 "cells": [
  {
   "cell_type": "markdown",
   "metadata": {
    "id": "8LyqTotC2lnk"
   },
   "source": [
    "# **Topic 5. 관련 메서드_실습**"
   ]
  },
  {
   "cell_type": "markdown",
   "metadata": {
    "id": "MC_e_FNgGVxZ"
   },
   "source": [
    "**1) 2, 3, 1, 2, 5, 2, 6, 4, 2, 7, 1, 3, 4를 요소로 갖는 리스트 n1을 선언한 후 요소 개수를 확인하세요.**"
   ]
  },
  {
   "cell_type": "markdown",
   "metadata": {
    "id": "eGnSPyb0OMgT"
   },
   "source": [
    "[결과 예시]\n",
    "\n",
    "~~~\n",
    "13\n",
    "~~~"
   ]
  },
  {
   "cell_type": "code",
   "execution_count": null,
   "metadata": {
    "id": "888a76e3"
   },
   "outputs": [],
   "source": [
    "n1 = [2, 3, 1, 2, 5, 2, 6, 4, 2, 7, 1, 3, 4]\n",
    "print( )"
   ]
  },
  {
   "cell_type": "markdown",
   "metadata": {
    "id": "4At_FBUOQoQr"
   },
   "source": [
    "**2) 2, 3, 1, 2, 5, 2, 6, 4, 2, 7, 1, 3, 4를 요소로 갖는 리스트 n1을 선언한 후 요소 2의 개수를 확인하세요.**"
   ]
  },
  {
   "cell_type": "markdown",
   "metadata": {
    "id": "YSTXEJBdQoQv"
   },
   "source": [
    "[결과 예시]\n",
    "\n",
    "~~~\n",
    "4\n",
    "~~~"
   ]
  },
  {
   "cell_type": "code",
   "execution_count": null,
   "metadata": {
    "id": "5b25w0kYQoQv"
   },
   "outputs": [],
   "source": [
    "n1 = [2, 3, 1, 2, 5, 2, 6, 4, 2, 7, 1, 3, 4]\n",
    "print( )"
   ]
  },
  {
   "cell_type": "markdown",
   "metadata": {
    "id": "Isb0OY0yPOYZ"
   },
   "source": [
    "**3) 'c', 'a', 'b', 'd'를 요소로 갖는 리스트 s1을 선언한 후 오름차순으로 정렬한 후 확인하세요.**"
   ]
  },
  {
   "cell_type": "markdown",
   "metadata": {
    "id": "sOvukcfBPOYa"
   },
   "source": [
    "[결과 예시]\n",
    "\n",
    "~~~\n",
    "['a', 'b', 'c', 'd']\n",
    "~~~"
   ]
  },
  {
   "cell_type": "code",
   "execution_count": null,
   "metadata": {
    "id": "T2j5BsmQPOYa"
   },
   "outputs": [],
   "source": [
    "s1 = ['c', 'a', 'b', 'd']\n",
    "s1.\n",
    "print(s1)"
   ]
  },
  {
   "cell_type": "markdown",
   "metadata": {
    "id": "C8ziqZk3OQ6a"
   },
   "source": [
    "**4) 'c', 'a', 'b', 'd'를 요소로 갖는 리스트 s1을 선언한 후 내림차순으로 정렬한 후 확인하세요.**"
   ]
  },
  {
   "cell_type": "markdown",
   "metadata": {
    "id": "-gup0nHEOQ6a"
   },
   "source": [
    "[결과 예시]\n",
    "\n",
    "~~~\n",
    "['d', 'c', 'b', 'a']\n",
    "~~~"
   ]
  },
  {
   "cell_type": "code",
   "execution_count": null,
   "metadata": {
    "id": "Eiq_aXnqOQ6a"
   },
   "outputs": [],
   "source": [
    "s1 = ['c', 'a', 'b', 'd']\n",
    "s1.\n",
    "print(s1)"
   ]
  },
  {
   "cell_type": "markdown",
   "metadata": {
    "id": "FPvDDEFZPCwR"
   },
   "source": [
    "**5) '홍길동', '일지매', '한사랑', '강우동'을 요소로 갖는 리스트 s2을 선언한 후 요소 순서를 역으로 변경하고 확인하세요.**"
   ]
  },
  {
   "cell_type": "markdown",
   "metadata": {
    "id": "XzdwG5SPPCwR"
   },
   "source": [
    "[결과 예시]\n",
    "\n",
    "~~~\n",
    "['강우동', '한사랑', '일지매', '홍길동']\n",
    "~~~"
   ]
  },
  {
   "cell_type": "code",
   "execution_count": null,
   "metadata": {
    "id": "87w9uxUWPCwR"
   },
   "outputs": [],
   "source": [
    "s2 = ['홍길동', '일지매', '한사랑', '강우동']\n",
    "s2.\n",
    "print(s2)"
   ]
  },
  {
   "cell_type": "markdown",
   "metadata": {
    "id": "drm5NN8C1a5c"
   },
   "source": [
    "**6) '행복', '사랑', '좌절', '희망'을 요소로 갖는 리스트 mind를 선언한 후 '좌절'을 삭제하고 확인하세요.**"
   ]
  },
  {
   "cell_type": "markdown",
   "metadata": {
    "id": "IQubesNd1a5c"
   },
   "source": [
    "[결과 예시]\n",
    "\n",
    "~~~\n",
    "['행복', '사랑', '희망']\n",
    "~~~"
   ]
  },
  {
   "cell_type": "code",
   "execution_count": null,
   "metadata": {
    "id": "jwEbIPl-1a5d"
   },
   "outputs": [],
   "source": [
    "mind = ['행복', '사랑', '좌절', '희망']\n",
    "mind.\n",
    "print(mind)"
   ]
  },
  {
   "cell_type": "markdown",
   "metadata": {
    "id": "L8ot9JuX2bQk"
   },
   "source": [
    "**7) '행복', '사랑', '좌절', '희망'을 요소로 갖는 리스트 mind를 선언한 후 세 번째 요소를 삭제하고 확인하세요.**\n",
    "\n",
    "- 단, 삭제된 요소가 무엇인지 변수로 받아 확인하세요."
   ]
  },
  {
   "cell_type": "markdown",
   "metadata": {
    "id": "Wt_38TGX2bQk"
   },
   "source": [
    "[결과 예시]\n",
    "\n",
    "~~~\n",
    "['행복', '사랑', '희망']\n",
    "삭제: 좌절\n",
    "~~~"
   ]
  },
  {
   "cell_type": "code",
   "execution_count": null,
   "metadata": {
    "id": "oSsfNoGC2bQk"
   },
   "outputs": [],
   "source": [
    "mind = ['행복', '사랑', '좌절', '희망']\n",
    "deleted =\n",
    "print(mind)\n",
    "print('삭제:', deleted)"
   ]
  }
 ],
 "metadata": {
  "colab": {
   "provenance": []
  },
  "kernelspec": {
   "display_name": "Python 3 (ipykernel)",
   "language": "python",
   "name": "python3"
  },
  "language_info": {
   "codemirror_mode": {
    "name": "ipython",
    "version": 3
   },
   "file_extension": ".py",
   "mimetype": "text/x-python",
   "name": "python",
   "nbconvert_exporter": "python",
   "pygments_lexer": "ipython3",
   "version": "3.11.5"
  }
 },
 "nbformat": 4,
 "nbformat_minor": 1
}
