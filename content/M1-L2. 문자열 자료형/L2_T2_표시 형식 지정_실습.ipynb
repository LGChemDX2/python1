{
 "cells": [
  {
   "cell_type": "markdown",
   "metadata": {
    "id": "sgsL81jOTYBT"
   },
   "source": [
    "# **Topic 2. 표시 형식 지정_실습**"
   ]
  },
  {
   "cell_type": "markdown",
   "metadata": {
    "id": "OuKFea0Io91y"
   },
   "source": [
    "**1) 변수 a에 문자열 '이름: {}, 나이: {}'를 대입하고 .format()으로 적당한 값을 넣어 출력하세요.**"
   ]
  },
  {
   "cell_type": "markdown",
   "metadata": {
    "id": "XU1mK2hHd5Bd"
   },
   "source": [
    "[결과 예시]\n",
    "\n",
    "\n",
    "~~~\n",
    "이름: 홍길동, 나이: 23\n",
    "~~~"
   ]
  },
  {
   "cell_type": "code",
   "execution_count": null,
   "metadata": {
    "id": "e9a66c46"
   },
   "outputs": [],
   "source": [
    "a =\n",
    "print(a.format( ))"
   ]
  },
  {
   "cell_type": "markdown",
   "metadata": {
    "id": "ZRaFEi5FpM3T"
   },
   "source": [
    "**2) 다음 요구에 따라 변수를 선언하고 문자열을 출력하세요.**\n",
    "\n",
    "- 변수 name에 자신의 이름 대입\n",
    "- 변수 age에 자신의 나이 대입\n",
    "- 변수 a에는 f'문자열{변수}...' 형태로 [결과 예시]와 같은 형태로 결과가 출력되게 대입"
   ]
  },
  {
   "cell_type": "markdown",
   "metadata": {
    "id": "eM-3Xxs9d1_h"
   },
   "source": [
    "[결과 예시]\n",
    "\n",
    "~~~\n",
    "이름: 홍길동, 나이: 23\n",
    "~~~"
   ]
  },
  {
   "cell_type": "code",
   "execution_count": null,
   "metadata": {
    "id": "f784c90c"
   },
   "outputs": [],
   "source": [
    "name =\n",
    "age =\n",
    "a =\n",
    "print(a)"
   ]
  },
  {
   "cell_type": "markdown",
   "metadata": {
    "id": "ugtIwJWypolH"
   },
   "source": [
    "**3) 변수 b에 {}를 넣은 문자열 '{}은(는) {}원입니다.'를 대입하고 .format()으로 적당한 값을 넣어 출력하세요.**\n",
    "\n",
    "- 단, 가격은 천 단위 콤마가 포함되어야 함"
   ]
  },
  {
   "cell_type": "markdown",
   "metadata": {
    "id": "GFsc0z7gdy5W"
   },
   "source": [
    "[결과 예시]\n",
    "\n",
    "~~~\n",
    "아메리카노은(는) 4,000원입니다.\n",
    "~~~"
   ]
  },
  {
   "cell_type": "code",
   "execution_count": null,
   "metadata": {
    "id": "f0f820d1"
   },
   "outputs": [],
   "source": [
    "b =\n",
    "print(b.format( ))"
   ]
  },
  {
   "cell_type": "markdown",
   "metadata": {
    "id": "kDdcwmVcqCx9"
   },
   "source": [
    "**4) 다음 요구에 따라 변수를 선언하고 문자열을 출력하세요.**\n",
    "\n",
    "- 변수 product에 임의의 제품명 대입\n",
    "- 변수 price에 위 제품의 적절한 가격 대입\n",
    "- 변수 b에 f'문자열{변수}...'형태로 [결과 예시]와 같은 형태로 결과가 출력되게 대입\n",
    "- 단, 가격은 천 단위 콤마가 포함되어야 함"
   ]
  },
  {
   "cell_type": "markdown",
   "metadata": {
    "id": "AtMdyFfMdmZP"
   },
   "source": [
    "[결과 예시]\n",
    "\n",
    "~~~\n",
    "아메리카노은(는) 4,000원입니다.\n",
    "~~~"
   ]
  },
  {
   "cell_type": "code",
   "execution_count": null,
   "metadata": {
    "id": "e842dc6e"
   },
   "outputs": [],
   "source": [
    "product =\n",
    "price =\n",
    "b =\n",
    "print(b)"
   ]
  }
 ],
 "metadata": {
  "colab": {
   "provenance": []
  },
  "kernelspec": {
   "display_name": "Python 3 (ipykernel)",
   "language": "python",
   "name": "python3"
  },
  "language_info": {
   "codemirror_mode": {
    "name": "ipython",
    "version": 3
   },
   "file_extension": ".py",
   "mimetype": "text/x-python",
   "name": "python",
   "nbconvert_exporter": "python",
   "pygments_lexer": "ipython3",
   "version": "3.11.5"
  }
 },
 "nbformat": 4,
 "nbformat_minor": 1
}
