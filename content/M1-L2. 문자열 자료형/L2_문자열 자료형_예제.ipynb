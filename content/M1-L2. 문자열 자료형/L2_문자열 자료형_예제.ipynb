{
  "metadata": {
    "colab": {
      "provenance": []
    },
    "kernelspec": {
      "name": "python",
      "display_name": "Python (Pyodide)",
      "language": "python"
    },
    "language_info": {
      "codemirror_mode": {
        "name": "python",
        "version": 3
      },
      "file_extension": ".py",
      "mimetype": "text/x-python",
      "name": "python",
      "nbconvert_exporter": "python",
      "pygments_lexer": "ipython3",
      "version": "3.8"
    }
  },
  "nbformat_minor": 4,
  "nbformat": 4,
  "cells": [
    {
      "cell_type": "markdown",
      "source": "# **Lesson 2. 문자열 자료형**\n\n데이터 분석 초급 과정 1 (Python) > Module 1. Python Basics",
      "metadata": {
        "id": "413yAfItnv9-"
      }
    },
    {
      "cell_type": "markdown",
      "source": "## **Topic 1. 문자열 표현과 연산**\n\n- 숫자와 달리 문자열을 표현하기 위해서는 몇 가지 규칙이 필요합니다.\n- 연산에 의해서 얻어지는 결과도 숫자와는 다르므로 잘 이해해야 합니다.",
      "metadata": {
        "id": "kKXefopnnv9-"
      }
    },
    {
      "cell_type": "markdown",
      "source": "### **1) 기본 표현**\n\n- 작은 따옴표, 또는 큰 따옴표를 사용해 문자열을 표현합니다.\n- len() 함수로 문자열 길이(=포함된 문자 개수)를 확인할 수 있습니다.",
      "metadata": {
        "id": "lPlwfVkOnv99"
      }
    },
    {
      "cell_type": "code",
      "source": "# 문자열 출력\nprint('Hello World')\nprint(\"Hello World\")",
      "metadata": {
        "id": "V0d6x1Jku-lI"
      },
      "execution_count": null,
      "outputs": []
    },
    {
      "cell_type": "code",
      "source": "# 변수 선언\na = 'Hello'\nb = \"World\"\n\n# 확인\nprint(a, b)",
      "metadata": {
        "id": "sNZuPrSsMoBp"
      },
      "execution_count": null,
      "outputs": []
    },
    {
      "cell_type": "code",
      "source": "# 문자열 길이 확인\nlen(a)",
      "metadata": {
        "id": "G1mi-aU-nv96"
      },
      "execution_count": null,
      "outputs": []
    },
    {
      "cell_type": "markdown",
      "source": "### **2) 여러 줄 문자열 표현**\n\n- 문자열 앞뒤에 따옴표 세 개를 나열하거나, \\\\n을 사용해 여러 줄 표현이 가능합니다.\n- print() 함수를 사용해야 의도한 내용이 제대로 표시됩니다.",
      "metadata": {
        "id": "L5ngDzVHnv91"
      }
    },
    {
      "cell_type": "code",
      "source": "# 여러 줄 문자열 #1\ns1 = '''또 다른 방법은\n큰 따옴표나 작은 따옴표를 세 개 사용하는 것입니다.'''\nprint(s1)",
      "metadata": {
        "id": "zeh_t53mP4EK"
      },
      "execution_count": null,
      "outputs": []
    },
    {
      "cell_type": "code",
      "source": "# 여러 줄 문자열 #2\ns2 = \"\"\"또 다른 방법은\n큰 따옴표나 작은 따옴표를 세 개 사용하는 것입니다.\"\"\"\nprint(s2)",
      "metadata": {
        "id": "253iJR0-Hd2C"
      },
      "execution_count": null,
      "outputs": []
    },
    {
      "cell_type": "code",
      "source": "# 여러 줄 문자열 #3\ns3 = \"여러 줄의 문자열을 표시할 때는 \\n을 사용하세요\"\nprint(s3)",
      "metadata": {
        "id": "gBCvk1AKnv9z"
      },
      "execution_count": null,
      "outputs": []
    },
    {
      "cell_type": "markdown",
      "source": "### **3) 문자열 연산**\n\n- 문자열 연산은 숫자 연산과 당연히 다릅니다.\n- 문자열 연산에 대해 알아두면 이후에 편리하게 사용할 수 있습니다.",
      "metadata": {
        "id": "O5mVEqB7nv9v"
      }
    },
    {
      "cell_type": "markdown",
      "source": "#### **① 문자열 + 문자열 = 문자열 연결**",
      "metadata": {
        "id": "ucdDlanHnv9u"
      }
    },
    {
      "cell_type": "code",
      "source": "# 변수 선언\ns1 = 'hello'\ns2 = 'world'\n\n# 문자열 연결\nhw = s1 + ' ' + s2\n\n# 확인\nprint(hw)",
      "metadata": {
        "id": "Zw3mEBIZnv9s"
      },
      "execution_count": null,
      "outputs": []
    },
    {
      "cell_type": "markdown",
      "source": "#### **② 문자열 * 정수 = 문자열 반복**",
      "metadata": {
        "id": "Gefg0ZxYnv9s"
      }
    },
    {
      "cell_type": "code",
      "source": "# 문자열 반복\nprint('*' * 17)\nprint('** ' + s1 + ' ' + s2 + ' **')\nprint('*' * 17)",
      "metadata": {
        "id": "qJIvIquUnv9q",
        "scrolled": true
      },
      "execution_count": null,
      "outputs": []
    },
    {
      "cell_type": "markdown",
      "source": "- 문자열에 0을 곱하면 문자열이 제거됩니다.",
      "metadata": {
        "id": "CDIwp5lxJQYv"
      }
    },
    {
      "cell_type": "code",
      "source": "# 문자열 반복\ns = 'hello'\nprint(s * 1)\nprint(s * 2)\n\n# 문자열 제거\nprint(s * 0)",
      "metadata": {
        "id": "LnZOe10Dnv9o"
      },
      "execution_count": null,
      "outputs": []
    },
    {
      "cell_type": "markdown",
      "source": "## **Topic 2. 표시 형식 지정**\n\n- 문자열을 화면에 출력할 때 형식을 지정할 수 있는 방법들이 많습니다.\n- 이 중에서 편리한 방법을 선택해 사용하면 됩니다.",
      "metadata": {
        "id": "FrVQtFGgh0gz"
      }
    },
    {
      "cell_type": "markdown",
      "source": "### **1) format() 메서드**\n\n- 문자열 일부분만 바꾸면서 해당 문자열을 재사용할 경우가 있습니다.\n- 예를 들어 문자열에서 이름만 변경하며 사용하는 경우입니다.\n- 이를 문자열 포맷팅이라고 하며, 문자열.format() 형태로 사용합니다.",
      "metadata": {
        "id": "h_N_KJKEnv9o"
      }
    },
    {
      "cell_type": "markdown",
      "source": "#### **① 기본 사용법**\n\n- 단순 문자열에서 { }는 아무 의미가 없습니다.\n- 하지만 format() 메서드를 만나면 { }는 큰 의미를 가집니다.",
      "metadata": {
        "id": "2gMFPA7xY8D7"
      }
    },
    {
      "cell_type": "code",
      "source": "# 단순 문자열\n'이름:{}, 과목:{}, 점수:{}'",
      "metadata": {
        "id": "L8WL0saYNPpL"
      },
      "execution_count": null,
      "outputs": []
    },
    {
      "cell_type": "code",
      "source": "# format 사용\n'이름:{}, 과목:{}, 점수:{}'.format('홍길동', '국어', 90)",
      "metadata": {
        "id": "wDQpgWtoTGHF"
      },
      "execution_count": null,
      "outputs": []
    },
    {
      "cell_type": "markdown",
      "source": "#### **② print() 함수 사용**\n\n- format() 메서드는 대부분 print() 함수 안에서 사용합니다.",
      "metadata": {
        "id": "KxL6u78WjyGM"
      }
    },
    {
      "cell_type": "code",
      "source": "# 변수 선언\nname = '홍길동'\nyear = 2019\nperf = 2345.6789\n\n# 출력\nprint('이름:{}, 연도:{}, 실적:{}'.format(name, year, perf))",
      "metadata": {
        "id": "1Jz5JMJ6jibc"
      },
      "execution_count": null,
      "outputs": []
    },
    {
      "cell_type": "markdown",
      "source": "### **2) 자릿수와 정렬 방식 지정**\n\n- { } 안에 변수 위치 값을 지정해야 하지만, 순서대로 사용될 것이면 생략하는 경우가 많습니다.\n- { } 는 출력되는 값 순서 외에도 출력되는 형태, 즉 자리수 등을 제어할 수 있는 기능도 있습니다.",
      "metadata": {
        "id": "U-Ir095wnv9d"
      }
    },
    {
      "cell_type": "code",
      "source": "# 변수 선언\nname = '홍길동'\nyear = 2019\nperf = 2345.6789\n\n# 출력\nprint('이름:{0}, 연도:{1}, 실적:{2}'.format(name, year, perf))\nprint('이름:{0}, 연도:{1}, 실적:{2:.2f}'.format(name, year, perf))\nprint('이름:{}, 연도:{}, 실적:{:,.2f}'.format(name, year, perf))",
      "metadata": {
        "id": "MCOZpPATkN0T"
      },
      "execution_count": null,
      "outputs": []
    },
    {
      "cell_type": "markdown",
      "source": "### **3) f-String**\n\n- 최근에는 다음과 같은 방법(f-String)을 많이 사용합니다.",
      "metadata": {
        "id": "17K4WHTa29MP"
      }
    },
    {
      "cell_type": "code",
      "source": "# 변수 선언\nname = '홍길동'\nage = 25\nscore = 2345.6789\n\n# 확인\nprint(f'이름: {name}')\nprint(f'나이: {age}')\nprint(f'점수: {score}')\nprint(f'{age}살의 {name}의 점수는 {score}입니다.')",
      "metadata": {
        "id": "h1TB54UcXeZY"
      },
      "execution_count": null,
      "outputs": []
    },
    {
      "cell_type": "markdown",
      "source": "- 출력되는 형태를 나름으로 조절할 수 있습니다.\n- 참고: s - 문자열, d - 정수, f - 실수",
      "metadata": {
        "id": "xFh4Sdn5YjLQ"
      }
    },
    {
      "cell_type": "code",
      "source": "# 확인\nprint(f'{age}살의 {name}의 점수는 {score:,.2f}입니다.')",
      "metadata": {
        "id": "5LWLUawvYQIE"
      },
      "execution_count": null,
      "outputs": []
    },
    {
      "cell_type": "markdown",
      "source": "## **Topic 3. 인덱싱과 슬라이싱**\n\n- 문자열은 문자들이 모여서 만들어진 데이터입니다.\n- 그래서 문자열에 포함된 문자에 대한 인덱싱과 슬라이싱이 가능합니다.",
      "metadata": {
        "id": "viNURFDInv9S"
      }
    },
    {
      "cell_type": "markdown",
      "source": "### **1) 문자열 인덱싱**\n\n- 대괄호 [ ] 안에 인덱스를 지정해 원하는 위치의 문자를 확인합니다.",
      "metadata": {
        "id": "3AttAyqonv9R"
      }
    },
    {
      "cell_type": "code",
      "source": "# 문자열 변수\ns = '나의살던고향은꽃피는산골'\n\n# 문자열 인덱싱\nprint(s[0])\nprint(s[3])\nprint(s[11])\nprint(s[-1])\nprint(s[-5])",
      "metadata": {
        "id": "8S8YtY56nv9P",
        "scrolled": true
      },
      "execution_count": null,
      "outputs": []
    },
    {
      "cell_type": "markdown",
      "source": "### **2) 문자열 슬라이싱**\n\n- 범위를 지정해 문자를 추출할 수 있습니다.\n- 문자열[*m* : *n*] 형태의 구문으로 m부터 n-1번째 문자까지 추출합니다.\n",
      "metadata": {
        "id": "vvpZ3vKYnv9O"
      }
    },
    {
      "cell_type": "code",
      "source": "# 문자열 변수\ns = '나의살던고향은꽃피는산골'\n\n# 문자열 슬라이싱\nprint(s[4:6])\nprint(s[7:])\nprint(s[-5:])\nprint(s[-5:len(s)])\nprint(s[:])",
      "metadata": {
        "id": "RfiM4g_jnv9M"
      },
      "execution_count": null,
      "outputs": []
    },
    {
      "cell_type": "markdown",
      "source": "## **Topic 4. 관련 메서드**\n\n- 문자열을 변환하는 메서드를 사용해도 그 결과가 변수에 반영되지는 않습니다.",
      "metadata": {
        "id": "Mf3CUJV6nv9D"
      }
    },
    {
      "cell_type": "code",
      "source": "# 대문자로 변환\ns = 'I have a Dream.'\ns.upper()\nprint(s)",
      "metadata": {
        "id": "LEJSq8fU1meL"
      },
      "execution_count": null,
      "outputs": []
    },
    {
      "cell_type": "markdown",
      "source": "\n- 변환 결과를 변수에 반영하려면 메서드가 반환하는 값을 변수에 대입해야 합니다.",
      "metadata": {
        "id": "Xxx9ULo-i1ZN"
      }
    },
    {
      "cell_type": "code",
      "source": "# 대문자로 변환(변수에 반영)\ns = 'I have a Dream.'\ns = s.upper()\nprint(s)",
      "metadata": {
        "id": "tRNEhqKD2RlG"
      },
      "execution_count": null,
      "outputs": []
    },
    {
      "cell_type": "markdown",
      "source": "### **1) 대/소문자 변환 메서드**\n\n- upper() 메서드: 모든 문자를 대문자로 변환합니다.\n- lower() 메서드: 모든 문자를 소문자로 변환합니다.\n- title() 메서드: 단어 첫 문자만 대문자, 나머지는 모두 소문자로 변환합니다.\n- capitalize() 메서드: 문자열 첫 문자만 대문자, 나머지 모두 소문자로 변환합니다.",
      "metadata": {
        "id": "4m4mAgvInv9C"
      }
    },
    {
      "cell_type": "code",
      "source": "# 대/소문자 변환\ns = 'I have a Dream.'\nprint(s.upper())\nprint(s.lower())\nprint(s.title())\nprint(s.capitalize())",
      "metadata": {
        "id": "h-VPVu7bnv8_"
      },
      "execution_count": null,
      "outputs": []
    },
    {
      "cell_type": "markdown",
      "source": "### **2) replace() 메서드**\n\n- replace(x, y): 문자열에 포함된 일부 문자열 x를 문자열 y로 변경합니다.",
      "metadata": {
        "id": "md4Vri-Cnv88"
      }
    },
    {
      "cell_type": "code",
      "source": "# 문자열 변경\ns = 'nowhere'\nprint(s.replace('now', 'now '))",
      "metadata": {
        "id": "i_DoGsi1nv86"
      },
      "execution_count": null,
      "outputs": []
    },
    {
      "cell_type": "markdown",
      "source": "- replace() 메서드를 사용하는 경우가 많으니 꼭 기억합니다.",
      "metadata": {
        "id": "RgMGHIqyZxrh"
      }
    },
    {
      "cell_type": "code",
      "source": "# 문자열 변수\nnum = '123,456'\n\n# 콤마 제거 후 정수로 변환\nnum = num.replace(',', '')\nnum = int(num)\n\n# 연산\nprint(num * 2)",
      "metadata": {
        "id": "gZzdk2PCZvTH"
      },
      "execution_count": null,
      "outputs": []
    },
    {
      "cell_type": "markdown",
      "source": "### **3) split() 메서드**\n\n- split(x): x 문자를 구분자로 하여 문자열을 분리하여 리스트로 변환합니다.\n- 별도로 구분자를 지정하지 않으면 자동으로 화이트 스페이스(' ', '\\n', '\\t' 등)가 구분자가 됩니다.",
      "metadata": {
        "id": "1cMQvgEPttnG"
      }
    },
    {
      "cell_type": "code",
      "source": "# 변수 선언\ns = 'I have a Dream!'\n\n# 분리\nprint(s.split())",
      "metadata": {
        "id": "Kr1e73DWtSGg"
      },
      "execution_count": null,
      "outputs": []
    },
    {
      "cell_type": "code",
      "source": "# 변수 선언\ns = '2023-12-25'\n\n# 분리\nprint(s.split('-'))",
      "metadata": {
        "id": "RK_7L2bPuvjX"
      },
      "execution_count": null,
      "outputs": []
    },
    {
      "cell_type": "code",
      "source": "# 변수 선언\ns = '1/2/3/4/5/6/7/8/9'\n\n# 분리\ns_new = s.split('/')\n\n# 확인\nprint(s_new)",
      "metadata": {
        "id": "SaaQFB7PaXkj"
      },
      "execution_count": null,
      "outputs": []
    },
    {
      "cell_type": "code",
      "source": "# 변수 선언\ns = '2023-12-25'\n\n# 분리\nyear = s.split('-')[0]\nmonth = s.split('-')[1]\nday = s.split('-')[2]\n\n# 확인\nprint('오늘은', year, '년', month, '월', day, '일 입니다.')",
      "metadata": {
        "id": "2G2_3COou5s4"
      },
      "execution_count": null,
      "outputs": []
    },
    {
      "cell_type": "markdown",
      "source": "### **4) join() 메서드**\n\n- x.join(s): x를 구분자로 하여 요소들을 연결한 문자열로 변환합니다.",
      "metadata": {
        "id": "5nqEy_lq_r7F"
      }
    },
    {
      "cell_type": "code",
      "source": "# 변수 선언\ns = 'PYTHON'\n\n# 구분자 삽입\ns1 = '/'\nprint(s1.join(s))",
      "metadata": {
        "id": "deIakct1ujP0"
      },
      "execution_count": null,
      "outputs": []
    },
    {
      "cell_type": "code",
      "source": "# 변수 선언\na = ['홍길동', '한사랑', '강우동', '박여인']\n\n# 요소 연결\ns = '/'.join(a)\n\n# 확인\nprint(s)",
      "metadata": {
        "id": "z4c1dNlWwEF8"
      },
      "execution_count": null,
      "outputs": []
    }
  ]
}