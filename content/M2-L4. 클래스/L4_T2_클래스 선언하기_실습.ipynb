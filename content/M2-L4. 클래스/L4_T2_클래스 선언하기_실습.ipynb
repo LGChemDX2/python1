{
  "cells": [
    {
      "cell_type": "markdown",
      "metadata": {
        "id": "fdGqjaVxGFSi"
      },
      "source": [
        "# **Topic 2. 클래스 선언하기_실습**"
      ]
    },
    {
      "cell_type": "markdown",
      "metadata": {
        "id": "S4fzoaJC6wR7"
      },
      "source": [
        "**1) 다음 요구에 따라 Book 클래스를 선언하세요.**\n",
        "\n",
        "- 속성\n",
        "    - title: 책제목\n",
        "    - author: 저자\n",
        "- 메서드\n",
        "    - display(): '○○○의 ○○○입니다.' 형태의 문자열 출력\n",
        "- ? 부분을 적절히 채우세요."
      ]
    },
    {
      "cell_type": "code",
      "source": [
        "class Book:\n",
        "    def __init__(?, ?, ?):\n",
        "        self.? = ?\n",
        "        self.? = ?\n",
        "\n",
        "    def display(?):\n",
        "        print(f'{self.?}의 {self.?}입니다.')"
      ],
      "metadata": {
        "id": "uiyCL-jmjXJD"
      },
      "execution_count": null,
      "outputs": []
    },
    {
      "cell_type": "markdown",
      "source": [
        "**2) 다음 요구에 따라 Book 클래스의 인스턴스를 만들고 확인하세요.**\n",
        "\n",
        "- 인스턴스 이름: my_book\n",
        "- 속성: title='소나기', author='황순원'\n",
        "- 인스턴스를 만든 후 display() 메서드를 사용해 관련 정보를 확인하세요.\n",
        "- ? 부분을 적절히 채우세요."
      ],
      "metadata": {
        "id": "TgJYuhm_kxDf"
      }
    },
    {
      "cell_type": "markdown",
      "source": [
        "[결과 예시]\n",
        "\n",
        "~~~\n",
        "황순원의 소나기입니다.\n",
        "~~~"
      ],
      "metadata": {
        "id": "cSfoMbtKlaUp"
      }
    },
    {
      "cell_type": "code",
      "source": [
        "my_book = ?('소나기', '황순원')\n",
        "my_book.?()"
      ],
      "metadata": {
        "id": "wVsc6B94ju9r"
      },
      "execution_count": null,
      "outputs": []
    },
    {
      "cell_type": "markdown",
      "metadata": {
        "id": "pRQoS_KKmmvZ"
      },
      "source": [
        "**3) 다음 요구에 따라 Apple 클래스를 선언하세요.**\n",
        "\n",
        "- 속성\n",
        "    - color: 색깔\n",
        "    - variety: 품종\n",
        "- 메서드\n",
        "    - describe(): '이 사과는 ○○○ 색깔의 ○○○입니다.' 형태의 문자열 반환\n",
        "- ? 부분을 적절히 채우세요."
      ]
    },
    {
      "cell_type": "code",
      "source": [
        "class Apple:\n",
        "    def __init__(?, ?, ?):\n",
        "        self.? = ?\n",
        "        self.? = ?\n",
        "\n",
        "    def describe(self):\n",
        "        return f'이 사과는 {self.?} 색깔의 {self.?}입니다.'"
      ],
      "metadata": {
        "id": "jkYfwVi7lrVD"
      },
      "execution_count": null,
      "outputs": []
    },
    {
      "cell_type": "markdown",
      "source": [
        "**4) 다음 요구에 따라 Apple 클래스의 인스턴스를 만들고 확인하세요.**\n",
        "\n",
        "- 인스턴스 이름: my_apple\n",
        "- 속성: color='빨강', variety='홍옥'\n",
        "- 인스턴스를 만든 후 describe() 메서드를 사용해 관련 정보를 확인하세요.\n",
        "- ? 부분을 적절히 채우세요."
      ],
      "metadata": {
        "id": "Aavxf6RymsUY"
      }
    },
    {
      "cell_type": "markdown",
      "source": [
        "[결과 예시]\n",
        "\n",
        "~~~\n",
        "이 사과는 빨강 색깔의 홍옥입니다.\n",
        "~~~"
      ],
      "metadata": {
        "id": "juKJzmS6ntVz"
      }
    },
    {
      "cell_type": "code",
      "source": [
        "my_apple = ?('빨강', '홍옥')\n",
        "print(my_apple.?())"
      ],
      "metadata": {
        "id": "-hWYhYAwmXgy"
      },
      "execution_count": null,
      "outputs": []
    }
  ],
  "metadata": {
    "colab": {
      "provenance": []
    },
    "kernelspec": {
      "display_name": "Python 3 (ipykernel)",
      "language": "python",
      "name": "python3"
    },
    "language_info": {
      "codemirror_mode": {
        "name": "ipython",
        "version": 3
      },
      "file_extension": ".py",
      "mimetype": "text/x-python",
      "name": "python",
      "nbconvert_exporter": "python",
      "pygments_lexer": "ipython3",
      "version": "3.9.13"
    }
  },
  "nbformat": 4,
  "nbformat_minor": 0
}