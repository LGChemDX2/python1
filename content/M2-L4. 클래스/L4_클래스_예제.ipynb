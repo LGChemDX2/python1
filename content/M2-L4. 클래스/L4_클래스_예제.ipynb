{
  "cells": [
    {
      "cell_type": "markdown",
      "metadata": {
        "id": "se5EyHOgOEqo"
      },
      "source": [
        "# **Lesson 4. 클래스**\n",
        "데이터 분석 초급 과정 1 (Python) > Module 2. Python Skill-Up"
      ]
    },
    {
      "cell_type": "markdown",
      "source": [
        "## **Topic 1. 객체에 대한 이해**"
      ],
      "metadata": {
        "id": "uP7hpoGxjEZI"
      }
    },
    {
      "cell_type": "markdown",
      "source": [
        "### **1) 객체**\n",
        "\n",
        "- 파이썬에서 사용하는 모든 데이터는 객체입니다.\n",
        "- '홍길동' 객체를 name 변수로 선언합니다.\n",
        "- [80, 90, 85, 75] 객체를 score 변수로 선언합니다.\n",
        "- 객체를 다루기 위해서는 변수로 선언해야 하기 때문입니다."
      ],
      "metadata": {
        "id": "8Vs-xjKSjUqf"
      }
    },
    {
      "cell_type": "code",
      "source": [
        "# 변수 선언\n",
        "name = '홍길동'\n",
        "score = [80, 90, 85, 75]\n",
        "\n",
        "# 확인\n",
        "print(f'이름: {name}, 점수: {score}')"
      ],
      "metadata": {
        "id": "yIgE4XjhjdkL"
      },
      "execution_count": null,
      "outputs": []
    },
    {
      "cell_type": "markdown",
      "source": [
        "- 데이터 형식을 확인하면 두 객체는 각각 str 클래스와 list 클래스의 인스턴스임을 알 수 있습니다."
      ],
      "metadata": {
        "id": "9q7M75k9rcEW"
      }
    },
    {
      "cell_type": "code",
      "source": [
        "# 자료형 확인\n",
        "print(type(name))\n",
        "print(type(score))"
      ],
      "metadata": {
        "id": "K0fYDT6_rYIs"
      },
      "execution_count": null,
      "outputs": []
    },
    {
      "cell_type": "markdown",
      "source": [
        "- instance() 함수를 사용해 해당 객체가 특정 클래스의 인스턴스인지 확인할 수 있습니다."
      ],
      "metadata": {
        "id": "j_C6ptEQNsOX"
      }
    },
    {
      "cell_type": "code",
      "source": [
        "# 인스턴스 여부 확인\n",
        "print(isinstance(name, str))\n",
        "print(isinstance(score, list))\n",
        "print(isinstance(name, list))\n",
        "print(isinstance(score, str))"
      ],
      "metadata": {
        "id": "DU9jr0zlNczE"
      },
      "execution_count": null,
      "outputs": []
    },
    {
      "cell_type": "markdown",
      "source": [
        "- 문자열 객체인 name은 str 클래스에 정의된 메서드를 사용할 수 있습니다."
      ],
      "metadata": {
        "id": "oxIzBYV6sLCS"
      }
    },
    {
      "cell_type": "code",
      "source": [
        "# 문자 변경\n",
        "print(name.replace('동', '민'))"
      ],
      "metadata": {
        "id": "sv06jwU9rska"
      },
      "execution_count": null,
      "outputs": []
    },
    {
      "cell_type": "markdown",
      "source": [
        "- 리스트 객체인 score는 list 클래스에 정의된 메서드를 사용할 수 있습니다."
      ],
      "metadata": {
        "id": "elE6SPxvsXV3"
      }
    },
    {
      "cell_type": "code",
      "source": [
        "# 오름차순 정렬\n",
        "score.sort()\n",
        "\n",
        "# 확인\n",
        "print(score)"
      ],
      "metadata": {
        "id": "dgYdtR3br-X5"
      },
      "execution_count": null,
      "outputs": []
    },
    {
      "cell_type": "markdown",
      "source": [
        "### **2) 클래스**\n",
        "\n",
        "- class 문으로 여러 속성과 메서드를 갖는 새로운 클래스를 선언할 수 있습니다.\n",
        "- 간단하게 Person 클래스를 만들어봅니다.\n",
        "    - name(이름), 나이(age) 속성을 갖게 합니다.\n",
        "    - introduce() 메소드를 갖게 해 소개하는 문자열을 출력합니다."
      ],
      "metadata": {
        "id": "NnxUh5AWjYIc"
      }
    },
    {
      "cell_type": "code",
      "source": [
        "# 클래스 선언\n",
        "class Person:\n",
        "    def __init__(self, name, age):\n",
        "        self.name = name\n",
        "        self.age = age\n",
        "\n",
        "    def introduce(self):\n",
        "        print(f'반갑습니다. {self.age} 살 {self.name}입니다.')"
      ],
      "metadata": {
        "id": "tJvDGtPRsfTp"
      },
      "execution_count": null,
      "outputs": []
    },
    {
      "cell_type": "markdown",
      "source": [
        "- 이제 Person 클래스의 인스턴스를 만들면 이들이 객체가 됩니다.\n",
        "- 객체를 다루기 위해서는 그 객체를 가리키는 변수가 필요합니다."
      ],
      "metadata": {
        "id": "e27XucVvtv3M"
      }
    },
    {
      "cell_type": "code",
      "source": [
        "# 객체 만들기\n",
        "person1 = Person('홍길동', 32)\n",
        "person2 = Person('한사랑', 28)"
      ],
      "metadata": {
        "id": "T3HyyKBtt2Iu"
      },
      "execution_count": null,
      "outputs": []
    },
    {
      "cell_type": "markdown",
      "source": [
        "- 언제든 객체의 속성을 확인할 수 있습니다."
      ],
      "metadata": {
        "id": "EaoJhU1-uAMr"
      }
    },
    {
      "cell_type": "code",
      "source": [
        "# 속성 확인\n",
        "print(person1.name, person1.age)\n",
        "print(person2.name, person2.age)"
      ],
      "metadata": {
        "id": "dMaa1cFouDMI"
      },
      "execution_count": null,
      "outputs": []
    },
    {
      "cell_type": "markdown",
      "source": [
        "- 필요하면 객체 속성을 변경할 수 있습니다.\n",
        "- 나이를 한 살을 더해봅니다."
      ],
      "metadata": {
        "id": "UMVjA7wfuOom"
      }
    },
    {
      "cell_type": "code",
      "source": [
        "# 속성 변경\n",
        "person1.age += 1\n",
        "person2.age += 1"
      ],
      "metadata": {
        "id": "Do5J_arYuRUH"
      },
      "execution_count": null,
      "outputs": []
    },
    {
      "cell_type": "markdown",
      "source": [
        "- introduce() 메서드를 호출해 정해진 동작을 수행할 수 있습니다."
      ],
      "metadata": {
        "id": "mI81RRzTuWgz"
      }
    },
    {
      "cell_type": "code",
      "source": [
        "# 메서드 사용\n",
        "person1.introduce()\n",
        "person2.introduce()"
      ],
      "metadata": {
        "id": "Ni0nrezcuaSx"
      },
      "execution_count": null,
      "outputs": []
    },
    {
      "cell_type": "markdown",
      "source": [
        "## **Topic 2. 클래스 선언하기**"
      ],
      "metadata": {
        "id": "UCH259koby9J"
      }
    },
    {
      "cell_type": "markdown",
      "source": [
        "### **1) 클래스 선언**\n",
        "\n",
        "- 클래스는 class 키워드를 사용하여 선언합니다.\n",
        "- 클래스 이름은 대문자로 시작하는 관례를 따릅니다.\n",
        "- 다음과 같이 Person 클래스를 선언합니다.\n",
        "    - 속성: 이름(name), 나이(age)\n",
        "    - 메서드: 정보표시(display_info)"
      ],
      "metadata": {
        "id": "e6dxcbnUSeql"
      }
    },
    {
      "cell_type": "code",
      "source": [
        "# 클래스 선언\n",
        "class Person:\n",
        "    # 생성자 메서드\n",
        "    def __init__(self, name, age):\n",
        "        self.name = name\n",
        "        self.age = age\n",
        "\n",
        "    # 정보를 출력하는 메서드\n",
        "    def display_info(self):\n",
        "        print(f'이름: {self.name}')\n",
        "        print(f'나이: {self.age}')"
      ],
      "metadata": {
        "id": "vidt6002ArLf"
      },
      "execution_count": null,
      "outputs": []
    },
    {
      "cell_type": "markdown",
      "source": [
        "- 다음과 같이 Teacher 인스턴스를 선언합니다.\n",
        "    - 속성: 이름(name) , 과목(subject)\n",
        "    - 메서드: 소개하기(introduce)"
      ],
      "metadata": {
        "id": "jTNUCNTzUKjH"
      }
    },
    {
      "cell_type": "code",
      "source": [
        "# 클래스 선언\n",
        "class Teacher:\n",
        "    # 생성자 메서드\n",
        "    def __init__(self, name, subject):\n",
        "        self.name = name\n",
        "        self.subject = subject\n",
        "    # 소개하는 메서드\n",
        "    def introduce(self):\n",
        "        print(f'저는 {self.subject} 과목을 가르치는 {self.name} 선생님입니다.')"
      ],
      "metadata": {
        "id": "IIX24bqyUDj-"
      },
      "execution_count": null,
      "outputs": []
    },
    {
      "cell_type": "markdown",
      "source": [
        "### **2) 인스턴스 생성**\n",
        "\n",
        "- 동일한 클래스에 속하는 여러 인스턴스를 만들 수 있습니다.\n",
        "- Person 클래스의 인스턴스를 만듭니다.\n",
        "\n"
      ],
      "metadata": {
        "id": "Dv0PHct2SlDp"
      }
    },
    {
      "cell_type": "code",
      "source": [
        "# 인스턴스 생성\n",
        "person1 = Person('홍길동', 30)\n",
        "person2 = Person('일지매', 45)"
      ],
      "metadata": {
        "id": "kZhaN36KSoDv"
      },
      "execution_count": null,
      "outputs": []
    },
    {
      "cell_type": "markdown",
      "source": [
        "- 객체 속성을 직접 확인할 수 있습니다."
      ],
      "metadata": {
        "id": "PXvyDUvUTsjH"
      }
    },
    {
      "cell_type": "code",
      "source": [
        "# 속성 확인\n",
        "print(person1.name)\n",
        "print(person1.age)\n",
        "print('-' * 7)\n",
        "print(person2.name)\n",
        "print(person2.age)"
      ],
      "metadata": {
        "id": "QxsPwh2ORN7p"
      },
      "execution_count": null,
      "outputs": []
    },
    {
      "cell_type": "markdown",
      "source": [
        "- 객체의 속성을 확인하는 메서드를 사용하면 속성을 쉽게 확인할 수 있습니다."
      ],
      "metadata": {
        "id": "ZxcbmsQXTxlt"
      }
    },
    {
      "cell_type": "code",
      "source": [
        "# 메서드 호출\n",
        "person1.display_info()\n",
        "print('-' * 14)\n",
        "person2.display_info()"
      ],
      "metadata": {
        "id": "BAODNs1yRMqN"
      },
      "execution_count": null,
      "outputs": []
    },
    {
      "cell_type": "markdown",
      "source": [
        "- Teacher 클래스의 인스턴스를 만들고 메서드를 호출합니다."
      ],
      "metadata": {
        "id": "UnG0WNxVVL-y"
      }
    },
    {
      "cell_type": "code",
      "source": [
        "# 인스턴스 생성\n",
        "teacher1 = Teacher('한사랑', '수학')\n",
        "teacher2 = Teacher('한국인', '영어')\n",
        "\n",
        "# 메서드 호출\n",
        "teacher1.introduce()\n",
        "teacher2.introduce()"
      ],
      "metadata": {
        "id": "J0QtLJN7VUlh"
      },
      "execution_count": null,
      "outputs": []
    },
    {
      "cell_type": "markdown",
      "source": [
        "- 객체 속성을 변경하고 메서드를 다시 호출합니다."
      ],
      "metadata": {
        "id": "-QrAbgAMWeG2"
      }
    },
    {
      "cell_type": "code",
      "source": [
        "# 속성 변경\n",
        "teacher1.subject = '과학'\n",
        "teacher2.subject = '불어'\n",
        "\n",
        "# 메서드 호출\n",
        "teacher1.introduce()\n",
        "teacher2.introduce()"
      ],
      "metadata": {
        "id": "cQ1Tls4gWNmY"
      },
      "execution_count": null,
      "outputs": []
    },
    {
      "cell_type": "markdown",
      "source": [
        "## **Topic 3. 클래스 변수와 함수**"
      ],
      "metadata": {
        "id": "qkVO61enbpvn"
      }
    },
    {
      "cell_type": "markdown",
      "source": [
        "### **1) 클래스 변수**\n",
        "\n",
        "- 클래스 변수는 클래스에 속하며 모든 클래스 인스턴스 간에 공유되는 변수입니다.\n",
        "- 클래스 수준에서 데이터를 저장하고 관리하는 데 사용됩니다.\n"
      ],
      "metadata": {
        "id": "F069YSi5ZY4J"
      }
    },
    {
      "cell_type": "code",
      "source": [
        "# 클래스 선언\n",
        "class Person:\n",
        "    # 클래스 변수\n",
        "    total_people = 0\n",
        "\n",
        "    def __init__(self, name, age):\n",
        "        self.name = name\n",
        "        self.age = age\n",
        "        # 클래스 변수 total_people 증가\n",
        "        Person.total_people += 1\n",
        "\n",
        "    def display_info(self):\n",
        "        print(f'이름: {self.name}')\n",
        "        print(f'나이: {self.age}')"
      ],
      "metadata": {
        "id": "6XZ0ijLnZ3Kk"
      },
      "execution_count": null,
      "outputs": []
    },
    {
      "cell_type": "markdown",
      "source": [
        "- Person 클래스의 인스턴스를 두 개 만들면 클래스 변수 total_people 값이 2가 됩니다."
      ],
      "metadata": {
        "id": "DcbuS27kadAy"
      }
    },
    {
      "cell_type": "code",
      "source": [
        "# 인스턴스 생성\n",
        "person1 = Person('홍길동', 30)\n",
        "person2 = Person('일지매', 45)\n",
        "\n",
        "# 메서드 호출\n",
        "person1.display_info()\n",
        "person2.display_info()"
      ],
      "metadata": {
        "id": "x3w8UYv8Z6bh"
      },
      "execution_count": null,
      "outputs": []
    },
    {
      "cell_type": "markdown",
      "source": [
        "- 다음과 같이 클래스 변수 값을 확인할 수 있지만 적절한 방법이 아닙니다."
      ],
      "metadata": {
        "id": "aeGgnffhaV2p"
      }
    },
    {
      "cell_type": "code",
      "source": [
        "# 총 인원 수 확인\n",
        "print(f'총 인원 수: {Person.total_people}')"
      ],
      "metadata": {
        "id": "usaRlsuUaC2s"
      },
      "execution_count": null,
      "outputs": []
    },
    {
      "cell_type": "markdown",
      "source": [
        "- 참고로, 클래스 변수는 인스턴스를 사용해서도 접근할 수 있습니다.\n",
        "- 다음 코드 결과를 보면 모든 인스턴스들이 클래스 변수를 공유하고 있음을 알 수 있습니다."
      ],
      "metadata": {
        "id": "NiDoqGk-JhzS"
      }
    },
    {
      "cell_type": "code",
      "source": [
        "# 총 인원 수 확인\n",
        "print(f'총 인원 수: {person1.total_people}')\n",
        "print(f'총 인원 수: {person2.total_people}')"
      ],
      "metadata": {
        "id": "Ne33ZsqtJV0J"
      },
      "execution_count": null,
      "outputs": []
    },
    {
      "cell_type": "markdown",
      "source": [
        "### **2) 클래스 함수**\n",
        "\n",
        "- 클래스와 관련된 작업을 수행하는 메서드입니다.\n",
        "- 일반적으로 클래스 함수 내에서 변수에 접근하거나 코드를 수정할 때 활용됩니다."
      ],
      "metadata": {
        "id": "35rTRLRaZwa_"
      }
    },
    {
      "cell_type": "code",
      "source": [
        "# Person 클래스 선언\n",
        "class Person:\n",
        "    # 클래스 변수\n",
        "    total_people = 0\n",
        "\n",
        "    def __init__(self, name, age):\n",
        "        self.name = name\n",
        "        self.age = age\n",
        "        # 클래스 변수 total_people 증가\n",
        "        Person.total_people += 1\n",
        "\n",
        "    # 인스턴스 메서드\n",
        "    def display_info(self):\n",
        "        print(f'이름: {self.name}')\n",
        "        print(f'나이: {self.age}')\n",
        "\n",
        "    # 클래스 함수\n",
        "    @classmethod\n",
        "    def get_total_people(cls):\n",
        "        return Person.total_people"
      ],
      "metadata": {
        "id": "by41RFrBBkzf"
      },
      "execution_count": null,
      "outputs": []
    },
    {
      "cell_type": "markdown",
      "source": [
        "- Person 클래스의 인스턴스를 두 개 만들면 클래스 변수 total_people 값이 2가 됩니다."
      ],
      "metadata": {
        "id": "Te6JJESLbTpA"
      }
    },
    {
      "cell_type": "code",
      "source": [
        "# 인스턴스 생성\n",
        "person1 = Person('홍길동', 30)\n",
        "person2 = Person('일지매', 45)\n",
        "\n",
        "# 정보 출력\n",
        "person1.display_info()\n",
        "person2.display_info()"
      ],
      "metadata": {
        "id": "223s7o3TbOQ8"
      },
      "execution_count": null,
      "outputs": []
    },
    {
      "cell_type": "markdown",
      "source": [
        "- 클래스 함수를 호출해 총 인원을 확인합니다."
      ],
      "metadata": {
        "id": "ltWpGM4KcBrf"
      }
    },
    {
      "cell_type": "code",
      "source": [
        "# 총 인원 수 확인\n",
        "total_people = Person.get_total_people()\n",
        "print(f'총 인원 수: {total_people}')"
      ],
      "metadata": {
        "id": "za0NtdggbVhs"
      },
      "execution_count": null,
      "outputs": []
    },
    {
      "cell_type": "markdown",
      "source": [
        "## **Topic 4. 클래스 상속**"
      ],
      "metadata": {
        "id": "KPb2WZAWbjrj"
      }
    },
    {
      "cell_type": "markdown",
      "source": [
        "### **1) 부모 클래스 선언**\n",
        "\n",
        "- 우선 부모 클래스인 Person 클래스를 선언합니다."
      ],
      "metadata": {
        "id": "3l2Y9Hy7caN6"
      }
    },
    {
      "cell_type": "code",
      "source": [
        "# 부모 클래스 선언\n",
        "class Person:\n",
        "    def __init__(self, name, age, gender):\n",
        "        self.name = name\n",
        "        self.age = age\n",
        "        self.gender = gender\n",
        "\n",
        "    def display_info(self):\n",
        "        print(f'이름: {self.name}')\n",
        "        print(f'나이: {self.age}')\n",
        "        print(f'성별: {self.gender}')"
      ],
      "metadata": {
        "id": "51OLGb6iA0Be"
      },
      "execution_count": null,
      "outputs": []
    },
    {
      "cell_type": "markdown",
      "source": [
        "- Person 클래스에 대한 인스턴스를 만들고 메서드를 호출합니다."
      ],
      "metadata": {
        "id": "sb2tiFltijMY"
      }
    },
    {
      "cell_type": "code",
      "source": [
        "# 인스턴스 생성\n",
        "person1 = Person('홍길동', 30, '남자')\n",
        "\n",
        "# 메서드 호출\n",
        "person1.display_info()"
      ],
      "metadata": {
        "id": "zpHjITzccv8a"
      },
      "execution_count": null,
      "outputs": []
    },
    {
      "cell_type": "markdown",
      "source": [
        "### **2) 자식 클래스 선언**\n",
        "\n",
        "- 이제 Person 클래스의 자식 클래스인 Student 클래스를 만듭니다.\n",
        "- 클래스 이름 뒤에 괄호를 사용하여 상속하고자 하는 부모 클래스를 지정합니다."
      ],
      "metadata": {
        "id": "pSObPAPFcjq3"
      }
    },
    {
      "cell_type": "code",
      "source": [
        "# 자식 클래스 선언\n",
        "class Student(Person):\n",
        "    def __init__(self, name, age, gender, student_id):\n",
        "        # 부모 클래스 생성자 호출\n",
        "        super().__init__(name, age, gender)\n",
        "        self.student_id = student_id\n",
        "\n",
        "    # 학생 정보를 출력하는 메서드\n",
        "    def display_student_info(self):\n",
        "        # 부모 클래스 메서드 호출\n",
        "        super().display_info()\n",
        "        print('직업: 학생')\n",
        "        print(f'학번: {self.student_id}')"
      ],
      "metadata": {
        "id": "guiv33Blcg3W"
      },
      "execution_count": null,
      "outputs": []
    },
    {
      "cell_type": "markdown",
      "source": [
        "- Student 클래스에 대한 인스턴스를 만들고 메서드를 호출합니다."
      ],
      "metadata": {
        "id": "ep57fjenio3T"
      }
    },
    {
      "cell_type": "code",
      "source": [
        "# 인스턴스 생성\n",
        "student1 = Student('한사랑', 24, '여자', '2023001')\n",
        "\n",
        "# 메서드 호출\n",
        "student1.display_student_info()"
      ],
      "metadata": {
        "id": "dhpY2I6Schev"
      },
      "execution_count": null,
      "outputs": []
    },
    {
      "cell_type": "markdown",
      "source": [
        "- Person 클래스의 자식 클래스인 Teacher 클래스를 만듭니다."
      ],
      "metadata": {
        "id": "NNw1TtSTPwLp"
      }
    },
    {
      "cell_type": "code",
      "source": [
        "# 자식 클래스 선언\n",
        "class Teacher(Person):\n",
        "    def __init__(self, name, age, gender, subject):\n",
        "        # 부모 클래스 생성자 호출\n",
        "        super().__init__(name, age, gender)\n",
        "        self.subject = subject\n",
        "\n",
        "    # 교사 정보를 출력하는 메서드\n",
        "    def display_teacher_info(self):\n",
        "        # 부모 클래스 메서드 호출\n",
        "        super().display_info()\n",
        "        print('직업: 교사')\n",
        "        print(f'전공: {self.subject}')"
      ],
      "metadata": {
        "id": "6Pa-wd_2PtOt"
      },
      "execution_count": null,
      "outputs": []
    },
    {
      "cell_type": "markdown",
      "source": [
        "- Teacher 클래스에 대한 인스턴스를 만들고 메서드를 호출합니다."
      ],
      "metadata": {
        "id": "l_dEIDIjPtOt"
      }
    },
    {
      "cell_type": "code",
      "source": [
        "# 인스턴스 생성\n",
        "teacher1 = Teacher('한국인', 42, '남자', '수학')\n",
        "\n",
        "# 메서드 호출\n",
        "teacher1.display_teacher_info()"
      ],
      "metadata": {
        "id": "v0e4H0FhPtOt"
      },
      "execution_count": null,
      "outputs": []
    }
  ],
  "metadata": {
    "colab": {
      "provenance": []
    },
    "kernelspec": {
      "display_name": "Python 3 (ipykernel)",
      "language": "python",
      "name": "python3"
    },
    "language_info": {
      "codemirror_mode": {
        "name": "ipython",
        "version": 3
      },
      "file_extension": ".py",
      "mimetype": "text/x-python",
      "name": "python",
      "nbconvert_exporter": "python",
      "pygments_lexer": "ipython3",
      "version": "3.11.3"
    }
  },
  "nbformat": 4,
  "nbformat_minor": 0
}