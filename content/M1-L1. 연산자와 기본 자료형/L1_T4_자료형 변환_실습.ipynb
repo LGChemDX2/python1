{
  "metadata": {
    "colab": {
      "provenance": []
    },
    "kernelspec": {
      "name": "python",
      "display_name": "Python (Pyodide)",
      "language": "python"
    },
    "language_info": {
      "codemirror_mode": {
        "name": "python",
        "version": 3
      },
      "file_extension": ".py",
      "mimetype": "text/x-python",
      "name": "python",
      "nbconvert_exporter": "python",
      "pygments_lexer": "ipython3",
      "version": "3.8"
    }
  },
  "nbformat_minor": 4,
  "nbformat": 4,
  "cells": [
    {
      "cell_type": "markdown",
      "source": "# **Topic 4. 자료형 변환_실습**",
      "metadata": {
        "id": "c5WIAjN1S7U9"
      }
    },
    {
      "cell_type": "markdown",
      "source": "**1) 다음 주어진 변수를 이어지는 요구에 따라 형 변환을 수행하세요.**",
      "metadata": {
        "id": "4T8hlRmITYat"
      }
    },
    {
      "cell_type": "code",
      "source": "score = 1234.56",
      "metadata": {
        "id": "eia1YwY2LhW8"
      },
      "execution_count": null,
      "outputs": []
    },
    {
      "cell_type": "markdown",
      "source": "① 정수로 변환하여 변수 n1으로 선언하고 확인",
      "metadata": {
        "id": "O-4k2us3L1ZY"
      }
    },
    {
      "cell_type": "markdown",
      "source": "[결과 예시]\n\n~~~\n<class 'int'>\n1234\n~~~",
      "metadata": {
        "id": "0bdnu72WQAgf"
      }
    },
    {
      "cell_type": "code",
      "source": "n1 =\nprint( )\nprint(n1)",
      "metadata": {
        "id": "jc3ApPDPL-7d"
      },
      "execution_count": null,
      "outputs": []
    },
    {
      "cell_type": "markdown",
      "source": "② 문자열로 변환하여 변수 s1으로 선언하고 확인",
      "metadata": {
        "id": "7-qz4NeVNjs8"
      }
    },
    {
      "cell_type": "markdown",
      "source": "[결과 예시]\n\n~~~\n<class 'str'>\n1234.56\n~~~",
      "metadata": {
        "id": "8dJcNILxQIgs"
      }
    },
    {
      "cell_type": "code",
      "source": "s1 =\nprint( )\nprint(s1)",
      "metadata": {
        "id": "Cb1ttIs6L_NW"
      },
      "execution_count": null,
      "outputs": []
    },
    {
      "cell_type": "markdown",
      "source": "**2) 다음 주어진 변수를 이어지는 요구에 따라 형 변환을 수행하세요.**\n\n- 단, 오류가 발생하면 그 원인을 설명하세요.",
      "metadata": {
        "id": "kUbdqlJQMxc8"
      }
    },
    {
      "cell_type": "code",
      "source": "score = '1234.56'",
      "metadata": {
        "id": "7B8wfP5AMxc8"
      },
      "execution_count": null,
      "outputs": []
    },
    {
      "cell_type": "markdown",
      "source": "① 실수로 변환하여 변수 n1으로 선언하고 확인",
      "metadata": {
        "id": "LfyfDVwyMxc8"
      }
    },
    {
      "cell_type": "markdown",
      "source": "[결과 예시]\n\n~~~\n<class 'float'>\n1234.56\n~~~",
      "metadata": {
        "id": "n1DNYCl5QJFM"
      }
    },
    {
      "cell_type": "code",
      "source": "n1 =\nprint( )\nprint(n1)",
      "metadata": {
        "id": "70H5lJCHMxc9"
      },
      "execution_count": null,
      "outputs": []
    },
    {
      "cell_type": "markdown",
      "source": "② 정수로 변환하여 변수 n2로 선언하고 확인",
      "metadata": {
        "id": "TGxxAo8qNDK5"
      }
    },
    {
      "cell_type": "markdown",
      "source": "[결과 예시]\n\n~~~\n문자열을 정수로 변환할 수 없음\n~~~",
      "metadata": {
        "id": "cnZqhJKkQJw8"
      }
    },
    {
      "cell_type": "code",
      "source": "n2 =\nprint( )\nprint(n2)",
      "metadata": {
        "id": "AyIKoGSpMxc9"
      },
      "execution_count": null,
      "outputs": []
    },
    {
      "cell_type": "markdown",
      "source": "③ 실수로 변환한 후 다시 정수로 변환하여 변수 n2로 선언하고 확인",
      "metadata": {
        "id": "hwL2R5iSNWEQ"
      }
    },
    {
      "cell_type": "markdown",
      "source": "[결과 예시]\n\n~~~\n<class 'int'>\n1234\n~~~",
      "metadata": {
        "id": "EUw4jdRRQKjk"
      }
    },
    {
      "cell_type": "code",
      "source": "n2 =\nprint( )\nprint(n2)",
      "metadata": {
        "id": "UNAjbflYNLXV"
      },
      "execution_count": null,
      "outputs": []
    },
    {
      "cell_type": "markdown",
      "source": "**3) 다음 요구에 따라 형 변환을 수행하세요.**",
      "metadata": {
        "id": "yb7rZNMkN_8M"
      }
    },
    {
      "cell_type": "markdown",
      "source": "① 변수 b1을 정수로 변환하여 변수 n1으로 선언하고 확인",
      "metadata": {
        "id": "jHfIEKG8OzjI"
      }
    },
    {
      "cell_type": "markdown",
      "source": "[결과 예시]\n\n~~~\n1\n~~~",
      "metadata": {
        "id": "k9EhjnwvQLDd"
      }
    },
    {
      "cell_type": "code",
      "source": "b1 = True\nn1 =\nprint(n1)",
      "metadata": {
        "id": "qg0nnTLPN_8R"
      },
      "execution_count": null,
      "outputs": []
    },
    {
      "cell_type": "markdown",
      "source": "② 변수 b2를 실수로 변환하여 변수 n2로 선언하고 확인",
      "metadata": {
        "id": "R_6sVutFO6ny"
      }
    },
    {
      "cell_type": "markdown",
      "source": "[결과 예시]\n\n~~~\n0.0\n~~~",
      "metadata": {
        "id": "XitGS02vQLbT"
      }
    },
    {
      "cell_type": "code",
      "source": "b2 = False\nn2 =\nprint(n2)",
      "metadata": {
        "id": "0shELRRaNU9M"
      },
      "execution_count": null,
      "outputs": []
    },
    {
      "cell_type": "markdown",
      "source": "③ 변수 n1을 부울로 변환하여 변수 b1으로 선언하고 확인",
      "metadata": {
        "id": "j9orZPV3PIDw"
      }
    },
    {
      "cell_type": "markdown",
      "source": "[결과 예시]\n\n~~~\nTrue\n~~~",
      "metadata": {
        "id": "hWLQJwSSQL8F"
      }
    },
    {
      "cell_type": "code",
      "source": "n1 = -10\nb1 =\nprint(b1)",
      "metadata": {
        "id": "qYvcve9UOiLt"
      },
      "execution_count": null,
      "outputs": []
    },
    {
      "cell_type": "markdown",
      "source": "- 변수 n2를 부울로 변환하여 변수 b2로 선언하고 확인",
      "metadata": {
        "id": "9yUKacvEPQoO"
      }
    },
    {
      "cell_type": "markdown",
      "source": "[결과 예시]\n\n~~~\nFalse\n~~~",
      "metadata": {
        "id": "nUYW_6_IQMZ8"
      }
    },
    {
      "cell_type": "code",
      "source": "n2 = 0\nb2 =\nprint(b2)",
      "metadata": {
        "id": "Msp2OejWOqBl"
      },
      "execution_count": null,
      "outputs": []
    }
  ]
}