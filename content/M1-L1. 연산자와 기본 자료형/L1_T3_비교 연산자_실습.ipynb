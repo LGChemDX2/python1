{
  "metadata": {
    "colab": {
      "provenance": []
    },
    "kernelspec": {
      "name": "python",
      "display_name": "Python (Pyodide)",
      "language": "python"
    },
    "language_info": {
      "codemirror_mode": {
        "name": "python",
        "version": 3
      },
      "file_extension": ".py",
      "mimetype": "text/x-python",
      "name": "python",
      "nbconvert_exporter": "python",
      "pygments_lexer": "ipython3",
      "version": "3.8"
    }
  },
  "nbformat_minor": 4,
  "nbformat": 4,
  "cells": [
    {
      "cell_type": "markdown",
      "source": "# **Topic 3. 비교 연산자_실습**",
      "metadata": {
        "id": "9vmlUPjgS7F2"
      }
    },
    {
      "cell_type": "markdown",
      "source": "**1) 다음 두 변수에 대해 이어지는 요구에 따라 크고 작음을  비교하세요.**",
      "metadata": {
        "id": "_tiVodJ0Tast"
      }
    },
    {
      "cell_type": "code",
      "source": "num1 = 50\nnum2 = 60",
      "metadata": {
        "id": "x5EhvJu8FG69"
      },
      "execution_count": null,
      "outputs": []
    },
    {
      "cell_type": "markdown",
      "source": "① 변수 num1이 변수 num2와 같다.",
      "metadata": {
        "id": "W58I0gBfGq2s"
      }
    },
    {
      "cell_type": "markdown",
      "source": "[결과 예시]\n\n~~~\nFalse\n~~~",
      "metadata": {
        "id": "Mm13WUsgI3RF"
      }
    },
    {
      "cell_type": "code",
      "source": "print( )",
      "metadata": {
        "id": "hMf4JbRRGq2s"
      },
      "execution_count": null,
      "outputs": []
    },
    {
      "cell_type": "markdown",
      "source": "② 변수 num1이 변수 num2 보다 크다.",
      "metadata": {
        "id": "ESYS5-jyGdkk"
      }
    },
    {
      "cell_type": "markdown",
      "source": "[결과 예시]\n\n~~~\nFalse\n~~~",
      "metadata": {
        "id": "CgnEwpV6JQcl"
      }
    },
    {
      "cell_type": "code",
      "source": "print( )",
      "metadata": {
        "id": "v-OAwlSTGj3L"
      },
      "execution_count": null,
      "outputs": []
    },
    {
      "cell_type": "markdown",
      "source": "③ 변수 num1이 변수 num2 보다 작다.",
      "metadata": {
        "id": "Ehi8DYSvGqq0"
      }
    },
    {
      "cell_type": "markdown",
      "source": "[결과 예시]\n\n~~~\nTrue\n~~~",
      "metadata": {
        "id": "UO6hj95GJQ6L"
      }
    },
    {
      "cell_type": "code",
      "source": "print( )",
      "metadata": {
        "id": "9EQALRrFGqq0"
      },
      "execution_count": null,
      "outputs": []
    },
    {
      "cell_type": "markdown",
      "source": "**2) 다음 두 변수에 대해 이어지는 요구에 따라 크고 작음을  비교하세요.**",
      "metadata": {
        "id": "CnMSN0iPGofN"
      }
    },
    {
      "cell_type": "code",
      "source": "s1 = 'Hello'\ns2 = 'hello'",
      "metadata": {
        "id": "8nXHoLjNG-WC"
      },
      "execution_count": null,
      "outputs": []
    },
    {
      "cell_type": "markdown",
      "source": "① 변수 s1이 변수 s2와 같다.",
      "metadata": {
        "id": "JzIdBH3DHE-c"
      }
    },
    {
      "cell_type": "markdown",
      "source": "[결과 예시]\n\n~~~\nFalse\n~~~",
      "metadata": {
        "id": "npg7IiCEJRhL"
      }
    },
    {
      "cell_type": "code",
      "source": "print( )",
      "metadata": {
        "id": "mxYFC93bHE-c"
      },
      "execution_count": null,
      "outputs": []
    },
    {
      "cell_type": "markdown",
      "source": "② 변수 s1이 변수 s2 보다 크다.",
      "metadata": {
        "id": "eUfSSs07HE-b"
      }
    },
    {
      "cell_type": "markdown",
      "source": "[결과 예시]\n\n~~~\nFalse\n~~~",
      "metadata": {
        "id": "Ba4iA6tpJR28"
      }
    },
    {
      "cell_type": "code",
      "source": "print( )",
      "metadata": {
        "id": "WqxhINJaHE-c"
      },
      "execution_count": null,
      "outputs": []
    },
    {
      "cell_type": "markdown",
      "source": "③ 변수 s1이 변수 s2 보다 작다.",
      "metadata": {
        "id": "hASfm3WVHE-c"
      }
    },
    {
      "cell_type": "markdown",
      "source": "[결과 예시]\n\n~~~\nTrue\n~~~",
      "metadata": {
        "id": "_rhw77l1JSVz"
      }
    },
    {
      "cell_type": "code",
      "source": "print( )",
      "metadata": {
        "id": "_5sC97ssHE-c"
      },
      "execution_count": null,
      "outputs": []
    },
    {
      "cell_type": "markdown",
      "source": "**3) 다음 두 변수에 대해 이어지는 요구에 따라 크고 작음을  비교하세요.**",
      "metadata": {
        "id": "5zQHOpm7H139"
      }
    },
    {
      "cell_type": "code",
      "source": "num1 = 123\nnum2 = 123.0",
      "metadata": {
        "id": "t0lNy6j3H14B"
      },
      "execution_count": null,
      "outputs": []
    },
    {
      "cell_type": "markdown",
      "source": "① 변수 num1이 변수 num2와 다르다.",
      "metadata": {
        "id": "aoU30YAYH14B"
      }
    },
    {
      "cell_type": "markdown",
      "source": "[결과 예시]\n\n~~~\nFalse\n~~~",
      "metadata": {
        "id": "CnEAFI3yJSyb"
      }
    },
    {
      "cell_type": "code",
      "source": "print( )",
      "metadata": {
        "id": "po4QetGTH14B"
      },
      "execution_count": null,
      "outputs": []
    },
    {
      "cell_type": "markdown",
      "source": "② 변수 num1이 변수 num2와 같다.",
      "metadata": {
        "id": "RCEHCXrWH14B"
      }
    },
    {
      "cell_type": "markdown",
      "source": "[결과 예시]\n\n~~~\nTrue\n~~~",
      "metadata": {
        "id": "zjQeejRUJTQ7"
      }
    },
    {
      "cell_type": "code",
      "source": "print( )",
      "metadata": {
        "id": "JUGqrAl-H14B"
      },
      "execution_count": null,
      "outputs": []
    },
    {
      "cell_type": "markdown",
      "source": "**4) 다음 두 변수에 대해 이어지는 수식을 복합 대입 연산자로 작성하고 결과를 확인하세요.**",
      "metadata": {
        "id": "lt_Do9sBJpHE"
      }
    },
    {
      "cell_type": "code",
      "source": "num1 = 10\nnum2 = 20",
      "metadata": {
        "id": "qhyUAQLVJpHF"
      },
      "execution_count": null,
      "outputs": []
    },
    {
      "cell_type": "markdown",
      "source": "① num1 = num1 + 20",
      "metadata": {
        "id": "ID5N-XSVJ4jW"
      }
    },
    {
      "cell_type": "markdown",
      "source": "[결과 예시]\n\n~~~\n30\n~~~",
      "metadata": {
        "id": "8edvuj8-K70L"
      }
    },
    {
      "cell_type": "code",
      "source": "\nprint(num1)",
      "metadata": {
        "id": "u0L3qFUvJ7fq"
      },
      "execution_count": null,
      "outputs": []
    },
    {
      "cell_type": "markdown",
      "source": "② num2 = num2 - num1",
      "metadata": {
        "id": "ueKvs9NzJ8L-"
      }
    },
    {
      "cell_type": "markdown",
      "source": "[결과 예시]\n\n~~~\n-10\n~~~",
      "metadata": {
        "id": "9e72DddHK7cj"
      }
    },
    {
      "cell_type": "code",
      "source": "\nprint(num2)",
      "metadata": {
        "id": "0AAjYrFuKBN1"
      },
      "execution_count": null,
      "outputs": []
    },
    {
      "cell_type": "markdown",
      "source": "③ num1 = num1 * num2",
      "metadata": {
        "id": "UwdLsny4KCoe"
      }
    },
    {
      "cell_type": "markdown",
      "source": "[결과 예시]\n\n~~~\n-300\n~~~",
      "metadata": {
        "id": "aG_aqKL_K7AL"
      }
    },
    {
      "cell_type": "code",
      "source": "\nprint(num1)",
      "metadata": {
        "id": "KZ03O_XtKFvV"
      },
      "execution_count": null,
      "outputs": []
    },
    {
      "cell_type": "markdown",
      "source": "④ num2 = num2 / -2",
      "metadata": {
        "id": "rnhkSRqzKiLp"
      }
    },
    {
      "cell_type": "markdown",
      "source": "[결과 예시]\n\n~~~\n5.0\n~~~",
      "metadata": {
        "id": "T354ZRhDK3Kx"
      }
    },
    {
      "cell_type": "code",
      "source": "\nprint(num2)",
      "metadata": {
        "id": "8iBjHXcnKmdE"
      },
      "execution_count": null,
      "outputs": []
    }
  ]
}